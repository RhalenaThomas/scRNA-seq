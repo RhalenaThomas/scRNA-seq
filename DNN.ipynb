{
  "nbformat": 4,
  "nbformat_minor": 0,
  "metadata": {
    "colab": {
      "name": "DNN.ipynb",
      "provenance": [],
      "collapsed_sections": [],
      "machine_shape": "hm",
      "authorship_tag": "ABX9TyP+Vc7JCnmMJHx9jtGC4vCe",
      "include_colab_link": true
    },
    "kernelspec": {
      "name": "python3",
      "display_name": "Python 3"
    },
    "language_info": {
      "name": "python"
    },
    "accelerator": "GPU",
    "gpuClass": "standard"
  },
  "cells": [
    {
      "cell_type": "markdown",
      "metadata": {
        "id": "view-in-github",
        "colab_type": "text"
      },
      "source": [
        "<a href=\"https://colab.research.google.com/github/jialun1221/scRNA-seq/blob/main/DNN.ipynb\" target=\"_parent\"><img src=\"https://colab.research.google.com/assets/colab-badge.svg\" alt=\"Open In Colab\"/></a>"
      ]
    },
    {
      "cell_type": "markdown",
      "source": [
        "####Install packages"
      ],
      "metadata": {
        "id": "epFreSwjBIDy"
      }
    },
    {
      "cell_type": "code",
      "execution_count": null,
      "metadata": {
        "id": "TJo2ZerTq-Uf"
      },
      "outputs": [],
      "source": [
        "!pip3 install torch torchvision matplotlib\n",
        "!pip3 install --upgrade pillow==8.1.0\n",
        "\n",
        "import sys\n",
        "#if branch is stable, will install via pypi, else will install from source\n",
        "branch = \"stable\"\n",
        "IN_COLAB = \"google.colab\" in sys.modules\n",
        "\n",
        "if IN_COLAB and branch == \"stable\":\n",
        "    !pip install --quiet scvi-tools[tutorials]\n",
        "elif IN_COLAB and branch != \"stable\":\n",
        "    !pip install --quiet --upgrade jsonschema\n",
        "    !pip install --quiet git+https://github.com/yoseflab/scvi-tools@$branch#egg=scvi-tools[tutorials]"
      ]
    },
    {
      "cell_type": "code",
      "source": [
        "import scvi\n",
        "import scanpy as sc\n",
        "import pandas as pd\n",
        "import numpy as np"
      ],
      "metadata": {
        "id": "EOAnoqxNHnwZ",
        "colab": {
          "base_uri": "https://localhost:8080/"
        },
        "outputId": "83b3c0c8-0bc0-4e60-f454-46e52b3aad16"
      },
      "execution_count": null,
      "outputs": [
        {
          "output_type": "stream",
          "name": "stderr",
          "text": [
            "INFO:pytorch_lightning.utilities.seed:Global seed set to 0\n"
          ]
        }
      ]
    },
    {
      "cell_type": "code",
      "source": [
        "import importlib\n",
        "required_libraries = ['torch', 'torchvision', 'PIL', 'matplotlib', \n",
        "                      'numpy', 'pandas']\n",
        "for lib in required_libraries:\n",
        "    if importlib.util.find_spec(lib) is None:\n",
        "        print(\"%s unavailable\" % lib)\n",
        "\n",
        "import matplotlib.pyplot as plt\n",
        "%matplotlib inline"
      ],
      "metadata": {
        "id": "BnSAdjAIy4c8"
      },
      "execution_count": null,
      "outputs": []
    },
    {
      "cell_type": "code",
      "source": [
        "from google.colab import drive\n",
        "drive.mount('/content/drive')"
      ],
      "metadata": {
        "colab": {
          "base_uri": "https://localhost:8080/"
        },
        "id": "vLmlNWphKIpc",
        "outputId": "ff5e95c3-5aac-435b-f7f7-306989cb727e"
      },
      "execution_count": null,
      "outputs": [
        {
          "output_type": "stream",
          "name": "stdout",
          "text": [
            "Mounted at /content/drive\n"
          ]
        }
      ]
    },
    {
      "cell_type": "code",
      "source": [
        "! cd drive\n",
        "! ls drive/MyDrive/lily\\ ml/\n",
        "! ls drive/MyDrive/pd_astro-2.h5ad"
      ],
      "metadata": {
        "colab": {
          "base_uri": "https://localhost:8080/"
        },
        "id": "8-XjXtC-IbwG",
        "outputId": "e497bec6-b6d8-47d3-9db6-163ee422b864"
      },
      "execution_count": null,
      "outputs": [
        {
          "output_type": "stream",
          "name": "stdout",
          "text": [
            "drive/MyDrive/pd_astro-2.h5ad\n"
          ]
        }
      ]
    },
    {
      "cell_type": "code",
      "source": [
        "adata = scvi.data.read_h5ad(\"drive/MyDrive/pca_in_obsm.h5ad\")"
      ],
      "metadata": {
        "id": "AERd7kwOle3L"
      },
      "execution_count": null,
      "outputs": []
    },
    {
      "cell_type": "code",
      "source": [
        "b = scvi.data.read_h5ad(\"drive/MyDrive/pd_astro-2.h5ad\")"
      ],
      "metadata": {
        "id": "BH9tRgciByjO"
      },
      "execution_count": null,
      "outputs": []
    },
    {
      "cell_type": "code",
      "source": [
        "#Dimension check. Should have n_obs × n_vars = 7491 x 3849 \n",
        "print(adata) "
      ],
      "metadata": {
        "id": "wvS4YDjIloji",
        "colab": {
          "base_uri": "https://localhost:8080/"
        },
        "outputId": "a44660d6-c0bb-41d4-af22-b36b15847160"
      },
      "execution_count": null,
      "outputs": [
        {
          "output_type": "stream",
          "name": "stdout",
          "text": [
            "AnnData object with n_obs × n_vars = 7491 × 3849\n",
            "    obs: 'index', 'orig.ident', 'nCount_RNA', 'nFeature_RNA', 'Cell_Subtype', 'Cell_Type', 'disease__ontology_label', 'organ__ontology_label', 'n_genes', 'n_genes_by_counts', 'total_counts', 'total_counts_mt', 'pct_counts_mt', 'log1p_n_genes_by_counts', 'log1p_total_counts', 'pct_counts_in_top_50_genes', 'pct_counts_in_top_100_genes', 'pct_counts_in_top_200_genes', 'pct_counts_in_top_500_genes', 'total_counts_mito', 'log1p_total_counts_mito', 'pct_counts_mito'\n",
            "    var: 'features', 'n_cells', 'mt', 'n_cells_by_counts', 'mean_counts', 'pct_dropout_by_counts', 'total_counts', 'mito', 'log1p_mean_counts', 'log1p_total_counts', 'highly_variable', 'means', 'dispersions', 'dispersions_norm', 'mean', 'std'\n",
            "    uns: 'hvg', 'log1p', 'pca'\n",
            "    obsm: 'X_pca'\n",
            "    varm: 'PCs'\n"
          ]
        }
      ]
    },
    {
      "cell_type": "code",
      "source": [
        "adata.obs"
      ],
      "metadata": {
        "id": "NlJqvSNmCklB"
      },
      "execution_count": null,
      "outputs": []
    },
    {
      "cell_type": "markdown",
      "source": [
        "####**Select out your training data and labels, slightly modify it for training.**"
      ],
      "metadata": {
        "id": "Ba1zbb1mC-0y"
      }
    },
    {
      "cell_type": "code",
      "source": [
        "adata.obs = adata.obs.reset_index() #reset the index for X, so the column number starts from 0"
      ],
      "metadata": {
        "id": "vNBDdJpf7Tnm"
      },
      "execution_count": null,
      "outputs": []
    },
    {
      "cell_type": "code",
      "source": [
        "X = pd.DataFrame(adata.obsm['X_pca'])\n",
        "y = adata.obs['disease__ontology_label'].replace({\"normal\": \"0\", \"Parkinson disease\": \"1\"})"
      ],
      "metadata": {
        "id": "54OrIxpRC90N"
      },
      "execution_count": null,
      "outputs": []
    },
    {
      "cell_type": "markdown",
      "source": [
        "\n",
        "\n",
        "```\n",
        "scRNAdf_X = pd.DataFrame(adata.X)\n",
        "scRNAdf_Y = adata.obs['disease__ontology_label'].reset_index()\n",
        "scRNAdf = scRNAdf_X.join(scRNAdf_Y) \n",
        "no_index = scRNAdf.drop('index', axis=1)\n",
        "type(no_index)\n",
        "newdf = no_index.drop(index=no_index[no_index['disease__ontology_label'].str.contains('Lewy body dementia')].index)\n",
        "newdf[\"disease__ontology_label\"] = newdf[\"disease__ontology_label\"].replace({\"normal\": \"0\", \"Parkinson disease\": \"1\"})\n",
        "X = newdf[list(newdf.columns[0:3799])]\n",
        "y = newdf['disease__ontology_label']\n",
        "print(X.shape, y.shape)\n",
        "print(X)\n",
        "```\n",
        "\n"
      ],
      "metadata": {
        "id": "ZWhMjAl0D-uC"
      }
    },
    {
      "cell_type": "markdown",
      "source": [
        "####Set up the testing/training set."
      ],
      "metadata": {
        "id": "ep3KxpLxED5B"
      }
    },
    {
      "cell_type": "code",
      "source": [
        "import torch\n",
        "import numpy as np\n",
        "import torch.nn as nn\n",
        "import torch.nn.functional as F\n",
        "import torch.optim as optim\n",
        "import torchvision\n",
        "import scanpy as sc\n",
        "\n",
        "from torch.utils.data import TensorDataset\n",
        "\n",
        "use_gpu = torch.cuda.is_available()\n",
        "device = torch.device(\"cuda:0\" if use_gpu else \"cpu\")\n",
        "\n",
        "print(\"Torch version: \", torch.__version__)\n",
        "print(\"GPU Available: {}\".format(use_gpu))"
      ],
      "metadata": {
        "colab": {
          "base_uri": "https://localhost:8080/"
        },
        "id": "x-wnpcdcy8lv",
        "outputId": "dec010b9-0db4-4e1b-e408-3bd49ded7751"
      },
      "execution_count": null,
      "outputs": [
        {
          "output_type": "stream",
          "name": "stdout",
          "text": [
            "Torch version:  1.12.1+cu113\n",
            "GPU Available: True\n"
          ]
        }
      ]
    },
    {
      "cell_type": "code",
      "source": [
        "seed = 4321\n",
        "np.random.seed(seed) # Set the random seed of numpy for the data split.\n",
        "torch.manual_seed(seed)\n",
        "torch.cuda.manual_seed(seed)"
      ],
      "metadata": {
        "id": "uji5Alhty-GI"
      },
      "execution_count": null,
      "outputs": []
    },
    {
      "cell_type": "code",
      "source": [
        "#TO-DO: Cross validation"
      ],
      "metadata": {
        "id": "a9Tck6RsJgIK"
      },
      "execution_count": null,
      "outputs": []
    },
    {
      "cell_type": "code",
      "source": [
        "from numpy import mean\n",
        "from numpy import std\n",
        "from sklearn.datasets import make_classification\n",
        "from sklearn.model_selection import cross_val_score\n",
        "from sklearn.linear_model import LogisticRegression"
      ],
      "metadata": {
        "id": "sTenrDuQ5S3y"
      },
      "execution_count": null,
      "outputs": []
    },
    {
      "cell_type": "code",
      "source": [
        "#train test split\n",
        "from sklearn.model_selection import train_test_split\n",
        "X_train, X_test, y_train, y_test = train_test_split(X, y, test_size=0.2, random_state=0)"
      ],
      "metadata": {
        "id": "qE7nOdKOvgVD"
      },
      "execution_count": null,
      "outputs": []
    },
    {
      "cell_type": "code",
      "source": [
        "print(X_train.shape, X_test.shape, y_train.shape, y_test.shape)\n",
        "print(type(X_train), type(X_test), type(y_train), type(y_test))"
      ],
      "metadata": {
        "colab": {
          "base_uri": "https://localhost:8080/"
        },
        "id": "HzDEpaRav__D",
        "outputId": "449d6109-554e-4525-9e1c-329771ea279e"
      },
      "execution_count": null,
      "outputs": [
        {
          "output_type": "stream",
          "name": "stdout",
          "text": [
            "(5992, 50) (1499, 50) (5992,) (1499,)\n",
            "<class 'pandas.core.frame.DataFrame'> <class 'pandas.core.frame.DataFrame'> <class 'pandas.core.series.Series'> <class 'pandas.core.series.Series'>\n"
          ]
        }
      ]
    },
    {
      "cell_type": "markdown",
      "source": [
        "Take some data from test set for validation."
      ],
      "metadata": {
        "id": "n96glMAbJnUq"
      }
    },
    {
      "cell_type": "code",
      "source": [
        "#Get the validation dataset splitted\n",
        "X_val = X_test.head(499)\n",
        "X_test = X_test.tail(1000)\n",
        "y_val = y_test.head(499)\n",
        "y_test = y_test.tail(1000)\n",
        "print(X_val.shape, X_test.shape, y_val.shape, y_test.shape)"
      ],
      "metadata": {
        "id": "c8JA92klxEY-",
        "colab": {
          "base_uri": "https://localhost:8080/"
        },
        "outputId": "a3334323-16ad-4624-b922-049e987b254c"
      },
      "execution_count": null,
      "outputs": [
        {
          "output_type": "stream",
          "name": "stdout",
          "text": [
            "(499, 50) (1000, 50) (499,) (1000,)\n"
          ]
        }
      ]
    },
    {
      "cell_type": "code",
      "source": [
        "# Type conversion\n",
        "X_val = X_val.astype(np.float64)\n",
        "y_val = y_val.astype(np.float64)"
      ],
      "metadata": {
        "id": "xcXm4jZKvJDK"
      },
      "execution_count": null,
      "outputs": []
    },
    {
      "cell_type": "code",
      "source": [
        "X_val = X_val.to_numpy()\n",
        "y_val = y_val.to_numpy()"
      ],
      "metadata": {
        "id": "P_XCd8O-wX0k"
      },
      "execution_count": null,
      "outputs": []
    },
    {
      "cell_type": "code",
      "source": [
        "#Check point\n",
        "print(type(X_val), type(y_val)) #Should be numpy array\n",
        "print(X_val, y_val)\n",
        "print(X_val.shape, y_val.shape) #Should be (499, 50) (499,)"
      ],
      "metadata": {
        "id": "40R1jP9awajr"
      },
      "execution_count": null,
      "outputs": []
    },
    {
      "cell_type": "markdown",
      "source": [
        "**Note** <div>\n",
        "\n",
        "SoftMax requires a 2x1 matrix for the label. We turn the above `y_val`, `y_train` and `y_test` numpy array into a matrix."
      ],
      "metadata": {
        "id": "PS8-9_43Ks5c"
      }
    },
    {
      "cell_type": "code",
      "source": [
        "y_val = np.stack([y_val, 1-y_val])\n",
        "y_val = y_val.transpose()\n",
        "print(y_val)"
      ],
      "metadata": {
        "id": "_Gv6VXBaO0ct"
      },
      "execution_count": null,
      "outputs": []
    },
    {
      "cell_type": "code",
      "source": [
        "y_train = y_train.astype(np.float64)\n",
        "type(y_train)"
      ],
      "metadata": {
        "id": "84omkP1wy0jh"
      },
      "execution_count": null,
      "outputs": []
    },
    {
      "cell_type": "code",
      "source": [
        "y_train = np.stack([y_train, 1-y_train])\n",
        "y_train = y_train.transpose()\n",
        "print(y_train)"
      ],
      "metadata": {
        "colab": {
          "base_uri": "https://localhost:8080/"
        },
        "id": "l8IP1r2UPjAH",
        "outputId": "10d596a6-65e5-4bf7-ac1e-7ae5e51fa5d0"
      },
      "execution_count": null,
      "outputs": [
        {
          "output_type": "stream",
          "name": "stdout",
          "text": [
            "[[1. 0.]\n",
            " [0. 1.]\n",
            " [1. 0.]\n",
            " ...\n",
            " [1. 0.]\n",
            " [1. 0.]\n",
            " [1. 0.]]\n"
          ]
        }
      ]
    },
    {
      "cell_type": "code",
      "source": [
        "y_test = y_test.astype(np.float64)"
      ],
      "metadata": {
        "id": "C76eBe4gzoe6"
      },
      "execution_count": null,
      "outputs": []
    },
    {
      "cell_type": "code",
      "source": [
        "y_test = np.stack([y_test, 1-y_test])\n",
        "y_test = y_test.transpose()\n",
        "print(y_test)"
      ],
      "metadata": {
        "colab": {
          "base_uri": "https://localhost:8080/"
        },
        "id": "2dshrxOkPsDP",
        "outputId": "70749c27-d603-453f-b991-bfeeb795098e"
      },
      "execution_count": null,
      "outputs": [
        {
          "output_type": "stream",
          "name": "stdout",
          "text": [
            "[[0. 1.]\n",
            " [0. 1.]\n",
            " [0. 1.]\n",
            " ...\n",
            " [1. 0.]\n",
            " [1. 0.]\n",
            " [0. 1.]]\n"
          ]
        }
      ]
    },
    {
      "cell_type": "code",
      "source": [
        "X_train = X_train.to_numpy()\n",
        "X_test = X_test.to_numpy()"
      ],
      "metadata": {
        "id": "O6N787Mgz7Ga"
      },
      "execution_count": null,
      "outputs": []
    },
    {
      "cell_type": "markdown",
      "source": [
        "I got everthing :)\n",
        "\n"
      ],
      "metadata": {
        "id": "_pHHM-4rvgS2"
      }
    },
    {
      "cell_type": "code",
      "source": [
        "#the real train and test dataset\n",
        "train_dataset = TensorDataset(torch.from_numpy(X_train).float(), torch.from_numpy(y_train).long())\n",
        "val_dataset = TensorDataset(torch.from_numpy(X_val).float(), torch.from_numpy(y_val).long())\n",
        "test_dataset = TensorDataset(torch.from_numpy(X_test).float(), torch.from_numpy(y_test).long())"
      ],
      "metadata": {
        "id": "tozHiLApvSSt"
      },
      "execution_count": null,
      "outputs": []
    },
    {
      "cell_type": "markdown",
      "source": [
        "####Set up the model."
      ],
      "metadata": {
        "id": "OsBhh2eTMuRD"
      }
    },
    {
      "cell_type": "code",
      "source": [
        "class NeuralNet(nn.Module):\n",
        "    def __init__(self):\n",
        "      super(NeuralNet, self).__init__()\n",
        "      self.n = X_train.shape[1] #number of rows\n",
        "        \n",
        "      self.fc1 = nn.Linear(self.n, int(self.n/2))\n",
        "      self.fc2 = nn.Linear(int(self.n/2), int(self.n/4))\n",
        "      #self.fc3 = nn.Linear(int(len(X_train)/4),int(len(X_train)/8))\n",
        "      self.output = nn.Linear(int(self.n/4), 2)\n",
        "        \n",
        "      # this are defining the layers and the hyper paramters that means the \n",
        "      # conditions to compare\n",
        "    \n",
        "    def forward(self, x):      \n",
        "      x = F.relu(self.fc1(x))\n",
        "      x = F.relu(self.fc2(x))\n",
        "      #x = F.relu(self.fc3(x))\n",
        "      out = self.output(x)   # the RelU is non linearity that removes all negative values and shouldn't be used right before softmax\n",
        "      return out\n",
        "\n",
        "    def print(self):\n",
        "        return self.fc1\n",
        "    \n",
        "A = NeuralNet()\n",
        "A.print()\n",
        "      # here we are telling the model how to pass the information from on layer to the next\n",
        "      #in pytorch we do not explain the graph traveral method as this computational graph is automatically defined"
      ],
      "metadata": {
        "id": "Jt1wt4oxzzxu",
        "colab": {
          "base_uri": "https://localhost:8080/"
        },
        "outputId": "b9c0eb4a-4549-44ad-edb7-305c73f26881"
      },
      "execution_count": null,
      "outputs": [
        {
          "output_type": "execute_result",
          "data": {
            "text/plain": [
              "Linear(in_features=50, out_features=25, bias=True)"
            ]
          },
          "metadata": {},
          "execution_count": 36
        }
      ]
    },
    {
      "cell_type": "code",
      "source": [
        "# Model definition - we definited above here we initiate a model\n",
        "neural_net = NeuralNet()\n",
        "neural_net = neural_net.to(device) #We create an instance of NeuralNetwork, and move it to the device, and print its structure.\n",
        "\n",
        "# Evaluation mode activation\n",
        "neural_net = neural_net.eval()\n",
        "\n",
        "# Select the first 5 data points the name of the model is data\n",
        "data, target = test_dataset[0:5]\n",
        "\n",
        "data = data.to(device)\n",
        "target = target.to(device)\n",
        "\n",
        "# Forward propagation of the data through the model\n",
        "output = neural_net(data)   # equivalent to neural_net.forward(data)\n",
        "print(\"output\",output)\n",
        "# Convert the logits into probabilities with softmax function\n",
        "output_proba = F.softmax(output,dim=1)  # the dimension is to normalize over the outcome, over rows or columns 0 will be incorrect and sum over columns\n",
        "\n",
        "# Printing the probability\n",
        "print(output_proba)"
      ],
      "metadata": {
        "id": "YH3L5Hp0z1Qx"
      },
      "execution_count": null,
      "outputs": []
    },
    {
      "cell_type": "code",
      "source": [
        "_, prediction = torch.max(output_proba, dim=1)\n",
        "\n",
        "print('Model prediction')\n",
        "print(prediction)\n",
        "\n",
        "# Printing the real labels\n",
        "print(\"Actual data\")\n",
        "print(target)"
      ],
      "metadata": {
        "id": "lTA1yyfPz1H7",
        "colab": {
          "base_uri": "https://localhost:8080/"
        },
        "outputId": "18affe5f-fd81-41ed-d041-be8dcce51adb"
      },
      "execution_count": null,
      "outputs": [
        {
          "output_type": "stream",
          "name": "stdout",
          "text": [
            "Model prediction\n",
            "tensor([1, 1, 0, 0, 1], device='cuda:0')\n",
            "Actual data\n",
            "tensor([[0, 1],\n",
            "        [0, 1],\n",
            "        [0, 1],\n",
            "        [1, 0],\n",
            "        [1, 0]], device='cuda:0')\n"
          ]
        }
      ]
    },
    {
      "cell_type": "code",
      "source": [
        "def loss_function(prediction, target):\n",
        "    loss = F.cross_entropy(prediction, target)\n",
        "    return loss"
      ],
      "metadata": {
        "id": "DF80PJsez3yh"
      },
      "execution_count": null,
      "outputs": []
    },
    {
      "cell_type": "markdown",
      "source": [
        "Using [Adam Optimizer](https://pythonguides.com/adam-optimizer-pytorch/)"
      ],
      "metadata": {
        "id": "RE1WxHbYSScP"
      }
    },
    {
      "cell_type": "code",
      "source": [
        "optimizer = optim.Adam(neural_net.parameters(), lr=0.001) "
      ],
      "metadata": {
        "id": "xIdXhHBNz4vK"
      },
      "execution_count": null,
      "outputs": []
    },
    {
      "cell_type": "code",
      "source": [
        "train_batch_size = 32  # number of data in a training batch.\n",
        "eval_batch_size = 32   # number of data in an batch.\n",
        "\n",
        "\n",
        "train_loader = torch.utils.data.DataLoader(train_dataset, batch_size=train_batch_size, shuffle=True)\n",
        "val_loader   = torch.utils.data.DataLoader(val_dataset, batch_size=eval_batch_size, shuffle=False)\n",
        "test_loader  = torch.utils.data.DataLoader(test_dataset, batch_size=eval_batch_size, shuffle=False)"
      ],
      "metadata": {
        "id": "hfTFfF74z5xD"
      },
      "execution_count": null,
      "outputs": []
    },
    {
      "cell_type": "code",
      "source": [
        "def train(epoch, model, train_loader, optimizer, device):\n",
        "    \n",
        "    # activate the training mode\n",
        "    model.train()\n",
        "    \n",
        "    torch.set_grad_enabled(True)\n",
        "    \n",
        "    total_loss = 0\n",
        "    correct = 0\n",
        "    \n",
        "    # iteration over the mini-batches\n",
        "    for batch_idx, (data, target) in enumerate(train_loader):\n",
        "        \n",
        "        # transfer the data on the chosen device\n",
        "        data, target = data.to(device), target.to(device)\n",
        "        target=target.float()\n",
        "\n",
        "        # reinitialize the gradients to zero\n",
        "        optimizer.zero_grad()\n",
        "        \n",
        "        # forward propagation on the data\n",
        "        prediction = model(data)\n",
        "        \n",
        "        # compute the loss function w.r.t. the targets \n",
        "        loss = loss_function(prediction, target)\n",
        "        \n",
        "        # execute the backpropagation\n",
        "        loss.backward()\n",
        "        \n",
        "        # execute an optimization step\n",
        "        optimizer.step()\n",
        "        \n",
        "        # accumulate the loss\n",
        "        total_loss += loss.item()*len(data)\n",
        "        # we multiply by the length of the data incase the last minibatch is smaller we are 'denormalizing' so that a small batch isn't overweighted\n",
        "        \n",
        "        # compute the number of correct predictions\n",
        "        _, pred_classes = torch.max(prediction, dim=1)\n",
        "        _, target_classes = torch.max(target, dim=1)\n",
        "\n",
        "        #print(pred_classes)      \n",
        "        #print(type(pred_classes))  \n",
        "        #print(pred_classes.shape)\n",
        "\n",
        "        #print(prediction.shape)\n",
        "        correct += int(pred_classes.eq(target_classes).sum().item())\n",
        "        # print('pred', prediction)\n",
        "        # print('target', target)\n",
        "        # print('correct', correct)\n",
        "        #print(prediction.shape)\n",
        "\n",
        "    # compute the average loss per epoch\n",
        "    mean_loss = total_loss/len(train_loader.dataset)\n",
        "  \n",
        "    # compute the accuracy\n",
        "    acc = correct / len(train_loader.dataset)\n",
        "\n",
        "    print('Train Epoch: {}   Avg_Loss: {:.5f}   Acc: {}/{} ({:.3f}%)'.format(\n",
        "        epoch, mean_loss, correct, len(train_loader.dataset),\n",
        "        100. * acc))   \n",
        "    \n",
        "    # return the average loss and the accuracy\n",
        "    return mean_loss, acc"
      ],
      "metadata": {
        "id": "86YhWjbMz6vB"
      },
      "execution_count": null,
      "outputs": []
    },
    {
      "cell_type": "code",
      "source": [
        "# Evaluation Procedure\n",
        "def evaluate(model, eval_loader, device):\n",
        "    \n",
        "    # activate the evaluation mode\n",
        "    model.eval()\n",
        "    \n",
        "    total_loss = 0\n",
        "    correct = 0\n",
        "    \n",
        "    with torch.no_grad():\n",
        "    # we don't need to compute the gradient graph it using too much compuatation\n",
        "        # iterate over the batches\n",
        "        for batch_idx, (data, target) in enumerate(eval_loader):\n",
        "\n",
        "            # transfer the data on the chosen device\n",
        "            data, target = data.to(device), target.to(device)\n",
        "            target=target.float()\n",
        "\n",
        "            # forward propagation on the data\n",
        "            prediction = model(data)\n",
        "\n",
        "            # compute the loss function w.r.t. the targets\n",
        "            loss = loss_function(prediction, target)           \n",
        "\n",
        "            # accumulate the loss\n",
        "            total_loss += loss.item()*len(data)\n",
        "\n",
        "            # compute the number of correct predictions en sortie)\n",
        "            _, pred_classes = torch.max(prediction, dim=1)\n",
        "            _, target_classes = torch.max(target, dim=1)\n",
        "\n",
        "            correct += int(pred_classes.eq(target_classes).sum().item())         \n",
        "          \n",
        "    \n",
        "    # compute the average loss per epoch\n",
        "    mean_loss = total_loss/len(eval_loader.dataset)\n",
        "    \n",
        "    # compute the accuracy\n",
        "    acc = correct / len(eval_loader.dataset)\n",
        "\n",
        "    print('Eval:  Avg_Loss: {:.5f}   Acc: {}/{} ({:.3f}%)'.format(\n",
        "        mean_loss, correct, len(eval_loader.dataset),\n",
        "        100. * acc)) \n",
        "    \n",
        "    # return the average loss and the accuracy\n",
        "    return mean_loss, acc"
      ],
      "metadata": {
        "id": "0ek3ckGwz73b"
      },
      "execution_count": null,
      "outputs": []
    },
    {
      "cell_type": "code",
      "source": [
        "def save_model(epoch, model, path='./'):\n",
        "    \n",
        "    # creating the file name indexed by the epoch value\n",
        "    filename = path + 'neural_network_{}.pt'.format(epoch)\n",
        "    \n",
        "    # saving the model parameters\n",
        "    torch.save(model.state_dict(), filename)\n",
        "    \n",
        "    return model"
      ],
      "metadata": {
        "id": "L1UPv-yaz9ZF"
      },
      "execution_count": null,
      "outputs": []
    },
    {
      "cell_type": "code",
      "source": [
        "def load_model(epoch, model, path='./'):\n",
        "    \n",
        "    # creating the file name indexed by the epoch value\n",
        "    filename = path + 'neural_network_{}.pt'.format(epoch)\n",
        "    \n",
        "    # loading the parameters of the saved model\n",
        "    model.load_state_dict(torch.load(filename))\n",
        "    \n",
        "    return model"
      ],
      "metadata": {
        "id": "TxKebOv9z-QV"
      },
      "execution_count": null,
      "outputs": []
    },
    {
      "cell_type": "code",
      "source": [
        "from tqdm import tqdm"
      ],
      "metadata": {
        "id": "cCFH4ajcz_O0"
      },
      "execution_count": null,
      "outputs": []
    },
    {
      "cell_type": "code",
      "source": [
        "# maximum number of epoch\n",
        "numEpochs = 15\n",
        "\n",
        "# Saving frequency\n",
        "checkpoint_freq = 10\n",
        "\n",
        "# Directory for data backup - save the model during training\n",
        "path = './'\n",
        "\n",
        "# Accumulators of average losses obtained per epoch to visualize training curve\n",
        "train_losses = []\n",
        "val_losses = []\n",
        "\n",
        "# Performance accumulators per epoch\n",
        "train_accuracies = []\n",
        "val_accuracies = []\n",
        "\n",
        "# Model definition\n",
        "neural_net = NeuralNet()\n",
        "\n",
        "# Load the model on the chosen device\n",
        "neural_net = neural_net.to(device)\n",
        "\n",
        "# Optimizer definition\n",
        "optimizer = optim.Adam(neural_net.parameters(), lr=0.001) \n",
        "# optimizer = optim.SGD(neural_net.parameters(), lr=0.001) \n",
        "\n",
        "# Learning loop\n",
        "for epoch in tqdm(range(1, numEpochs + 1)):\n",
        "    \n",
        "    # train the model with the train dataset\n",
        "    # inner loop one step \n",
        "    train_loss, train_acc = train(epoch, neural_net, train_loader, optimizer, device)   \n",
        "   \n",
        "    # evaluate the model with the validation dataset\n",
        "    val_loss, val_acc = evaluate(neural_net, val_loader, device)       \n",
        "    \n",
        "    # Save the losses obtained\n",
        "    train_losses.append(train_loss)    \n",
        "    val_losses.append(val_loss)\n",
        "    \n",
        "    # Save the performances\n",
        "    train_accuracies.append(train_acc)    \n",
        "    val_accuracies.append(val_acc)\n",
        "    \n",
        "    # Checkpoint\n",
        "    if epoch % checkpoint_freq ==0:\n",
        "        save_model(epoch, neural_net, path)\n",
        "\n",
        "# Save the model at the end of the training\n",
        "save_model(numEpochs, neural_net, path)\n",
        "    \n",
        "print(\"\\n\\n\\nOptimization ended.\\n\")    "
      ],
      "metadata": {
        "id": "afWetSS90AHU",
        "colab": {
          "base_uri": "https://localhost:8080/"
        },
        "outputId": "128b2702-72e5-4618-cf6d-0c7f5ec60eda"
      },
      "execution_count": null,
      "outputs": [
        {
          "output_type": "stream",
          "name": "stderr",
          "text": [
            "  7%|▋         | 1/15 [00:00<00:05,  2.43it/s]"
          ]
        },
        {
          "output_type": "stream",
          "name": "stdout",
          "text": [
            "Train Epoch: 1   Avg_Loss: 0.35637   Acc: 5165/5992 (86.198%)\n",
            "Eval:  Avg_Loss: 0.11388   Acc: 479/499 (95.992%)\n"
          ]
        },
        {
          "output_type": "stream",
          "name": "stderr",
          "text": [
            "\r 13%|█▎        | 2/15 [00:00<00:04,  2.66it/s]"
          ]
        },
        {
          "output_type": "stream",
          "name": "stdout",
          "text": [
            "Train Epoch: 2   Avg_Loss: 0.07023   Acc: 5843/5992 (97.513%)\n",
            "Eval:  Avg_Loss: 0.09273   Acc: 481/499 (96.393%)\n"
          ]
        },
        {
          "output_type": "stream",
          "name": "stderr",
          "text": [
            "\r 20%|██        | 3/15 [00:01<00:04,  2.74it/s]"
          ]
        },
        {
          "output_type": "stream",
          "name": "stdout",
          "text": [
            "Train Epoch: 3   Avg_Loss: 0.05032   Acc: 5882/5992 (98.164%)\n",
            "Eval:  Avg_Loss: 0.09574   Acc: 484/499 (96.994%)\n"
          ]
        },
        {
          "output_type": "stream",
          "name": "stderr",
          "text": [
            "\r 27%|██▋       | 4/15 [00:01<00:03,  2.80it/s]"
          ]
        },
        {
          "output_type": "stream",
          "name": "stdout",
          "text": [
            "Train Epoch: 4   Avg_Loss: 0.04108   Acc: 5894/5992 (98.364%)\n",
            "Eval:  Avg_Loss: 0.09700   Acc: 483/499 (96.794%)\n"
          ]
        },
        {
          "output_type": "stream",
          "name": "stderr",
          "text": [
            "\r 33%|███▎      | 5/15 [00:01<00:03,  2.80it/s]"
          ]
        },
        {
          "output_type": "stream",
          "name": "stdout",
          "text": [
            "Train Epoch: 5   Avg_Loss: 0.03186   Acc: 5915/5992 (98.715%)\n",
            "Eval:  Avg_Loss: 0.09113   Acc: 485/499 (97.194%)\n"
          ]
        },
        {
          "output_type": "stream",
          "name": "stderr",
          "text": [
            "\r 40%|████      | 6/15 [00:02<00:03,  2.82it/s]"
          ]
        },
        {
          "output_type": "stream",
          "name": "stdout",
          "text": [
            "Train Epoch: 6   Avg_Loss: 0.02626   Acc: 5936/5992 (99.065%)\n",
            "Eval:  Avg_Loss: 0.09353   Acc: 484/499 (96.994%)\n"
          ]
        },
        {
          "output_type": "stream",
          "name": "stderr",
          "text": [
            "\r 47%|████▋     | 7/15 [00:02<00:02,  2.83it/s]"
          ]
        },
        {
          "output_type": "stream",
          "name": "stdout",
          "text": [
            "Train Epoch: 7   Avg_Loss: 0.02065   Acc: 5948/5992 (99.266%)\n",
            "Eval:  Avg_Loss: 0.09615   Acc: 486/499 (97.395%)\n"
          ]
        },
        {
          "output_type": "stream",
          "name": "stderr",
          "text": [
            "\r 53%|█████▎    | 8/15 [00:02<00:02,  2.81it/s]"
          ]
        },
        {
          "output_type": "stream",
          "name": "stdout",
          "text": [
            "Train Epoch: 8   Avg_Loss: 0.01673   Acc: 5961/5992 (99.483%)\n",
            "Eval:  Avg_Loss: 0.09694   Acc: 485/499 (97.194%)\n"
          ]
        },
        {
          "output_type": "stream",
          "name": "stderr",
          "text": [
            "\r 60%|██████    | 9/15 [00:03<00:02,  2.81it/s]"
          ]
        },
        {
          "output_type": "stream",
          "name": "stdout",
          "text": [
            "Train Epoch: 9   Avg_Loss: 0.01271   Acc: 5963/5992 (99.516%)\n",
            "Eval:  Avg_Loss: 0.10140   Acc: 485/499 (97.194%)\n"
          ]
        },
        {
          "output_type": "stream",
          "name": "stderr",
          "text": [
            "\r 67%|██████▋   | 10/15 [00:03<00:01,  2.81it/s]"
          ]
        },
        {
          "output_type": "stream",
          "name": "stdout",
          "text": [
            "Train Epoch: 10   Avg_Loss: 0.00998   Acc: 5975/5992 (99.716%)\n",
            "Eval:  Avg_Loss: 0.10824   Acc: 486/499 (97.395%)\n"
          ]
        },
        {
          "output_type": "stream",
          "name": "stderr",
          "text": [
            "\r 73%|███████▎  | 11/15 [00:03<00:01,  2.83it/s]"
          ]
        },
        {
          "output_type": "stream",
          "name": "stdout",
          "text": [
            "Train Epoch: 11   Avg_Loss: 0.00712   Acc: 5984/5992 (99.866%)\n",
            "Eval:  Avg_Loss: 0.11112   Acc: 482/499 (96.593%)\n"
          ]
        },
        {
          "output_type": "stream",
          "name": "stderr",
          "text": [
            "\r 80%|████████  | 12/15 [00:04<00:01,  2.83it/s]"
          ]
        },
        {
          "output_type": "stream",
          "name": "stdout",
          "text": [
            "Train Epoch: 12   Avg_Loss: 0.00544   Acc: 5985/5992 (99.883%)\n",
            "Eval:  Avg_Loss: 0.10915   Acc: 484/499 (96.994%)\n"
          ]
        },
        {
          "output_type": "stream",
          "name": "stderr",
          "text": [
            "\r 87%|████████▋ | 13/15 [00:04<00:00,  2.85it/s]"
          ]
        },
        {
          "output_type": "stream",
          "name": "stdout",
          "text": [
            "Train Epoch: 13   Avg_Loss: 0.00387   Acc: 5989/5992 (99.950%)\n",
            "Eval:  Avg_Loss: 0.11435   Acc: 485/499 (97.194%)\n"
          ]
        },
        {
          "output_type": "stream",
          "name": "stderr",
          "text": [
            "\r 93%|█████████▎| 14/15 [00:04<00:00,  2.87it/s]"
          ]
        },
        {
          "output_type": "stream",
          "name": "stdout",
          "text": [
            "Train Epoch: 14   Avg_Loss: 0.00265   Acc: 5992/5992 (100.000%)\n",
            "Eval:  Avg_Loss: 0.11993   Acc: 483/499 (96.794%)\n"
          ]
        },
        {
          "output_type": "stream",
          "name": "stderr",
          "text": [
            "100%|██████████| 15/15 [00:05<00:00,  2.82it/s]"
          ]
        },
        {
          "output_type": "stream",
          "name": "stdout",
          "text": [
            "Train Epoch: 15   Avg_Loss: 0.00192   Acc: 5992/5992 (100.000%)\n",
            "Eval:  Avg_Loss: 0.12247   Acc: 485/499 (97.194%)\n",
            "\n",
            "\n",
            "\n",
            "Optimization ended.\n",
            "\n"
          ]
        },
        {
          "output_type": "stream",
          "name": "stderr",
          "text": [
            "\n"
          ]
        }
      ]
    },
    {
      "cell_type": "code",
      "source": [
        "# Activate the evaluation mode\n",
        "neural_net = neural_net.eval()\n",
        "\n",
        "# Select the first 10 data points of the validation set\n",
        "data, target = test_dataset[0:10]\n",
        "data = data.to(device)\n",
        "\n",
        "# Executing the neural network\n",
        "output = neural_net(data)   # equivalent to neural_net.forward(data)\n",
        "\n",
        "# Transform the output into a probability distribution with a softmax function\n",
        "output_proba = F.softmax(output, dim=1)\n",
        "\n",
        "# Print the probability\n",
        "print(output_proba)"
      ],
      "metadata": {
        "colab": {
          "base_uri": "https://localhost:8080/"
        },
        "id": "NZ0QLVuX_P4_",
        "outputId": "46994d32-2d6d-4423-b385-41c61b24455f"
      },
      "execution_count": null,
      "outputs": [
        {
          "output_type": "stream",
          "name": "stdout",
          "text": [
            "tensor([[2.7779e-06, 1.0000e+00],\n",
            "        [3.9573e-04, 9.9960e-01],\n",
            "        [1.0530e-06, 1.0000e+00],\n",
            "        [5.2179e-02, 9.4782e-01],\n",
            "        [9.9997e-01, 3.0879e-05],\n",
            "        [2.1438e-05, 9.9998e-01],\n",
            "        [3.3000e-05, 9.9997e-01],\n",
            "        [9.9998e-01, 1.6366e-05],\n",
            "        [1.0000e+00, 7.2581e-07],\n",
            "        [1.8122e-04, 9.9982e-01]], device='cuda:0', grad_fn=<SoftmaxBackward0>)\n"
          ]
        }
      ]
    },
    {
      "cell_type": "code",
      "source": [
        "# For each example, retrieve the class with the highest probability.\n",
        "_, prediction = torch.max(output_proba, dim=1)\n",
        "\n",
        "print(\"Model predictions\")\n",
        "print(prediction)\n",
        "\n",
        "print(\"Targets\")\n",
        "print(target)"
      ],
      "metadata": {
        "id": "Y1y0WSeZ_Sxi"
      },
      "execution_count": null,
      "outputs": []
    },
    {
      "cell_type": "markdown",
      "source": [
        "####Create plots of the learning curves."
      ],
      "metadata": {
        "id": "sJqBF35hUpTO"
      }
    },
    {
      "cell_type": "code",
      "source": [
        "!pip install matplotlib==3.1.3"
      ],
      "metadata": {
        "id": "AEuShUVi1v9f"
      },
      "execution_count": null,
      "outputs": []
    },
    {
      "cell_type": "code",
      "source": [
        "x = list(range(len(train_losses)))\n",
        "ax = plt.subplot(111)\n",
        "plt.plot(x, train_losses, 'r', label=\"Train\")\n",
        "plt.plot(x, val_losses, 'g', label=\"Validation\")\n",
        "plt.xlabel('epoch')\n",
        "plt.ylabel('Cross-entropy loss')\n",
        "plt.grid()\n",
        "leg = plt.legend(loc='best', ncol=2, mode=\"expand\", shadow=False, fancybox=False)\n",
        "leg.get_frame().set_alpha(0.99)"
      ],
      "metadata": {
        "colab": {
          "base_uri": "https://localhost:8080/",
          "height": 279
        },
        "id": "jj8co2Aw_U8q",
        "outputId": "5b855472-3a98-45e4-dbe6-b975110b9dcf"
      },
      "execution_count": null,
      "outputs": [
        {
          "output_type": "display_data",
          "data": {
            "text/plain": [
              "<Figure size 432x288 with 1 Axes>"
            ],
            "image/png": "[encoded data removed]"
          },
          "metadata": {
            "needs_background": "light"
          }
        }
      ]
    },
    {
      "cell_type": "code",
      "source": [
        "x = list(range(len(train_accuracies)))\n",
        "ax = plt.subplot(111)\n",
        "plt.plot(x, train_accuracies, 'r', label=\"Train\")\n",
        "plt.plot(x, val_accuracies, 'g', label=\"Validation\")\n",
        "plt.xlabel('epoch')\n",
        "plt.ylabel('Accuracy')\n",
        "plt.grid()\n",
        "leg = plt.legend(loc='best', ncol=2, mode=\"expand\", shadow=False, fancybox=False)\n",
        "leg.get_frame().set_alpha(0.99)"
      ],
      "metadata": {
        "colab": {
          "base_uri": "https://localhost:8080/",
          "height": 279
        },
        "id": "uUfxcX1D_YOi",
        "outputId": "a1885c14-23af-47fc-cc80-1a8e195a74e0"
      },
      "execution_count": null,
      "outputs": [
        {
          "output_type": "display_data",
          "data": {
            "text/plain": [
              "<Figure size 432x288 with 1 Axes>"
            ],
            "image/png": "[encoded data removed]"
          },
          "metadata": {
            "needs_background": "light"
          }
        }
      ]
    }
  ]
}