{
  "nbformat": 4,
  "nbformat_minor": 0,
  "metadata": {
    "colab": {
      "name": "RandomForestWithoutPCA.ipynb",
      "provenance": [],
      "collapsed_sections": [],
      "authorship_tag": "ABX9TyOgCG/tylBNdsrhXiFayrjT",
      "include_colab_link": true
    },
    "kernelspec": {
      "name": "python3",
      "display_name": "Python 3"
    },
    "language_info": {
      "name": "python"
    }
  },
  "cells": [
    {
      "cell_type": "markdown",
      "metadata": {
        "id": "view-in-github",
        "colab_type": "text"
      },
      "source": [
        "<a href=\"https://colab.research.google.com/github/jialun1221/scRNA-seq/blob/main/RandomForestWithoutPCA.ipynb\" target=\"_parent\"><img src=\"https://colab.research.google.com/assets/colab-badge.svg\" alt=\"Open In Colab\"/></a>"
      ]
    },
    {
      "cell_type": "markdown",
      "source": [
        "**Note** <div>\n",
        "This notebook is an extension from RandomForest.ipynb. This RF classifier is trained on input that haven't gone through PCA. When checking for `feature_importances_`, it allows the user to see the features (genes) directly. "
      ],
      "metadata": {
        "id": "ane886LGBINX"
      }
    },
    {
      "cell_type": "markdown",
      "source": [
        "####Install pakcages"
      ],
      "metadata": {
        "id": "C20-fkuEX8mR"
      }
    },
    {
      "cell_type": "code",
      "source": [
        "!pip3 install torch torchvision matplotlib\n",
        "!pip3 install --upgrade pillow==8.1.0\n",
        "#if branch is stable, will install via pypi, else will install from source\n",
        "import sys\n",
        "branch = \"stable\"\n",
        "IN_COLAB = \"google.colab\" in sys.modules\n",
        "\n",
        "if IN_COLAB and branch == \"stable\":\n",
        "    !pip install --quiet scvi-tools[tutorials]\n",
        "elif IN_COLAB and branch != \"stable\":\n",
        "    !pip install --quiet --upgrade jsonschema\n",
        "    !pip install --quiet git+https://github.com/yoseflab/scvi-tools@$branch#egg=scvi-tools[tutorials]"
      ],
      "metadata": {
        "id": "e_ithghu9k8p"
      },
      "execution_count": null,
      "outputs": []
    },
    {
      "cell_type": "code",
      "execution_count": null,
      "metadata": {
        "id": "CfZHtCYKvJdP",
        "colab": {
          "base_uri": "https://localhost:8080/"
        },
        "outputId": "6b1a81f5-1134-4eec-b98c-bd14527b68a1"
      },
      "outputs": [
        {
          "output_type": "stream",
          "name": "stderr",
          "text": [
            "INFO:pytorch_lightning.utilities.seed:Global seed set to 0\n"
          ]
        }
      ],
      "source": [
        "import numpy as np\n",
        "import pandas as pd\n",
        "import scanpy as sc\n",
        "import scvi\n",
        "import seaborn as sns\n",
        "\n",
        "from sklearn import preprocessing \n",
        "from matplotlib import pyplot as plt\n",
        "from sklearn.ensemble import RandomForestClassifier\n",
        "from sklearn.metrics import accuracy_score, confusion_matrix, classification_report"
      ]
    },
    {
      "cell_type": "code",
      "source": [
        "import importlib\n",
        "required_libraries = ['torch', 'torchvision', 'PIL', 'matplotlib', \n",
        "                      'numpy', 'pandas']\n",
        "for lib in required_libraries:\n",
        "    if importlib.util.find_spec(lib) is None:\n",
        "        print(\"%s unavailable\" % lib)"
      ],
      "metadata": {
        "id": "VPwCFIk3-LmP"
      },
      "execution_count": null,
      "outputs": []
    },
    {
      "cell_type": "markdown",
      "source": [
        "#### **Mount your google drive to access file stored there.**\n",
        "######If accessing the file from local disk, place the file in the same directory as this script, and use the following line of code\n",
        "\n",
        "```\n",
        "# PD_astro = sc.read_h5ad(\"pd_astro.h5ad\")\n",
        "```\n",
        "Note, the file you load in should be the one generated from running the preprocessing script, which already eliminated some samples (rows). This data matrix should contain only 50 features, and 7491 training samples, stored in \n",
        "```\n",
        "# adata.obsm['X_pca']\n",
        "``` \n",
        "\n"
      ],
      "metadata": {
        "id": "KxdsTQMdYk9c"
      }
    },
    {
      "cell_type": "code",
      "source": [
        "from google.colab import drive\n",
        "drive.mount('/content/drive')"
      ],
      "metadata": {
        "colab": {
          "base_uri": "https://localhost:8080/"
        },
        "id": "auYL6dvJ_RXz",
        "outputId": "73372675-fe19-496c-9699-f8f7413cef25"
      },
      "execution_count": null,
      "outputs": [
        {
          "output_type": "stream",
          "name": "stdout",
          "text": [
            "Mounted at /content/drive\n"
          ]
        }
      ]
    },
    {
      "cell_type": "code",
      "source": [
        "#read the preprocessed data that hasn't gone through PCA\n",
        "adata = scvi.data.read_h5ad(\"drive/MyDrive/no_pca.h5ad\")"
      ],
      "metadata": {
        "id": "WDIbL7t4_iN-"
      },
      "execution_count": null,
      "outputs": []
    },
    {
      "cell_type": "code",
      "source": [
        "adata #from printed out results, we see no sign of PCA data included."
      ],
      "metadata": {
        "colab": {
          "base_uri": "https://localhost:8080/"
        },
        "id": "ROlSIVWP7NYx",
        "outputId": "9d2b31d0-d610-4c93-b892-b42a0d1f8789"
      },
      "execution_count": null,
      "outputs": [
        {
          "output_type": "execute_result",
          "data": {
            "text/plain": [
              "AnnData object with n_obs × n_vars = 7491 × 3849\n",
              "    obs: 'index', 'orig.ident', 'nCount_RNA', 'nFeature_RNA', 'Cell_Subtype', 'Cell_Type', 'disease__ontology_label', 'organ__ontology_label', 'n_genes', 'n_genes_by_counts', 'total_counts', 'total_counts_mt', 'pct_counts_mt', 'log1p_n_genes_by_counts', 'log1p_total_counts', 'pct_counts_in_top_50_genes', 'pct_counts_in_top_100_genes', 'pct_counts_in_top_200_genes', 'pct_counts_in_top_500_genes', 'total_counts_mito', 'log1p_total_counts_mito', 'pct_counts_mito'\n",
              "    var: 'features', 'n_cells', 'mt', 'n_cells_by_counts', 'mean_counts', 'pct_dropout_by_counts', 'total_counts', 'mito', 'log1p_mean_counts', 'log1p_total_counts', 'highly_variable', 'means', 'dispersions', 'dispersions_norm', 'mean', 'std'\n",
              "    uns: 'hvg', 'log1p'"
            ]
          },
          "metadata": {},
          "execution_count": 6
        }
      ]
    },
    {
      "cell_type": "code",
      "source": [
        "adata.var"
      ],
      "metadata": {
        "id": "wHHDJQHxDe_s"
      },
      "execution_count": null,
      "outputs": []
    },
    {
      "cell_type": "markdown",
      "source": [
        "The file name is pca_in_obsm.h5ad. \n",
        "The previous file name (highly variable genes with n_features = 3799 is called pd_astro-2.h5ad (LBD inclusive)"
      ],
      "metadata": {
        "id": "bZ2kS67lNTEN"
      }
    },
    {
      "cell_type": "code",
      "source": [
        "bdata = scvi.data.read_h5ad(\"drive/MyDrive/pd_astro-2.h5ad\")"
      ],
      "metadata": {
        "id": "laJSFzGLCbKW"
      },
      "execution_count": null,
      "outputs": []
    },
    {
      "cell_type": "code",
      "source": [
        "bdata"
      ],
      "metadata": {
        "id": "jS0R_iRnCd14"
      },
      "execution_count": null,
      "outputs": []
    },
    {
      "cell_type": "code",
      "source": [
        "bdata.X.shape"
      ],
      "metadata": {
        "colab": {
          "base_uri": "https://localhost:8080/"
        },
        "id": "B2WfuoQ6Cpu2",
        "outputId": "efcdff8c-207c-499d-d04e-51cbf54237f4"
      },
      "execution_count": null,
      "outputs": [
        {
          "output_type": "execute_result",
          "data": {
            "text/plain": [
              "(10325, 3799)"
            ]
          },
          "metadata": {},
          "execution_count": 10
        }
      ]
    },
    {
      "cell_type": "code",
      "source": [
        "bdata.obsm['X_pca'].shape"
      ],
      "metadata": {
        "colab": {
          "base_uri": "https://localhost:8080/"
        },
        "id": "xEfgrm5KC5i3",
        "outputId": "3037961c-4f98-45fb-cb02-b070e45042fe"
      },
      "execution_count": null,
      "outputs": [
        {
          "output_type": "execute_result",
          "data": {
            "text/plain": [
              "(10325, 50)"
            ]
          },
          "metadata": {},
          "execution_count": 11
        }
      ]
    },
    {
      "cell_type": "code",
      "source": [
        "bdata.obs.loc[bdata.obs['disease__ontology_label'].str.contains(\"Lewy body dementia\", case=False)]"
      ],
      "metadata": {
        "id": "W71HtkGSDBya"
      },
      "execution_count": null,
      "outputs": []
    },
    {
      "cell_type": "code",
      "source": [
        "bdata.var"
      ],
      "metadata": {
        "id": "9imh_sKEDafB"
      },
      "execution_count": null,
      "outputs": []
    },
    {
      "cell_type": "markdown",
      "source": [
        "####**Select out your training data and labels, slightly modify it for training.**"
      ],
      "metadata": {
        "id": "3VrUuSl3c2sA"
      }
    },
    {
      "cell_type": "code",
      "source": [
        "adata.obs = adata.obs.reset_index() #reset the index for X, so the column number starts from 0"
      ],
      "metadata": {
        "id": "p1iEG28sl8OD"
      },
      "execution_count": null,
      "outputs": []
    },
    {
      "cell_type": "markdown",
      "source": [
        "Select your X and y directly from adata.obsm and adata.obs."
      ],
      "metadata": {
        "id": "SnJqEWmePzgD"
      }
    },
    {
      "cell_type": "code",
      "source": [
        "X = pd.DataFrame(adata.X)\n",
        "y = adata.obs['disease__ontology_label'].replace({\"normal\": \"0\", \"Parkinson disease\": \"1\"})"
      ],
      "metadata": {
        "id": "5ZATRR6uSzXy"
      },
      "execution_count": null,
      "outputs": []
    },
    {
      "cell_type": "code",
      "source": [
        "# adata.obs['disease__ontology_label'].str.findall(\"Lewy body dementia\")\n",
        "# adata.obs.loc[adata.obs['disease__ontology_label'].str.contains(\"Lewy body dementia\", case=True)]\n",
        "# scRNAdf_X = pd.DataFrame(adata.obsm['X_pca'])\n",
        "# scRNAdf_Y = adata.obs['disease__ontology_label'].reset_index()\n",
        "# scRNAdf = scRNAdf_X.join(scRNAdf_Y) \n",
        "# print(scRNAdf)\n",
        "# type(scRNAdf)\n",
        "# no_index = scRNAdf.drop('index', axis=1)\n",
        "# no_index\n",
        "# newdf = no_index.drop(index=no_index[no_index['disease__ontology_label'].str.contains('Lewy body dementia')].index)\n",
        "# newdf[\"disease__ontology_label\"] = newdf[\"disease__ontology_label\"].replace({\"normal\": \"0\", \"Parkinson disease\": \"1\"})\n",
        "# newdf\n",
        "# X = newdf[list(newdf.columns[0:3799])]\n",
        "# y = newdf['disease__ontology_label']"
      ],
      "metadata": {
        "id": "S_xjCEWLqnSE"
      },
      "execution_count": null,
      "outputs": []
    },
    {
      "cell_type": "markdown",
      "source": [
        "####**Run the Random Forest Classifier from Scikit Learn**"
      ],
      "metadata": {
        "id": "6RN-1ogPfqJv"
      }
    },
    {
      "cell_type": "markdown",
      "source": [
        "install packages, and set the seed to get the same result each time."
      ],
      "metadata": {
        "id": "Kk2ZMgbQFcQj"
      }
    },
    {
      "cell_type": "code",
      "source": [
        "import torch\n",
        "import numpy as np\n",
        "import torch.nn as nn\n",
        "import torch.nn.functional as F\n",
        "import torch.optim as optim\n",
        "import torchvision\n",
        "import scanpy as sc\n",
        "\n",
        "from torch.utils.data import TensorDataset\n",
        "\n",
        "use_gpu = torch.cuda.is_available()\n",
        "device = torch.device(\"cuda:0\" if use_gpu else \"cpu\")\n",
        "\n",
        "print(\"Torch version: \", torch.__version__)\n",
        "print(\"GPU Available: {}\".format(use_gpu))"
      ],
      "metadata": {
        "colab": {
          "base_uri": "https://localhost:8080/"
        },
        "id": "MQG4aqiPA7ih",
        "outputId": "e056c8de-f4d2-41df-8ec5-866ef680db12"
      },
      "execution_count": null,
      "outputs": [
        {
          "output_type": "stream",
          "name": "stdout",
          "text": [
            "Torch version:  1.12.1+cu113\n",
            "GPU Available: False\n"
          ]
        }
      ]
    },
    {
      "cell_type": "code",
      "source": [
        "seed = 4321\n",
        "np.random.seed(seed) # Set the random seed of numpy for the data split.\n",
        "torch.manual_seed(seed)\n",
        "torch.cuda.manual_seed(seed)"
      ],
      "metadata": {
        "id": "0tqb-d8-A89M"
      },
      "execution_count": null,
      "outputs": []
    },
    {
      "cell_type": "markdown",
      "source": [
        "Split the data into training and testing set."
      ],
      "metadata": {
        "id": "1G-ZlVH0NW6N"
      }
    },
    {
      "cell_type": "code",
      "source": [
        "#train test split\n",
        "from sklearn.model_selection import train_test_split\n",
        "X_train, X_test, y_train, y_test = train_test_split(X, y, test_size=0.3, random_state=0)"
      ],
      "metadata": {
        "id": "y2CZNE2pA-4r"
      },
      "execution_count": null,
      "outputs": []
    },
    {
      "cell_type": "code",
      "source": [
        "from sklearn.linear_model import LogisticRegression\n",
        "from sklearn.feature_selection import SelectFromModel\n",
        "from sklearn.ensemble import RandomForestClassifier"
      ],
      "metadata": {
        "id": "s1wx_AnIBTyl"
      },
      "execution_count": null,
      "outputs": []
    },
    {
      "cell_type": "markdown",
      "source": [
        "Fit the model with the training set, with 100 trees."
      ],
      "metadata": {
        "id": "moiZu0ctNf3-"
      }
    },
    {
      "cell_type": "code",
      "source": [
        "forest = RandomForestClassifier(random_state=0,n_estimators = 100)\n",
        "forest.fit(X_train, y_train)"
      ],
      "metadata": {
        "colab": {
          "base_uri": "https://localhost:8080/"
        },
        "id": "aCudnuh-Mumq",
        "outputId": "6591bf92-cfec-4df4-92c6-d56be9742ee9"
      },
      "execution_count": null,
      "outputs": [
        {
          "output_type": "execute_result",
          "data": {
            "text/plain": [
              "RandomForestClassifier(random_state=0)"
            ]
          },
          "metadata": {},
          "execution_count": 21
        }
      ]
    },
    {
      "cell_type": "markdown",
      "source": [
        "Test the model with the testing set. "
      ],
      "metadata": {
        "id": "kt1vYYa6OO_L"
      }
    },
    {
      "cell_type": "code",
      "source": [
        "y_pred_test = forest.predict(X_test)"
      ],
      "metadata": {
        "id": "zwcwPMbWnt5F"
      },
      "execution_count": null,
      "outputs": []
    },
    {
      "cell_type": "code",
      "source": [
        "accuracy_score(y_test, y_pred_test)"
      ],
      "metadata": {
        "colab": {
          "base_uri": "https://localhost:8080/"
        },
        "id": "dWdPdv-Dn_-h",
        "outputId": "5d940dc1-eb0a-4c43-ed3e-50b2f6f1a159"
      },
      "execution_count": null,
      "outputs": [
        {
          "output_type": "execute_result",
          "data": {
            "text/plain": [
              "0.8887900355871886"
            ]
          },
          "metadata": {},
          "execution_count": 23
        }
      ]
    },
    {
      "cell_type": "code",
      "source": [
        "# View confusion matrix for test data and predictions\n",
        "confusion_matrix(y_test, y_pred_test)"
      ],
      "metadata": {
        "colab": {
          "base_uri": "https://localhost:8080/"
        },
        "id": "vPJ-DHVnngLc",
        "outputId": "ffe5d804-3691-4ed3-e481-2acc9c3d81ce"
      },
      "execution_count": null,
      "outputs": [
        {
          "output_type": "execute_result",
          "data": {
            "text/plain": [
              "array([[ 898,  101],\n",
              "       [ 149, 1100]])"
            ]
          },
          "metadata": {},
          "execution_count": 24
        }
      ]
    },
    {
      "cell_type": "code",
      "source": [
        "# Get and reshape confusion matrix data\n",
        "matrix = confusion_matrix(y_test, y_pred_test)\n",
        "matrix = matrix.astype('float') / matrix.sum(axis=1)[:, np.newaxis]\n",
        "matrix"
      ],
      "metadata": {
        "id": "eveYkbgLpb65",
        "colab": {
          "base_uri": "https://localhost:8080/"
        },
        "outputId": "fe9419b2-6621-480c-bfe0-54abe2c3d6d2"
      },
      "execution_count": null,
      "outputs": [
        {
          "output_type": "execute_result",
          "data": {
            "text/plain": [
              "array([[0.8988989 , 0.1011011 ],\n",
              "       [0.11929544, 0.88070456]])"
            ]
          },
          "metadata": {},
          "execution_count": 25
        }
      ]
    },
    {
      "cell_type": "code",
      "source": [
        "!pip install matplotlib==3.1.3 #install matplotlib"
      ],
      "metadata": {
        "colab": {
          "base_uri": "https://localhost:8080/",
          "height": 446
        },
        "id": "-iFPuzN6Ouy5",
        "outputId": "2e3fdad6-ef55-4072-8414-ffe09d0bb46e"
      },
      "execution_count": null,
      "outputs": [
        {
          "output_type": "stream",
          "name": "stdout",
          "text": [
            "Looking in indexes: https://pypi.org/simple, https://us-python.pkg.dev/colab-wheels/public/simple/\n",
            "Collecting matplotlib==3.1.3\n",
            "  Downloading matplotlib-3.1.3-cp37-cp37m-manylinux1_x86_64.whl (13.1 MB)\n",
            "\u001b[K     |████████████████████████████████| 13.1 MB 4.3 MB/s \n",
            "\u001b[?25hRequirement already satisfied: numpy>=1.11 in /usr/local/lib/python3.7/dist-packages (from matplotlib==3.1.3) (1.21.6)\n",
            "Requirement already satisfied: python-dateutil>=2.1 in /usr/local/lib/python3.7/dist-packages (from matplotlib==3.1.3) (2.8.2)\n",
            "Requirement already satisfied: kiwisolver>=1.0.1 in /usr/local/lib/python3.7/dist-packages (from matplotlib==3.1.3) (1.4.4)\n",
            "Requirement already satisfied: pyparsing!=2.0.4,!=2.1.2,!=2.1.6,>=2.0.1 in /usr/local/lib/python3.7/dist-packages (from matplotlib==3.1.3) (3.0.9)\n",
            "Requirement already satisfied: cycler>=0.10 in /usr/local/lib/python3.7/dist-packages (from matplotlib==3.1.3) (0.11.0)\n",
            "Requirement already satisfied: typing-extensions in /usr/local/lib/python3.7/dist-packages (from kiwisolver>=1.0.1->matplotlib==3.1.3) (4.1.1)\n",
            "Requirement already satisfied: six>=1.5 in /usr/local/lib/python3.7/dist-packages (from python-dateutil>=2.1->matplotlib==3.1.3) (1.15.0)\n",
            "Installing collected packages: matplotlib\n",
            "  Attempting uninstall: matplotlib\n",
            "    Found existing installation: matplotlib 3.5.3\n",
            "    Uninstalling matplotlib-3.5.3:\n",
            "      Successfully uninstalled matplotlib-3.5.3\n",
            "\u001b[31mERROR: pip's dependency resolver does not currently take into account all the packages that are installed. This behaviour is the source of the following dependency conflicts.\n",
            "scanpy 1.9.1 requires matplotlib>=3.4, but you have matplotlib 3.1.3 which is incompatible.\u001b[0m\n",
            "Successfully installed matplotlib-3.1.3\n"
          ]
        },
        {
          "output_type": "display_data",
          "data": {
            "application/vnd.colab-display-data+json": {
              "pip_warning": {
                "packages": [
                  "matplotlib",
                  "mpl_toolkits"
                ]
              }
            }
          },
          "metadata": {}
        }
      ]
    },
    {
      "cell_type": "code",
      "source": [
        "# Build the confusion matrix plot\n",
        "plt.figure(figsize=(16,7))\n",
        "sns.set(font_scale=1.4)\n",
        "sns.heatmap(matrix, annot=True, annot_kws={'size':10},\n",
        "            cmap=plt.cm.Greens, linewidths=0.2)"
      ],
      "metadata": {
        "colab": {
          "base_uri": "https://localhost:8080/",
          "height": 453
        },
        "id": "X3xsu9GZpga-",
        "outputId": "d33491bb-84ce-4051-b2b4-5a1e305334d1"
      },
      "execution_count": null,
      "outputs": [
        {
          "output_type": "execute_result",
          "data": {
            "text/plain": [
              "<matplotlib.axes._subplots.AxesSubplot at 0x7f63bceac950>"
            ]
          },
          "metadata": {},
          "execution_count": 27
        },
        {
          "output_type": "display_data",
          "data": {
            "text/plain": [
              "<Figure size 1152x504 with 2 Axes>"
            ],
            "image/png": "[encoded data removed]"
          },
          "metadata": {
            "needs_background": "light"
          }
        }
      ]
    },
    {
      "cell_type": "code",
      "source": [
        "# View the classification report for test data and predictions\n",
        "print(classification_report(y_test, y_pred_test))"
      ],
      "metadata": {
        "colab": {
          "base_uri": "https://localhost:8080/"
        },
        "id": "3_Z8WBJ1rfVQ",
        "outputId": "257aaddd-ac5a-4149-ef13-d18ab82eab36"
      },
      "execution_count": null,
      "outputs": [
        {
          "output_type": "stream",
          "name": "stdout",
          "text": [
            "              precision    recall  f1-score   support\n",
            "\n",
            "           0       0.86      0.90      0.88       999\n",
            "           1       0.92      0.88      0.90      1249\n",
            "\n",
            "    accuracy                           0.89      2248\n",
            "   macro avg       0.89      0.89      0.89      2248\n",
            "weighted avg       0.89      0.89      0.89      2248\n",
            "\n"
          ]
        }
      ]
    },
    {
      "cell_type": "markdown",
      "source": [
        "####**SHAP?**\n"
      ],
      "metadata": {
        "id": "BIy08mCSAXLg"
      }
    },
    {
      "cell_type": "code",
      "source": [
        "!pip install shap\n",
        "import shap"
      ],
      "metadata": {
        "id": "cgFGd3toAnz9"
      },
      "execution_count": null,
      "outputs": []
    },
    {
      "cell_type": "code",
      "source": [
        "# X, y = shap.datasets.boston()"
      ],
      "metadata": {
        "id": "A2p5J1DdBJwY"
      },
      "execution_count": null,
      "outputs": []
    },
    {
      "cell_type": "markdown",
      "source": [
        "####**Find the most used PCs of the model Part 1.**\n",
        "This part of code looks at the selected features from the top 10 principle components that are used for Random Forest Classification\n",
        "\n",
        "---\n",
        "\n"
      ],
      "metadata": {
        "id": "OQ6NRmfeTJYH"
      }
    },
    {
      "cell_type": "markdown",
      "source": [
        "[Here](https://towardsdatascience.com/feature-selection-using-random-forest-26d7b747597f) I will do the model fitting and feature selection altogether in one line of code.\n",
        "\n",
        "*   I specify the random forest instance, indicating the number of trees (n = 100).\n",
        "*   Then I use [`selectFromModel`](https://scikit-learn.org/stable/modules/generated/sklearn.feature_selection.SelectFromModel.html) object from sklearn to automatically select the features (keeping `max_features=50`)."
      ],
      "metadata": {
        "id": "2VIDnXXHJI23"
      }
    },
    {
      "cell_type": "markdown",
      "source": [
        "**Note** <div>\n",
        "check out from the [sklearn.feature_selection.SelectFromModel](https://scikit-learn.org/stable/modules/generated/sklearn.feature_selection.SelectFromModel.html). The first parameter is passed in as an object, and the second parameter `max_features` controls the max number of features to select. "
      ],
      "metadata": {
        "id": "8bDI5R4sHq0c"
      }
    },
    {
      "cell_type": "code",
      "source": [
        "sel = SelectFromModel(RandomForestClassifier(n_estimators = 100),max_features=50)"
      ],
      "metadata": {
        "id": "37KQexpZxVsF"
      },
      "execution_count": null,
      "outputs": []
    },
    {
      "cell_type": "markdown",
      "source": [
        "`SelectFromModel `will select those features which importance is greater than the mean importance of all the features by default, but we can alter this threshold if we want. Now, fit the model."
      ],
      "metadata": {
        "id": "zC2NCRzXIkyh"
      }
    },
    {
      "cell_type": "code",
      "source": [
        "sel.fit(X_train, y_train)"
      ],
      "metadata": {
        "colab": {
          "base_uri": "https://localhost:8080/"
        },
        "id": "me0pDcRGxalm",
        "outputId": "2fe71f58-45e1-47f5-db7d-242ff74de154"
      },
      "execution_count": null,
      "outputs": [
        {
          "output_type": "execute_result",
          "data": {
            "text/plain": [
              "SelectFromModel(estimator=RandomForestClassifier(), max_features=50)"
            ]
          },
          "metadata": {},
          "execution_count": 30
        }
      ]
    },
    {
      "cell_type": "markdown",
      "source": [
        " Get the integer index of the features selected. If indices is False, this is a boolean array of shape `[# input features]`, in which an element is True iff its corresponding feature is selected for retention. If indices is True, this is an integer array of shape `[# output features] `whose values are indices into the input feature vector."
      ],
      "metadata": {
        "id": "Fpdb4gnyZtg9"
      }
    },
    {
      "cell_type": "markdown",
      "source": [
        "To see which features are important we can use `get_support method` on the fitted model. It will return an array of boolean values. True for the features whose importance is greater than the mean importance and False for the rest."
      ],
      "metadata": {
        "id": "a7eR7HS-KLR8"
      }
    },
    {
      "cell_type": "code",
      "source": [
        "sel.get_support()"
      ],
      "metadata": {
        "colab": {
          "base_uri": "https://localhost:8080/"
        },
        "id": "gYvg6bK5xq4R",
        "outputId": "5507e3de-d9aa-48d8-c244-aea1baa4e0b8"
      },
      "execution_count": null,
      "outputs": [
        {
          "output_type": "execute_result",
          "data": {
            "text/plain": [
              "array([False, False, False, ..., False, False, False])"
            ]
          },
          "metadata": {},
          "execution_count": 31
        }
      ]
    },
    {
      "cell_type": "code",
      "source": [
        "selected_feat= X_train.columns[(sel.get_support())] #look for indexes selected features in the X_train columns.\n",
        "print(len(selected_feat)) #gives number of selected features\n",
        "print(selected_feat) #gives indexes of selected features"
      ],
      "metadata": {
        "colab": {
          "base_uri": "https://localhost:8080/"
        },
        "id": "IH1Hn7eYxgP0",
        "outputId": "87470174-e6b3-4a17-a4d4-629f72470f8d"
      },
      "execution_count": null,
      "outputs": [
        {
          "output_type": "stream",
          "name": "stdout",
          "text": [
            "50\n",
            "Int64Index([ 109,  250,  319,  478,  522,  568,  640,  806,  831,  870,  877,\n",
            "             907,  960, 1166, 1167, 1196, 1326, 1391, 1561, 1578, 1651, 1825,\n",
            "            1894, 1982, 2031, 2055, 2150, 2205, 2309, 2436, 2438, 2562, 2571,\n",
            "            2574, 2588, 2593, 2794, 2795, 2806, 3049, 3050, 3051, 3086, 3113,\n",
            "            3211, 3388, 3498, 3511, 3550, 3671],\n",
            "           dtype='int64')\n"
          ]
        }
      ]
    },
    {
      "cell_type": "markdown",
      "source": [
        "Since we have the index of the selected features, we can access the names of these features based on indexes"
      ],
      "metadata": {
        "id": "Yk_8QoUOYAo6"
      }
    },
    {
      "cell_type": "code",
      "source": [
        "names = adata.var_names"
      ],
      "metadata": {
        "id": "KutsxsNMX044"
      },
      "execution_count": null,
      "outputs": []
    },
    {
      "cell_type": "code",
      "source": [
        "gene_list = []"
      ],
      "metadata": {
        "id": "whTcN4TjbwgC"
      },
      "execution_count": null,
      "outputs": []
    },
    {
      "cell_type": "code",
      "source": [
        "for i in selected_feat:\n",
        "  gene_list.append(names[i])"
      ],
      "metadata": {
        "id": "p7SrR5jDZCqj"
      },
      "execution_count": null,
      "outputs": []
    },
    {
      "cell_type": "code",
      "source": [
        "print(gene_list)"
      ],
      "metadata": {
        "colab": {
          "base_uri": "https://localhost:8080/"
        },
        "id": "QuHgfIspb_Mq",
        "outputId": "b6752872-dc17-4b62-d9c6-5168b04d86cb"
      },
      "execution_count": null,
      "outputs": [
        {
          "output_type": "stream",
          "name": "stdout",
          "text": [
            "['DAB1', 'CHI3L1', 'AC012593.1', 'HSPE1-MOB4', 'SERPINE2', 'SLC6A11', 'ADAMTS9-AS2', 'SLC4A4', 'GRID2', 'HSPA4L', 'SLC7A11', 'GALNTL6', 'GPBP1', 'HSPA1A', 'HSPA1B', 'HSP90AB1', 'DGKB', 'HSPB1', 'XIST', 'PLP1', 'PEBP4', 'IARS', 'PTGDS', 'STIP1', 'CHORDC1', 'CRYAB', 'C10orf11', 'BAG3', 'PTGES3', 'HMGB1', 'HSPH1', 'JDP2', 'NRXN3', 'FLRT2', 'MEG3', 'HSP90AA1', 'MT3', 'MT2A', 'GINS3', 'ABHD3', 'MIB1', 'CABLES1', 'ZNF516', 'ACSS1', 'DNAJB1', 'TTTY14', 'SH3BGR', 'MT-CO3', 'AC139100.2', 'RNA28S5']\n"
          ]
        }
      ]
    },
    {
      "cell_type": "markdown",
      "source": [
        "write output into a csv file. "
      ],
      "metadata": {
        "id": "dfo8A3HFbQga"
      }
    },
    {
      "cell_type": "code",
      "source": [
        "! mkdir write"
      ],
      "metadata": {
        "id": "PljWtdPjU7WR"
      },
      "execution_count": null,
      "outputs": []
    },
    {
      "cell_type": "code",
      "source": [
        "import csv\n",
        "with open('write/gene_list', 'w', encoding='UTF8') as f:\n",
        "    # create the csv writer\n",
        "    writer = csv.writer(f)\n",
        "\n",
        "    # write a row to the csv file\n",
        "    writer.writerow(gene_list)"
      ],
      "metadata": {
        "id": "a6rr9P53bVTO"
      },
      "execution_count": null,
      "outputs": []
    },
    {
      "cell_type": "code",
      "source": [
        "fi = forest.feature_importances_"
      ],
      "metadata": {
        "id": "BhDmHqZeLFXO"
      },
      "execution_count": null,
      "outputs": []
    },
    {
      "cell_type": "code",
      "source": [
        "type(fi)"
      ],
      "metadata": {
        "colab": {
          "base_uri": "https://localhost:8080/"
        },
        "id": "aP-XlOdse8IE",
        "outputId": "66307e1a-f742-4543-9997-2ecc61c96fa3"
      },
      "execution_count": null,
      "outputs": [
        {
          "output_type": "execute_result",
          "data": {
            "text/plain": [
              "numpy.ndarray"
            ]
          },
          "metadata": {},
          "execution_count": 40
        }
      ]
    },
    {
      "cell_type": "code",
      "source": [
        "fi.shape"
      ],
      "metadata": {
        "colab": {
          "base_uri": "https://localhost:8080/"
        },
        "id": "wAuTX5cpfTv8",
        "outputId": "20abd42c-d4e8-4097-d48c-abdabfb37044"
      },
      "execution_count": null,
      "outputs": [
        {
          "output_type": "execute_result",
          "data": {
            "text/plain": [
              "(3849,)"
            ]
          },
          "metadata": {},
          "execution_count": 41
        }
      ]
    },
    {
      "cell_type": "code",
      "source": [
        "sel.estimator_ = 3849"
      ],
      "metadata": {
        "id": "9ZBWh9gRbUsO"
      },
      "execution_count": null,
      "outputs": []
    },
    {
      "cell_type": "code",
      "source": [
        "pd.Series(sel.estimator_,fi.ravel()).hist()"
      ],
      "metadata": {
        "colab": {
          "base_uri": "https://localhost:8080/",
          "height": 294
        },
        "id": "8nJa4-E_Ke0K",
        "outputId": "8e203bd1-0c8e-42f5-d1c2-9dc659badb3c"
      },
      "execution_count": null,
      "outputs": [
        {
          "output_type": "execute_result",
          "data": {
            "text/plain": [
              "<matplotlib.axes._subplots.AxesSubplot at 0x7f63b5cc57d0>"
            ]
          },
          "metadata": {},
          "execution_count": 43
        },
        {
          "output_type": "display_data",
          "data": {
            "text/plain": [
              "<Figure size 432x288 with 1 Axes>"
            ],
            "image/png": "[encoded data removed]"
          },
          "metadata": {}
        }
      ]
    },
    {
      "cell_type": "code",
      "source": [
        "ser = pd.Series(names, index = selected_feat)"
      ],
      "metadata": {
        "colab": {
          "base_uri": "https://localhost:8080/",
          "height": 307
        },
        "id": "ZoKVGfzlXrZI",
        "outputId": "664284b6-53b6-465a-e249-bb1efe3abf28"
      },
      "execution_count": null,
      "outputs": [
        {
          "output_type": "error",
          "ename": "ValueError",
          "evalue": "ignored",
          "traceback": [
            "\u001b[0;31m---------------------------------------------------------------------------\u001b[0m",
            "\u001b[0;31mValueError\u001b[0m                                Traceback (most recent call last)",
            "\u001b[0;32m<ipython-input-44-8974b88e0f10>\u001b[0m in \u001b[0;36m<module>\u001b[0;34m\u001b[0m\n\u001b[0;32m----> 1\u001b[0;31m \u001b[0mser\u001b[0m \u001b[0;34m=\u001b[0m \u001b[0mpd\u001b[0m\u001b[0;34m.\u001b[0m\u001b[0mSeries\u001b[0m\u001b[0;34m(\u001b[0m\u001b[0mnames\u001b[0m\u001b[0;34m,\u001b[0m \u001b[0mindex\u001b[0m \u001b[0;34m=\u001b[0m \u001b[0mselected_feat\u001b[0m\u001b[0;34m)\u001b[0m\u001b[0;34m\u001b[0m\u001b[0;34m\u001b[0m\u001b[0m\n\u001b[0m",
            "\u001b[0;32m/usr/local/lib/python3.7/dist-packages/pandas/core/series.py\u001b[0m in \u001b[0;36m__init__\u001b[0;34m(self, data, index, dtype, name, copy, fastpath)\u001b[0m\n\u001b[1;32m    428\u001b[0m                 \u001b[0mindex\u001b[0m \u001b[0;34m=\u001b[0m \u001b[0mibase\u001b[0m\u001b[0;34m.\u001b[0m\u001b[0mdefault_index\u001b[0m\u001b[0;34m(\u001b[0m\u001b[0mlen\u001b[0m\u001b[0;34m(\u001b[0m\u001b[0mdata\u001b[0m\u001b[0;34m)\u001b[0m\u001b[0;34m)\u001b[0m\u001b[0;34m\u001b[0m\u001b[0;34m\u001b[0m\u001b[0m\n\u001b[1;32m    429\u001b[0m             \u001b[0;32melif\u001b[0m \u001b[0mis_list_like\u001b[0m\u001b[0;34m(\u001b[0m\u001b[0mdata\u001b[0m\u001b[0;34m)\u001b[0m\u001b[0;34m:\u001b[0m\u001b[0;34m\u001b[0m\u001b[0;34m\u001b[0m\u001b[0m\n\u001b[0;32m--> 430\u001b[0;31m                 \u001b[0mcom\u001b[0m\u001b[0;34m.\u001b[0m\u001b[0mrequire_length_match\u001b[0m\u001b[0;34m(\u001b[0m\u001b[0mdata\u001b[0m\u001b[0;34m,\u001b[0m \u001b[0mindex\u001b[0m\u001b[0;34m)\u001b[0m\u001b[0;34m\u001b[0m\u001b[0;34m\u001b[0m\u001b[0m\n\u001b[0m\u001b[1;32m    431\u001b[0m \u001b[0;34m\u001b[0m\u001b[0m\n\u001b[1;32m    432\u001b[0m             \u001b[0;31m# create/copy the manager\u001b[0m\u001b[0;34m\u001b[0m\u001b[0;34m\u001b[0m\u001b[0;34m\u001b[0m\u001b[0m\n",
            "\u001b[0;32m/usr/local/lib/python3.7/dist-packages/pandas/core/common.py\u001b[0m in \u001b[0;36mrequire_length_match\u001b[0;34m(data, index)\u001b[0m\n\u001b[1;32m    530\u001b[0m     \u001b[0;32mif\u001b[0m \u001b[0mlen\u001b[0m\u001b[0;34m(\u001b[0m\u001b[0mdata\u001b[0m\u001b[0;34m)\u001b[0m \u001b[0;34m!=\u001b[0m \u001b[0mlen\u001b[0m\u001b[0;34m(\u001b[0m\u001b[0mindex\u001b[0m\u001b[0;34m)\u001b[0m\u001b[0;34m:\u001b[0m\u001b[0;34m\u001b[0m\u001b[0;34m\u001b[0m\u001b[0m\n\u001b[1;32m    531\u001b[0m         raise ValueError(\n\u001b[0;32m--> 532\u001b[0;31m             \u001b[0;34m\"Length of values \"\u001b[0m\u001b[0;34m\u001b[0m\u001b[0;34m\u001b[0m\u001b[0m\n\u001b[0m\u001b[1;32m    533\u001b[0m             \u001b[0;34mf\"({len(data)}) \"\u001b[0m\u001b[0;34m\u001b[0m\u001b[0;34m\u001b[0m\u001b[0m\n\u001b[1;32m    534\u001b[0m             \u001b[0;34m\"does not match length of index \"\u001b[0m\u001b[0;34m\u001b[0m\u001b[0;34m\u001b[0m\u001b[0m\n",
            "\u001b[0;31mValueError\u001b[0m: Length of values (3849) does not match length of index (50)"
          ]
        }
      ]
    },
    {
      "cell_type": "markdown",
      "source": [
        "**Write the top 10 gene components of the PCs into a dataframe**"
      ],
      "metadata": {
        "id": "2-mBYO0WhVJO"
      }
    },
    {
      "cell_type": "code",
      "source": [
        "#To-Do"
      ],
      "metadata": {
        "id": "NK27EuCxheCp"
      },
      "execution_count": null,
      "outputs": []
    },
    {
      "cell_type": "markdown",
      "source": [
        "Rank genes according to contributions to PCs."
      ],
      "metadata": {
        "id": "ulnVJLWrF7xO"
      }
    },
    {
      "cell_type": "markdown",
      "source": [
        "####**Find the feature importance of the model Part 2.**\n",
        "This part of code looks at feature importances using the scikit learn method.\n",
        "\n",
        "---"
      ],
      "metadata": {
        "id": "cshg-RQnLpBK"
      }
    },
    {
      "cell_type": "code",
      "source": [
        "feature_names = [f\"feature {i}\" for i in range(X.shape[1])]\n",
        "print(feature_names)"
      ],
      "metadata": {
        "id": "PR5jDdKOEkME",
        "colab": {
          "base_uri": "https://localhost:8080/"
        },
        "outputId": "e1e4cb1e-bf84-41e6-84a7-11d4830ef65e"
      },
      "execution_count": null,
      "outputs": [
        {
          "output_type": "stream",
          "name": "stdout",
          "text": [
            "['feature 0', 'feature 1', 'feature 2', 'feature 3', 'feature 4', 'feature 5', 'feature 6', 'feature 7', 'feature 8', 'feature 9', 'feature 10', 'feature 11', 'feature 12', 'feature 13', 'feature 14', 'feature 15', 'feature 16', 'feature 17', 'feature 18', 'feature 19', 'feature 20', 'feature 21', 'feature 22', 'feature 23', 'feature 24', 'feature 25', 'feature 26', 'feature 27', 'feature 28', 'feature 29', 'feature 30', 'feature 31', 'feature 32', 'feature 33', 'feature 34', 'feature 35', 'feature 36', 'feature 37', 'feature 38', 'feature 39', 'feature 40', 'feature 41', 'feature 42', 'feature 43', 'feature 44', 'feature 45', 'feature 46', 'feature 47', 'feature 48', 'feature 49', 'feature 50', 'feature 51', 'feature 52', 'feature 53', 'feature 54', 'feature 55', 'feature 56', 'feature 57', 'feature 58', 'feature 59', 'feature 60', 'feature 61', 'feature 62', 'feature 63', 'feature 64', 'feature 65', 'feature 66', 'feature 67', 'feature 68', 'feature 69', 'feature 70', 'feature 71', 'feature 72', 'feature 73', 'feature 74', 'feature 75', 'feature 76', 'feature 77', 'feature 78', 'feature 79', 'feature 80', 'feature 81', 'feature 82', 'feature 83', 'feature 84', 'feature 85', 'feature 86', 'feature 87', 'feature 88', 'feature 89', 'feature 90', 'feature 91', 'feature 92', 'feature 93', 'feature 94', 'feature 95', 'feature 96', 'feature 97', 'feature 98', 'feature 99', 'feature 100', 'feature 101', 'feature 102', 'feature 103', 'feature 104', 'feature 105', 'feature 106', 'feature 107', 'feature 108', 'feature 109', 'feature 110', 'feature 111', 'feature 112', 'feature 113', 'feature 114', 'feature 115', 'feature 116', 'feature 117', 'feature 118', 'feature 119', 'feature 120', 'feature 121', 'feature 122', 'feature 123', 'feature 124', 'feature 125', 'feature 126', 'feature 127', 'feature 128', 'feature 129', 'feature 130', 'feature 131', 'feature 132', 'feature 133', 'feature 134', 'feature 135', 'feature 136', 'feature 137', 'feature 138', 'feature 139', 'feature 140', 'feature 141', 'feature 142', 'feature 143', 'feature 144', 'feature 145', 'feature 146', 'feature 147', 'feature 148', 'feature 149', 'feature 150', 'feature 151', 'feature 152', 'feature 153', 'feature 154', 'feature 155', 'feature 156', 'feature 157', 'feature 158', 'feature 159', 'feature 160', 'feature 161', 'feature 162', 'feature 163', 'feature 164', 'feature 165', 'feature 166', 'feature 167', 'feature 168', 'feature 169', 'feature 170', 'feature 171', 'feature 172', 'feature 173', 'feature 174', 'feature 175', 'feature 176', 'feature 177', 'feature 178', 'feature 179', 'feature 180', 'feature 181', 'feature 182', 'feature 183', 'feature 184', 'feature 185', 'feature 186', 'feature 187', 'feature 188', 'feature 189', 'feature 190', 'feature 191', 'feature 192', 'feature 193', 'feature 194', 'feature 195', 'feature 196', 'feature 197', 'feature 198', 'feature 199', 'feature 200', 'feature 201', 'feature 202', 'feature 203', 'feature 204', 'feature 205', 'feature 206', 'feature 207', 'feature 208', 'feature 209', 'feature 210', 'feature 211', 'feature 212', 'feature 213', 'feature 214', 'feature 215', 'feature 216', 'feature 217', 'feature 218', 'feature 219', 'feature 220', 'feature 221', 'feature 222', 'feature 223', 'feature 224', 'feature 225', 'feature 226', 'feature 227', 'feature 228', 'feature 229', 'feature 230', 'feature 231', 'feature 232', 'feature 233', 'feature 234', 'feature 235', 'feature 236', 'feature 237', 'feature 238', 'feature 239', 'feature 240', 'feature 241', 'feature 242', 'feature 243', 'feature 244', 'feature 245', 'feature 246', 'feature 247', 'feature 248', 'feature 249', 'feature 250', 'feature 251', 'feature 252', 'feature 253', 'feature 254', 'feature 255', 'feature 256', 'feature 257', 'feature 258', 'feature 259', 'feature 260', 'feature 261', 'feature 262', 'feature 263', 'feature 264', 'feature 265', 'feature 266', 'feature 267', 'feature 268', 'feature 269', 'feature 270', 'feature 271', 'feature 272', 'feature 273', 'feature 274', 'feature 275', 'feature 276', 'feature 277', 'feature 278', 'feature 279', 'feature 280', 'feature 281', 'feature 282', 'feature 283', 'feature 284', 'feature 285', 'feature 286', 'feature 287', 'feature 288', 'feature 289', 'feature 290', 'feature 291', 'feature 292', 'feature 293', 'feature 294', 'feature 295', 'feature 296', 'feature 297', 'feature 298', 'feature 299', 'feature 300', 'feature 301', 'feature 302', 'feature 303', 'feature 304', 'feature 305', 'feature 306', 'feature 307', 'feature 308', 'feature 309', 'feature 310', 'feature 311', 'feature 312', 'feature 313', 'feature 314', 'feature 315', 'feature 316', 'feature 317', 'feature 318', 'feature 319', 'feature 320', 'feature 321', 'feature 322', 'feature 323', 'feature 324', 'feature 325', 'feature 326', 'feature 327', 'feature 328', 'feature 329', 'feature 330', 'feature 331', 'feature 332', 'feature 333', 'feature 334', 'feature 335', 'feature 336', 'feature 337', 'feature 338', 'feature 339', 'feature 340', 'feature 341', 'feature 342', 'feature 343', 'feature 344', 'feature 345', 'feature 346', 'feature 347', 'feature 348', 'feature 349', 'feature 350', 'feature 351', 'feature 352', 'feature 353', 'feature 354', 'feature 355', 'feature 356', 'feature 357', 'feature 358', 'feature 359', 'feature 360', 'feature 361', 'feature 362', 'feature 363', 'feature 364', 'feature 365', 'feature 366', 'feature 367', 'feature 368', 'feature 369', 'feature 370', 'feature 371', 'feature 372', 'feature 373', 'feature 374', 'feature 375', 'feature 376', 'feature 377', 'feature 378', 'feature 379', 'feature 380', 'feature 381', 'feature 382', 'feature 383', 'feature 384', 'feature 385', 'feature 386', 'feature 387', 'feature 388', 'feature 389', 'feature 390', 'feature 391', 'feature 392', 'feature 393', 'feature 394', 'feature 395', 'feature 396', 'feature 397', 'feature 398', 'feature 399', 'feature 400', 'feature 401', 'feature 402', 'feature 403', 'feature 404', 'feature 405', 'feature 406', 'feature 407', 'feature 408', 'feature 409', 'feature 410', 'feature 411', 'feature 412', 'feature 413', 'feature 414', 'feature 415', 'feature 416', 'feature 417', 'feature 418', 'feature 419', 'feature 420', 'feature 421', 'feature 422', 'feature 423', 'feature 424', 'feature 425', 'feature 426', 'feature 427', 'feature 428', 'feature 429', 'feature 430', 'feature 431', 'feature 432', 'feature 433', 'feature 434', 'feature 435', 'feature 436', 'feature 437', 'feature 438', 'feature 439', 'feature 440', 'feature 441', 'feature 442', 'feature 443', 'feature 444', 'feature 445', 'feature 446', 'feature 447', 'feature 448', 'feature 449', 'feature 450', 'feature 451', 'feature 452', 'feature 453', 'feature 454', 'feature 455', 'feature 456', 'feature 457', 'feature 458', 'feature 459', 'feature 460', 'feature 461', 'feature 462', 'feature 463', 'feature 464', 'feature 465', 'feature 466', 'feature 467', 'feature 468', 'feature 469', 'feature 470', 'feature 471', 'feature 472', 'feature 473', 'feature 474', 'feature 475', 'feature 476', 'feature 477', 'feature 478', 'feature 479', 'feature 480', 'feature 481', 'feature 482', 'feature 483', 'feature 484', 'feature 485', 'feature 486', 'feature 487', 'feature 488', 'feature 489', 'feature 490', 'feature 491', 'feature 492', 'feature 493', 'feature 494', 'feature 495', 'feature 496', 'feature 497', 'feature 498', 'feature 499', 'feature 500', 'feature 501', 'feature 502', 'feature 503', 'feature 504', 'feature 505', 'feature 506', 'feature 507', 'feature 508', 'feature 509', 'feature 510', 'feature 511', 'feature 512', 'feature 513', 'feature 514', 'feature 515', 'feature 516', 'feature 517', 'feature 518', 'feature 519', 'feature 520', 'feature 521', 'feature 522', 'feature 523', 'feature 524', 'feature 525', 'feature 526', 'feature 527', 'feature 528', 'feature 529', 'feature 530', 'feature 531', 'feature 532', 'feature 533', 'feature 534', 'feature 535', 'feature 536', 'feature 537', 'feature 538', 'feature 539', 'feature 540', 'feature 541', 'feature 542', 'feature 543', 'feature 544', 'feature 545', 'feature 546', 'feature 547', 'feature 548', 'feature 549', 'feature 550', 'feature 551', 'feature 552', 'feature 553', 'feature 554', 'feature 555', 'feature 556', 'feature 557', 'feature 558', 'feature 559', 'feature 560', 'feature 561', 'feature 562', 'feature 563', 'feature 564', 'feature 565', 'feature 566', 'feature 567', 'feature 568', 'feature 569', 'feature 570', 'feature 571', 'feature 572', 'feature 573', 'feature 574', 'feature 575', 'feature 576', 'feature 577', 'feature 578', 'feature 579', 'feature 580', 'feature 581', 'feature 582', 'feature 583', 'feature 584', 'feature 585', 'feature 586', 'feature 587', 'feature 588', 'feature 589', 'feature 590', 'feature 591', 'feature 592', 'feature 593', 'feature 594', 'feature 595', 'feature 596', 'feature 597', 'feature 598', 'feature 599', 'feature 600', 'feature 601', 'feature 602', 'feature 603', 'feature 604', 'feature 605', 'feature 606', 'feature 607', 'feature 608', 'feature 609', 'feature 610', 'feature 611', 'feature 612', 'feature 613', 'feature 614', 'feature 615', 'feature 616', 'feature 617', 'feature 618', 'feature 619', 'feature 620', 'feature 621', 'feature 622', 'feature 623', 'feature 624', 'feature 625', 'feature 626', 'feature 627', 'feature 628', 'feature 629', 'feature 630', 'feature 631', 'feature 632', 'feature 633', 'feature 634', 'feature 635', 'feature 636', 'feature 637', 'feature 638', 'feature 639', 'feature 640', 'feature 641', 'feature 642', 'feature 643', 'feature 644', 'feature 645', 'feature 646', 'feature 647', 'feature 648', 'feature 649', 'feature 650', 'feature 651', 'feature 652', 'feature 653', 'feature 654', 'feature 655', 'feature 656', 'feature 657', 'feature 658', 'feature 659', 'feature 660', 'feature 661', 'feature 662', 'feature 663', 'feature 664', 'feature 665', 'feature 666', 'feature 667', 'feature 668', 'feature 669', 'feature 670', 'feature 671', 'feature 672', 'feature 673', 'feature 674', 'feature 675', 'feature 676', 'feature 677', 'feature 678', 'feature 679', 'feature 680', 'feature 681', 'feature 682', 'feature 683', 'feature 684', 'feature 685', 'feature 686', 'feature 687', 'feature 688', 'feature 689', 'feature 690', 'feature 691', 'feature 692', 'feature 693', 'feature 694', 'feature 695', 'feature 696', 'feature 697', 'feature 698', 'feature 699', 'feature 700', 'feature 701', 'feature 702', 'feature 703', 'feature 704', 'feature 705', 'feature 706', 'feature 707', 'feature 708', 'feature 709', 'feature 710', 'feature 711', 'feature 712', 'feature 713', 'feature 714', 'feature 715', 'feature 716', 'feature 717', 'feature 718', 'feature 719', 'feature 720', 'feature 721', 'feature 722', 'feature 723', 'feature 724', 'feature 725', 'feature 726', 'feature 727', 'feature 728', 'feature 729', 'feature 730', 'feature 731', 'feature 732', 'feature 733', 'feature 734', 'feature 735', 'feature 736', 'feature 737', 'feature 738', 'feature 739', 'feature 740', 'feature 741', 'feature 742', 'feature 743', 'feature 744', 'feature 745', 'feature 746', 'feature 747', 'feature 748', 'feature 749', 'feature 750', 'feature 751', 'feature 752', 'feature 753', 'feature 754', 'feature 755', 'feature 756', 'feature 757', 'feature 758', 'feature 759', 'feature 760', 'feature 761', 'feature 762', 'feature 763', 'feature 764', 'feature 765', 'feature 766', 'feature 767', 'feature 768', 'feature 769', 'feature 770', 'feature 771', 'feature 772', 'feature 773', 'feature 774', 'feature 775', 'feature 776', 'feature 777', 'feature 778', 'feature 779', 'feature 780', 'feature 781', 'feature 782', 'feature 783', 'feature 784', 'feature 785', 'feature 786', 'feature 787', 'feature 788', 'feature 789', 'feature 790', 'feature 791', 'feature 792', 'feature 793', 'feature 794', 'feature 795', 'feature 796', 'feature 797', 'feature 798', 'feature 799', 'feature 800', 'feature 801', 'feature 802', 'feature 803', 'feature 804', 'feature 805', 'feature 806', 'feature 807', 'feature 808', 'feature 809', 'feature 810', 'feature 811', 'feature 812', 'feature 813', 'feature 814', 'feature 815', 'feature 816', 'feature 817', 'feature 818', 'feature 819', 'feature 820', 'feature 821', 'feature 822', 'feature 823', 'feature 824', 'feature 825', 'feature 826', 'feature 827', 'feature 828', 'feature 829', 'feature 830', 'feature 831', 'feature 832', 'feature 833', 'feature 834', 'feature 835', 'feature 836', 'feature 837', 'feature 838', 'feature 839', 'feature 840', 'feature 841', 'feature 842', 'feature 843', 'feature 844', 'feature 845', 'feature 846', 'feature 847', 'feature 848', 'feature 849', 'feature 850', 'feature 851', 'feature 852', 'feature 853', 'feature 854', 'feature 855', 'feature 856', 'feature 857', 'feature 858', 'feature 859', 'feature 860', 'feature 861', 'feature 862', 'feature 863', 'feature 864', 'feature 865', 'feature 866', 'feature 867', 'feature 868', 'feature 869', 'feature 870', 'feature 871', 'feature 872', 'feature 873', 'feature 874', 'feature 875', 'feature 876', 'feature 877', 'feature 878', 'feature 879', 'feature 880', 'feature 881', 'feature 882', 'feature 883', 'feature 884', 'feature 885', 'feature 886', 'feature 887', 'feature 888', 'feature 889', 'feature 890', 'feature 891', 'feature 892', 'feature 893', 'feature 894', 'feature 895', 'feature 896', 'feature 897', 'feature 898', 'feature 899', 'feature 900', 'feature 901', 'feature 902', 'feature 903', 'feature 904', 'feature 905', 'feature 906', 'feature 907', 'feature 908', 'feature 909', 'feature 910', 'feature 911', 'feature 912', 'feature 913', 'feature 914', 'feature 915', 'feature 916', 'feature 917', 'feature 918', 'feature 919', 'feature 920', 'feature 921', 'feature 922', 'feature 923', 'feature 924', 'feature 925', 'feature 926', 'feature 927', 'feature 928', 'feature 929', 'feature 930', 'feature 931', 'feature 932', 'feature 933', 'feature 934', 'feature 935', 'feature 936', 'feature 937', 'feature 938', 'feature 939', 'feature 940', 'feature 941', 'feature 942', 'feature 943', 'feature 944', 'feature 945', 'feature 946', 'feature 947', 'feature 948', 'feature 949', 'feature 950', 'feature 951', 'feature 952', 'feature 953', 'feature 954', 'feature 955', 'feature 956', 'feature 957', 'feature 958', 'feature 959', 'feature 960', 'feature 961', 'feature 962', 'feature 963', 'feature 964', 'feature 965', 'feature 966', 'feature 967', 'feature 968', 'feature 969', 'feature 970', 'feature 971', 'feature 972', 'feature 973', 'feature 974', 'feature 975', 'feature 976', 'feature 977', 'feature 978', 'feature 979', 'feature 980', 'feature 981', 'feature 982', 'feature 983', 'feature 984', 'feature 985', 'feature 986', 'feature 987', 'feature 988', 'feature 989', 'feature 990', 'feature 991', 'feature 992', 'feature 993', 'feature 994', 'feature 995', 'feature 996', 'feature 997', 'feature 998', 'feature 999', 'feature 1000', 'feature 1001', 'feature 1002', 'feature 1003', 'feature 1004', 'feature 1005', 'feature 1006', 'feature 1007', 'feature 1008', 'feature 1009', 'feature 1010', 'feature 1011', 'feature 1012', 'feature 1013', 'feature 1014', 'feature 1015', 'feature 1016', 'feature 1017', 'feature 1018', 'feature 1019', 'feature 1020', 'feature 1021', 'feature 1022', 'feature 1023', 'feature 1024', 'feature 1025', 'feature 1026', 'feature 1027', 'feature 1028', 'feature 1029', 'feature 1030', 'feature 1031', 'feature 1032', 'feature 1033', 'feature 1034', 'feature 1035', 'feature 1036', 'feature 1037', 'feature 1038', 'feature 1039', 'feature 1040', 'feature 1041', 'feature 1042', 'feature 1043', 'feature 1044', 'feature 1045', 'feature 1046', 'feature 1047', 'feature 1048', 'feature 1049', 'feature 1050', 'feature 1051', 'feature 1052', 'feature 1053', 'feature 1054', 'feature 1055', 'feature 1056', 'feature 1057', 'feature 1058', 'feature 1059', 'feature 1060', 'feature 1061', 'feature 1062', 'feature 1063', 'feature 1064', 'feature 1065', 'feature 1066', 'feature 1067', 'feature 1068', 'feature 1069', 'feature 1070', 'feature 1071', 'feature 1072', 'feature 1073', 'feature 1074', 'feature 1075', 'feature 1076', 'feature 1077', 'feature 1078', 'feature 1079', 'feature 1080', 'feature 1081', 'feature 1082', 'feature 1083', 'feature 1084', 'feature 1085', 'feature 1086', 'feature 1087', 'feature 1088', 'feature 1089', 'feature 1090', 'feature 1091', 'feature 1092', 'feature 1093', 'feature 1094', 'feature 1095', 'feature 1096', 'feature 1097', 'feature 1098', 'feature 1099', 'feature 1100', 'feature 1101', 'feature 1102', 'feature 1103', 'feature 1104', 'feature 1105', 'feature 1106', 'feature 1107', 'feature 1108', 'feature 1109', 'feature 1110', 'feature 1111', 'feature 1112', 'feature 1113', 'feature 1114', 'feature 1115', 'feature 1116', 'feature 1117', 'feature 1118', 'feature 1119', 'feature 1120', 'feature 1121', 'feature 1122', 'feature 1123', 'feature 1124', 'feature 1125', 'feature 1126', 'feature 1127', 'feature 1128', 'feature 1129', 'feature 1130', 'feature 1131', 'feature 1132', 'feature 1133', 'feature 1134', 'feature 1135', 'feature 1136', 'feature 1137', 'feature 1138', 'feature 1139', 'feature 1140', 'feature 1141', 'feature 1142', 'feature 1143', 'feature 1144', 'feature 1145', 'feature 1146', 'feature 1147', 'feature 1148', 'feature 1149', 'feature 1150', 'feature 1151', 'feature 1152', 'feature 1153', 'feature 1154', 'feature 1155', 'feature 1156', 'feature 1157', 'feature 1158', 'feature 1159', 'feature 1160', 'feature 1161', 'feature 1162', 'feature 1163', 'feature 1164', 'feature 1165', 'feature 1166', 'feature 1167', 'feature 1168', 'feature 1169', 'feature 1170', 'feature 1171', 'feature 1172', 'feature 1173', 'feature 1174', 'feature 1175', 'feature 1176', 'feature 1177', 'feature 1178', 'feature 1179', 'feature 1180', 'feature 1181', 'feature 1182', 'feature 1183', 'feature 1184', 'feature 1185', 'feature 1186', 'feature 1187', 'feature 1188', 'feature 1189', 'feature 1190', 'feature 1191', 'feature 1192', 'feature 1193', 'feature 1194', 'feature 1195', 'feature 1196', 'feature 1197', 'feature 1198', 'feature 1199', 'feature 1200', 'feature 1201', 'feature 1202', 'feature 1203', 'feature 1204', 'feature 1205', 'feature 1206', 'feature 1207', 'feature 1208', 'feature 1209', 'feature 1210', 'feature 1211', 'feature 1212', 'feature 1213', 'feature 1214', 'feature 1215', 'feature 1216', 'feature 1217', 'feature 1218', 'feature 1219', 'feature 1220', 'feature 1221', 'feature 1222', 'feature 1223', 'feature 1224', 'feature 1225', 'feature 1226', 'feature 1227', 'feature 1228', 'feature 1229', 'feature 1230', 'feature 1231', 'feature 1232', 'feature 1233', 'feature 1234', 'feature 1235', 'feature 1236', 'feature 1237', 'feature 1238', 'feature 1239', 'feature 1240', 'feature 1241', 'feature 1242', 'feature 1243', 'feature 1244', 'feature 1245', 'feature 1246', 'feature 1247', 'feature 1248', 'feature 1249', 'feature 1250', 'feature 1251', 'feature 1252', 'feature 1253', 'feature 1254', 'feature 1255', 'feature 1256', 'feature 1257', 'feature 1258', 'feature 1259', 'feature 1260', 'feature 1261', 'feature 1262', 'feature 1263', 'feature 1264', 'feature 1265', 'feature 1266', 'feature 1267', 'feature 1268', 'feature 1269', 'feature 1270', 'feature 1271', 'feature 1272', 'feature 1273', 'feature 1274', 'feature 1275', 'feature 1276', 'feature 1277', 'feature 1278', 'feature 1279', 'feature 1280', 'feature 1281', 'feature 1282', 'feature 1283', 'feature 1284', 'feature 1285', 'feature 1286', 'feature 1287', 'feature 1288', 'feature 1289', 'feature 1290', 'feature 1291', 'feature 1292', 'feature 1293', 'feature 1294', 'feature 1295', 'feature 1296', 'feature 1297', 'feature 1298', 'feature 1299', 'feature 1300', 'feature 1301', 'feature 1302', 'feature 1303', 'feature 1304', 'feature 1305', 'feature 1306', 'feature 1307', 'feature 1308', 'feature 1309', 'feature 1310', 'feature 1311', 'feature 1312', 'feature 1313', 'feature 1314', 'feature 1315', 'feature 1316', 'feature 1317', 'feature 1318', 'feature 1319', 'feature 1320', 'feature 1321', 'feature 1322', 'feature 1323', 'feature 1324', 'feature 1325', 'feature 1326', 'feature 1327', 'feature 1328', 'feature 1329', 'feature 1330', 'feature 1331', 'feature 1332', 'feature 1333', 'feature 1334', 'feature 1335', 'feature 1336', 'feature 1337', 'feature 1338', 'feature 1339', 'feature 1340', 'feature 1341', 'feature 1342', 'feature 1343', 'feature 1344', 'feature 1345', 'feature 1346', 'feature 1347', 'feature 1348', 'feature 1349', 'feature 1350', 'feature 1351', 'feature 1352', 'feature 1353', 'feature 1354', 'feature 1355', 'feature 1356', 'feature 1357', 'feature 1358', 'feature 1359', 'feature 1360', 'feature 1361', 'feature 1362', 'feature 1363', 'feature 1364', 'feature 1365', 'feature 1366', 'feature 1367', 'feature 1368', 'feature 1369', 'feature 1370', 'feature 1371', 'feature 1372', 'feature 1373', 'feature 1374', 'feature 1375', 'feature 1376', 'feature 1377', 'feature 1378', 'feature 1379', 'feature 1380', 'feature 1381', 'feature 1382', 'feature 1383', 'feature 1384', 'feature 1385', 'feature 1386', 'feature 1387', 'feature 1388', 'feature 1389', 'feature 1390', 'feature 1391', 'feature 1392', 'feature 1393', 'feature 1394', 'feature 1395', 'feature 1396', 'feature 1397', 'feature 1398', 'feature 1399', 'feature 1400', 'feature 1401', 'feature 1402', 'feature 1403', 'feature 1404', 'feature 1405', 'feature 1406', 'feature 1407', 'feature 1408', 'feature 1409', 'feature 1410', 'feature 1411', 'feature 1412', 'feature 1413', 'feature 1414', 'feature 1415', 'feature 1416', 'feature 1417', 'feature 1418', 'feature 1419', 'feature 1420', 'feature 1421', 'feature 1422', 'feature 1423', 'feature 1424', 'feature 1425', 'feature 1426', 'feature 1427', 'feature 1428', 'feature 1429', 'feature 1430', 'feature 1431', 'feature 1432', 'feature 1433', 'feature 1434', 'feature 1435', 'feature 1436', 'feature 1437', 'feature 1438', 'feature 1439', 'feature 1440', 'feature 1441', 'feature 1442', 'feature 1443', 'feature 1444', 'feature 1445', 'feature 1446', 'feature 1447', 'feature 1448', 'feature 1449', 'feature 1450', 'feature 1451', 'feature 1452', 'feature 1453', 'feature 1454', 'feature 1455', 'feature 1456', 'feature 1457', 'feature 1458', 'feature 1459', 'feature 1460', 'feature 1461', 'feature 1462', 'feature 1463', 'feature 1464', 'feature 1465', 'feature 1466', 'feature 1467', 'feature 1468', 'feature 1469', 'feature 1470', 'feature 1471', 'feature 1472', 'feature 1473', 'feature 1474', 'feature 1475', 'feature 1476', 'feature 1477', 'feature 1478', 'feature 1479', 'feature 1480', 'feature 1481', 'feature 1482', 'feature 1483', 'feature 1484', 'feature 1485', 'feature 1486', 'feature 1487', 'feature 1488', 'feature 1489', 'feature 1490', 'feature 1491', 'feature 1492', 'feature 1493', 'feature 1494', 'feature 1495', 'feature 1496', 'feature 1497', 'feature 1498', 'feature 1499', 'feature 1500', 'feature 1501', 'feature 1502', 'feature 1503', 'feature 1504', 'feature 1505', 'feature 1506', 'feature 1507', 'feature 1508', 'feature 1509', 'feature 1510', 'feature 1511', 'feature 1512', 'feature 1513', 'feature 1514', 'feature 1515', 'feature 1516', 'feature 1517', 'feature 1518', 'feature 1519', 'feature 1520', 'feature 1521', 'feature 1522', 'feature 1523', 'feature 1524', 'feature 1525', 'feature 1526', 'feature 1527', 'feature 1528', 'feature 1529', 'feature 1530', 'feature 1531', 'feature 1532', 'feature 1533', 'feature 1534', 'feature 1535', 'feature 1536', 'feature 1537', 'feature 1538', 'feature 1539', 'feature 1540', 'feature 1541', 'feature 1542', 'feature 1543', 'feature 1544', 'feature 1545', 'feature 1546', 'feature 1547', 'feature 1548', 'feature 1549', 'feature 1550', 'feature 1551', 'feature 1552', 'feature 1553', 'feature 1554', 'feature 1555', 'feature 1556', 'feature 1557', 'feature 1558', 'feature 1559', 'feature 1560', 'feature 1561', 'feature 1562', 'feature 1563', 'feature 1564', 'feature 1565', 'feature 1566', 'feature 1567', 'feature 1568', 'feature 1569', 'feature 1570', 'feature 1571', 'feature 1572', 'feature 1573', 'feature 1574', 'feature 1575', 'feature 1576', 'feature 1577', 'feature 1578', 'feature 1579', 'feature 1580', 'feature 1581', 'feature 1582', 'feature 1583', 'feature 1584', 'feature 1585', 'feature 1586', 'feature 1587', 'feature 1588', 'feature 1589', 'feature 1590', 'feature 1591', 'feature 1592', 'feature 1593', 'feature 1594', 'feature 1595', 'feature 1596', 'feature 1597', 'feature 1598', 'feature 1599', 'feature 1600', 'feature 1601', 'feature 1602', 'feature 1603', 'feature 1604', 'feature 1605', 'feature 1606', 'feature 1607', 'feature 1608', 'feature 1609', 'feature 1610', 'feature 1611', 'feature 1612', 'feature 1613', 'feature 1614', 'feature 1615', 'feature 1616', 'feature 1617', 'feature 1618', 'feature 1619', 'feature 1620', 'feature 1621', 'feature 1622', 'feature 1623', 'feature 1624', 'feature 1625', 'feature 1626', 'feature 1627', 'feature 1628', 'feature 1629', 'feature 1630', 'feature 1631', 'feature 1632', 'feature 1633', 'feature 1634', 'feature 1635', 'feature 1636', 'feature 1637', 'feature 1638', 'feature 1639', 'feature 1640', 'feature 1641', 'feature 1642', 'feature 1643', 'feature 1644', 'feature 1645', 'feature 1646', 'feature 1647', 'feature 1648', 'feature 1649', 'feature 1650', 'feature 1651', 'feature 1652', 'feature 1653', 'feature 1654', 'feature 1655', 'feature 1656', 'feature 1657', 'feature 1658', 'feature 1659', 'feature 1660', 'feature 1661', 'feature 1662', 'feature 1663', 'feature 1664', 'feature 1665', 'feature 1666', 'feature 1667', 'feature 1668', 'feature 1669', 'feature 1670', 'feature 1671', 'feature 1672', 'feature 1673', 'feature 1674', 'feature 1675', 'feature 1676', 'feature 1677', 'feature 1678', 'feature 1679', 'feature 1680', 'feature 1681', 'feature 1682', 'feature 1683', 'feature 1684', 'feature 1685', 'feature 1686', 'feature 1687', 'feature 1688', 'feature 1689', 'feature 1690', 'feature 1691', 'feature 1692', 'feature 1693', 'feature 1694', 'feature 1695', 'feature 1696', 'feature 1697', 'feature 1698', 'feature 1699', 'feature 1700', 'feature 1701', 'feature 1702', 'feature 1703', 'feature 1704', 'feature 1705', 'feature 1706', 'feature 1707', 'feature 1708', 'feature 1709', 'feature 1710', 'feature 1711', 'feature 1712', 'feature 1713', 'feature 1714', 'feature 1715', 'feature 1716', 'feature 1717', 'feature 1718', 'feature 1719', 'feature 1720', 'feature 1721', 'feature 1722', 'feature 1723', 'feature 1724', 'feature 1725', 'feature 1726', 'feature 1727', 'feature 1728', 'feature 1729', 'feature 1730', 'feature 1731', 'feature 1732', 'feature 1733', 'feature 1734', 'feature 1735', 'feature 1736', 'feature 1737', 'feature 1738', 'feature 1739', 'feature 1740', 'feature 1741', 'feature 1742', 'feature 1743', 'feature 1744', 'feature 1745', 'feature 1746', 'feature 1747', 'feature 1748', 'feature 1749', 'feature 1750', 'feature 1751', 'feature 1752', 'feature 1753', 'feature 1754', 'feature 1755', 'feature 1756', 'feature 1757', 'feature 1758', 'feature 1759', 'feature 1760', 'feature 1761', 'feature 1762', 'feature 1763', 'feature 1764', 'feature 1765', 'feature 1766', 'feature 1767', 'feature 1768', 'feature 1769', 'feature 1770', 'feature 1771', 'feature 1772', 'feature 1773', 'feature 1774', 'feature 1775', 'feature 1776', 'feature 1777', 'feature 1778', 'feature 1779', 'feature 1780', 'feature 1781', 'feature 1782', 'feature 1783', 'feature 1784', 'feature 1785', 'feature 1786', 'feature 1787', 'feature 1788', 'feature 1789', 'feature 1790', 'feature 1791', 'feature 1792', 'feature 1793', 'feature 1794', 'feature 1795', 'feature 1796', 'feature 1797', 'feature 1798', 'feature 1799', 'feature 1800', 'feature 1801', 'feature 1802', 'feature 1803', 'feature 1804', 'feature 1805', 'feature 1806', 'feature 1807', 'feature 1808', 'feature 1809', 'feature 1810', 'feature 1811', 'feature 1812', 'feature 1813', 'feature 1814', 'feature 1815', 'feature 1816', 'feature 1817', 'feature 1818', 'feature 1819', 'feature 1820', 'feature 1821', 'feature 1822', 'feature 1823', 'feature 1824', 'feature 1825', 'feature 1826', 'feature 1827', 'feature 1828', 'feature 1829', 'feature 1830', 'feature 1831', 'feature 1832', 'feature 1833', 'feature 1834', 'feature 1835', 'feature 1836', 'feature 1837', 'feature 1838', 'feature 1839', 'feature 1840', 'feature 1841', 'feature 1842', 'feature 1843', 'feature 1844', 'feature 1845', 'feature 1846', 'feature 1847', 'feature 1848', 'feature 1849', 'feature 1850', 'feature 1851', 'feature 1852', 'feature 1853', 'feature 1854', 'feature 1855', 'feature 1856', 'feature 1857', 'feature 1858', 'feature 1859', 'feature 1860', 'feature 1861', 'feature 1862', 'feature 1863', 'feature 1864', 'feature 1865', 'feature 1866', 'feature 1867', 'feature 1868', 'feature 1869', 'feature 1870', 'feature 1871', 'feature 1872', 'feature 1873', 'feature 1874', 'feature 1875', 'feature 1876', 'feature 1877', 'feature 1878', 'feature 1879', 'feature 1880', 'feature 1881', 'feature 1882', 'feature 1883', 'feature 1884', 'feature 1885', 'feature 1886', 'feature 1887', 'feature 1888', 'feature 1889', 'feature 1890', 'feature 1891', 'feature 1892', 'feature 1893', 'feature 1894', 'feature 1895', 'feature 1896', 'feature 1897', 'feature 1898', 'feature 1899', 'feature 1900', 'feature 1901', 'feature 1902', 'feature 1903', 'feature 1904', 'feature 1905', 'feature 1906', 'feature 1907', 'feature 1908', 'feature 1909', 'feature 1910', 'feature 1911', 'feature 1912', 'feature 1913', 'feature 1914', 'feature 1915', 'feature 1916', 'feature 1917', 'feature 1918', 'feature 1919', 'feature 1920', 'feature 1921', 'feature 1922', 'feature 1923', 'feature 1924', 'feature 1925', 'feature 1926', 'feature 1927', 'feature 1928', 'feature 1929', 'feature 1930', 'feature 1931', 'feature 1932', 'feature 1933', 'feature 1934', 'feature 1935', 'feature 1936', 'feature 1937', 'feature 1938', 'feature 1939', 'feature 1940', 'feature 1941', 'feature 1942', 'feature 1943', 'feature 1944', 'feature 1945', 'feature 1946', 'feature 1947', 'feature 1948', 'feature 1949', 'feature 1950', 'feature 1951', 'feature 1952', 'feature 1953', 'feature 1954', 'feature 1955', 'feature 1956', 'feature 1957', 'feature 1958', 'feature 1959', 'feature 1960', 'feature 1961', 'feature 1962', 'feature 1963', 'feature 1964', 'feature 1965', 'feature 1966', 'feature 1967', 'feature 1968', 'feature 1969', 'feature 1970', 'feature 1971', 'feature 1972', 'feature 1973', 'feature 1974', 'feature 1975', 'feature 1976', 'feature 1977', 'feature 1978', 'feature 1979', 'feature 1980', 'feature 1981', 'feature 1982', 'feature 1983', 'feature 1984', 'feature 1985', 'feature 1986', 'feature 1987', 'feature 1988', 'feature 1989', 'feature 1990', 'feature 1991', 'feature 1992', 'feature 1993', 'feature 1994', 'feature 1995', 'feature 1996', 'feature 1997', 'feature 1998', 'feature 1999', 'feature 2000', 'feature 2001', 'feature 2002', 'feature 2003', 'feature 2004', 'feature 2005', 'feature 2006', 'feature 2007', 'feature 2008', 'feature 2009', 'feature 2010', 'feature 2011', 'feature 2012', 'feature 2013', 'feature 2014', 'feature 2015', 'feature 2016', 'feature 2017', 'feature 2018', 'feature 2019', 'feature 2020', 'feature 2021', 'feature 2022', 'feature 2023', 'feature 2024', 'feature 2025', 'feature 2026', 'feature 2027', 'feature 2028', 'feature 2029', 'feature 2030', 'feature 2031', 'feature 2032', 'feature 2033', 'feature 2034', 'feature 2035', 'feature 2036', 'feature 2037', 'feature 2038', 'feature 2039', 'feature 2040', 'feature 2041', 'feature 2042', 'feature 2043', 'feature 2044', 'feature 2045', 'feature 2046', 'feature 2047', 'feature 2048', 'feature 2049', 'feature 2050', 'feature 2051', 'feature 2052', 'feature 2053', 'feature 2054', 'feature 2055', 'feature 2056', 'feature 2057', 'feature 2058', 'feature 2059', 'feature 2060', 'feature 2061', 'feature 2062', 'feature 2063', 'feature 2064', 'feature 2065', 'feature 2066', 'feature 2067', 'feature 2068', 'feature 2069', 'feature 2070', 'feature 2071', 'feature 2072', 'feature 2073', 'feature 2074', 'feature 2075', 'feature 2076', 'feature 2077', 'feature 2078', 'feature 2079', 'feature 2080', 'feature 2081', 'feature 2082', 'feature 2083', 'feature 2084', 'feature 2085', 'feature 2086', 'feature 2087', 'feature 2088', 'feature 2089', 'feature 2090', 'feature 2091', 'feature 2092', 'feature 2093', 'feature 2094', 'feature 2095', 'feature 2096', 'feature 2097', 'feature 2098', 'feature 2099', 'feature 2100', 'feature 2101', 'feature 2102', 'feature 2103', 'feature 2104', 'feature 2105', 'feature 2106', 'feature 2107', 'feature 2108', 'feature 2109', 'feature 2110', 'feature 2111', 'feature 2112', 'feature 2113', 'feature 2114', 'feature 2115', 'feature 2116', 'feature 2117', 'feature 2118', 'feature 2119', 'feature 2120', 'feature 2121', 'feature 2122', 'feature 2123', 'feature 2124', 'feature 2125', 'feature 2126', 'feature 2127', 'feature 2128', 'feature 2129', 'feature 2130', 'feature 2131', 'feature 2132', 'feature 2133', 'feature 2134', 'feature 2135', 'feature 2136', 'feature 2137', 'feature 2138', 'feature 2139', 'feature 2140', 'feature 2141', 'feature 2142', 'feature 2143', 'feature 2144', 'feature 2145', 'feature 2146', 'feature 2147', 'feature 2148', 'feature 2149', 'feature 2150', 'feature 2151', 'feature 2152', 'feature 2153', 'feature 2154', 'feature 2155', 'feature 2156', 'feature 2157', 'feature 2158', 'feature 2159', 'feature 2160', 'feature 2161', 'feature 2162', 'feature 2163', 'feature 2164', 'feature 2165', 'feature 2166', 'feature 2167', 'feature 2168', 'feature 2169', 'feature 2170', 'feature 2171', 'feature 2172', 'feature 2173', 'feature 2174', 'feature 2175', 'feature 2176', 'feature 2177', 'feature 2178', 'feature 2179', 'feature 2180', 'feature 2181', 'feature 2182', 'feature 2183', 'feature 2184', 'feature 2185', 'feature 2186', 'feature 2187', 'feature 2188', 'feature 2189', 'feature 2190', 'feature 2191', 'feature 2192', 'feature 2193', 'feature 2194', 'feature 2195', 'feature 2196', 'feature 2197', 'feature 2198', 'feature 2199', 'feature 2200', 'feature 2201', 'feature 2202', 'feature 2203', 'feature 2204', 'feature 2205', 'feature 2206', 'feature 2207', 'feature 2208', 'feature 2209', 'feature 2210', 'feature 2211', 'feature 2212', 'feature 2213', 'feature 2214', 'feature 2215', 'feature 2216', 'feature 2217', 'feature 2218', 'feature 2219', 'feature 2220', 'feature 2221', 'feature 2222', 'feature 2223', 'feature 2224', 'feature 2225', 'feature 2226', 'feature 2227', 'feature 2228', 'feature 2229', 'feature 2230', 'feature 2231', 'feature 2232', 'feature 2233', 'feature 2234', 'feature 2235', 'feature 2236', 'feature 2237', 'feature 2238', 'feature 2239', 'feature 2240', 'feature 2241', 'feature 2242', 'feature 2243', 'feature 2244', 'feature 2245', 'feature 2246', 'feature 2247', 'feature 2248', 'feature 2249', 'feature 2250', 'feature 2251', 'feature 2252', 'feature 2253', 'feature 2254', 'feature 2255', 'feature 2256', 'feature 2257', 'feature 2258', 'feature 2259', 'feature 2260', 'feature 2261', 'feature 2262', 'feature 2263', 'feature 2264', 'feature 2265', 'feature 2266', 'feature 2267', 'feature 2268', 'feature 2269', 'feature 2270', 'feature 2271', 'feature 2272', 'feature 2273', 'feature 2274', 'feature 2275', 'feature 2276', 'feature 2277', 'feature 2278', 'feature 2279', 'feature 2280', 'feature 2281', 'feature 2282', 'feature 2283', 'feature 2284', 'feature 2285', 'feature 2286', 'feature 2287', 'feature 2288', 'feature 2289', 'feature 2290', 'feature 2291', 'feature 2292', 'feature 2293', 'feature 2294', 'feature 2295', 'feature 2296', 'feature 2297', 'feature 2298', 'feature 2299', 'feature 2300', 'feature 2301', 'feature 2302', 'feature 2303', 'feature 2304', 'feature 2305', 'feature 2306', 'feature 2307', 'feature 2308', 'feature 2309', 'feature 2310', 'feature 2311', 'feature 2312', 'feature 2313', 'feature 2314', 'feature 2315', 'feature 2316', 'feature 2317', 'feature 2318', 'feature 2319', 'feature 2320', 'feature 2321', 'feature 2322', 'feature 2323', 'feature 2324', 'feature 2325', 'feature 2326', 'feature 2327', 'feature 2328', 'feature 2329', 'feature 2330', 'feature 2331', 'feature 2332', 'feature 2333', 'feature 2334', 'feature 2335', 'feature 2336', 'feature 2337', 'feature 2338', 'feature 2339', 'feature 2340', 'feature 2341', 'feature 2342', 'feature 2343', 'feature 2344', 'feature 2345', 'feature 2346', 'feature 2347', 'feature 2348', 'feature 2349', 'feature 2350', 'feature 2351', 'feature 2352', 'feature 2353', 'feature 2354', 'feature 2355', 'feature 2356', 'feature 2357', 'feature 2358', 'feature 2359', 'feature 2360', 'feature 2361', 'feature 2362', 'feature 2363', 'feature 2364', 'feature 2365', 'feature 2366', 'feature 2367', 'feature 2368', 'feature 2369', 'feature 2370', 'feature 2371', 'feature 2372', 'feature 2373', 'feature 2374', 'feature 2375', 'feature 2376', 'feature 2377', 'feature 2378', 'feature 2379', 'feature 2380', 'feature 2381', 'feature 2382', 'feature 2383', 'feature 2384', 'feature 2385', 'feature 2386', 'feature 2387', 'feature 2388', 'feature 2389', 'feature 2390', 'feature 2391', 'feature 2392', 'feature 2393', 'feature 2394', 'feature 2395', 'feature 2396', 'feature 2397', 'feature 2398', 'feature 2399', 'feature 2400', 'feature 2401', 'feature 2402', 'feature 2403', 'feature 2404', 'feature 2405', 'feature 2406', 'feature 2407', 'feature 2408', 'feature 2409', 'feature 2410', 'feature 2411', 'feature 2412', 'feature 2413', 'feature 2414', 'feature 2415', 'feature 2416', 'feature 2417', 'feature 2418', 'feature 2419', 'feature 2420', 'feature 2421', 'feature 2422', 'feature 2423', 'feature 2424', 'feature 2425', 'feature 2426', 'feature 2427', 'feature 2428', 'feature 2429', 'feature 2430', 'feature 2431', 'feature 2432', 'feature 2433', 'feature 2434', 'feature 2435', 'feature 2436', 'feature 2437', 'feature 2438', 'feature 2439', 'feature 2440', 'feature 2441', 'feature 2442', 'feature 2443', 'feature 2444', 'feature 2445', 'feature 2446', 'feature 2447', 'feature 2448', 'feature 2449', 'feature 2450', 'feature 2451', 'feature 2452', 'feature 2453', 'feature 2454', 'feature 2455', 'feature 2456', 'feature 2457', 'feature 2458', 'feature 2459', 'feature 2460', 'feature 2461', 'feature 2462', 'feature 2463', 'feature 2464', 'feature 2465', 'feature 2466', 'feature 2467', 'feature 2468', 'feature 2469', 'feature 2470', 'feature 2471', 'feature 2472', 'feature 2473', 'feature 2474', 'feature 2475', 'feature 2476', 'feature 2477', 'feature 2478', 'feature 2479', 'feature 2480', 'feature 2481', 'feature 2482', 'feature 2483', 'feature 2484', 'feature 2485', 'feature 2486', 'feature 2487', 'feature 2488', 'feature 2489', 'feature 2490', 'feature 2491', 'feature 2492', 'feature 2493', 'feature 2494', 'feature 2495', 'feature 2496', 'feature 2497', 'feature 2498', 'feature 2499', 'feature 2500', 'feature 2501', 'feature 2502', 'feature 2503', 'feature 2504', 'feature 2505', 'feature 2506', 'feature 2507', 'feature 2508', 'feature 2509', 'feature 2510', 'feature 2511', 'feature 2512', 'feature 2513', 'feature 2514', 'feature 2515', 'feature 2516', 'feature 2517', 'feature 2518', 'feature 2519', 'feature 2520', 'feature 2521', 'feature 2522', 'feature 2523', 'feature 2524', 'feature 2525', 'feature 2526', 'feature 2527', 'feature 2528', 'feature 2529', 'feature 2530', 'feature 2531', 'feature 2532', 'feature 2533', 'feature 2534', 'feature 2535', 'feature 2536', 'feature 2537', 'feature 2538', 'feature 2539', 'feature 2540', 'feature 2541', 'feature 2542', 'feature 2543', 'feature 2544', 'feature 2545', 'feature 2546', 'feature 2547', 'feature 2548', 'feature 2549', 'feature 2550', 'feature 2551', 'feature 2552', 'feature 2553', 'feature 2554', 'feature 2555', 'feature 2556', 'feature 2557', 'feature 2558', 'feature 2559', 'feature 2560', 'feature 2561', 'feature 2562', 'feature 2563', 'feature 2564', 'feature 2565', 'feature 2566', 'feature 2567', 'feature 2568', 'feature 2569', 'feature 2570', 'feature 2571', 'feature 2572', 'feature 2573', 'feature 2574', 'feature 2575', 'feature 2576', 'feature 2577', 'feature 2578', 'feature 2579', 'feature 2580', 'feature 2581', 'feature 2582', 'feature 2583', 'feature 2584', 'feature 2585', 'feature 2586', 'feature 2587', 'feature 2588', 'feature 2589', 'feature 2590', 'feature 2591', 'feature 2592', 'feature 2593', 'feature 2594', 'feature 2595', 'feature 2596', 'feature 2597', 'feature 2598', 'feature 2599', 'feature 2600', 'feature 2601', 'feature 2602', 'feature 2603', 'feature 2604', 'feature 2605', 'feature 2606', 'feature 2607', 'feature 2608', 'feature 2609', 'feature 2610', 'feature 2611', 'feature 2612', 'feature 2613', 'feature 2614', 'feature 2615', 'feature 2616', 'feature 2617', 'feature 2618', 'feature 2619', 'feature 2620', 'feature 2621', 'feature 2622', 'feature 2623', 'feature 2624', 'feature 2625', 'feature 2626', 'feature 2627', 'feature 2628', 'feature 2629', 'feature 2630', 'feature 2631', 'feature 2632', 'feature 2633', 'feature 2634', 'feature 2635', 'feature 2636', 'feature 2637', 'feature 2638', 'feature 2639', 'feature 2640', 'feature 2641', 'feature 2642', 'feature 2643', 'feature 2644', 'feature 2645', 'feature 2646', 'feature 2647', 'feature 2648', 'feature 2649', 'feature 2650', 'feature 2651', 'feature 2652', 'feature 2653', 'feature 2654', 'feature 2655', 'feature 2656', 'feature 2657', 'feature 2658', 'feature 2659', 'feature 2660', 'feature 2661', 'feature 2662', 'feature 2663', 'feature 2664', 'feature 2665', 'feature 2666', 'feature 2667', 'feature 2668', 'feature 2669', 'feature 2670', 'feature 2671', 'feature 2672', 'feature 2673', 'feature 2674', 'feature 2675', 'feature 2676', 'feature 2677', 'feature 2678', 'feature 2679', 'feature 2680', 'feature 2681', 'feature 2682', 'feature 2683', 'feature 2684', 'feature 2685', 'feature 2686', 'feature 2687', 'feature 2688', 'feature 2689', 'feature 2690', 'feature 2691', 'feature 2692', 'feature 2693', 'feature 2694', 'feature 2695', 'feature 2696', 'feature 2697', 'feature 2698', 'feature 2699', 'feature 2700', 'feature 2701', 'feature 2702', 'feature 2703', 'feature 2704', 'feature 2705', 'feature 2706', 'feature 2707', 'feature 2708', 'feature 2709', 'feature 2710', 'feature 2711', 'feature 2712', 'feature 2713', 'feature 2714', 'feature 2715', 'feature 2716', 'feature 2717', 'feature 2718', 'feature 2719', 'feature 2720', 'feature 2721', 'feature 2722', 'feature 2723', 'feature 2724', 'feature 2725', 'feature 2726', 'feature 2727', 'feature 2728', 'feature 2729', 'feature 2730', 'feature 2731', 'feature 2732', 'feature 2733', 'feature 2734', 'feature 2735', 'feature 2736', 'feature 2737', 'feature 2738', 'feature 2739', 'feature 2740', 'feature 2741', 'feature 2742', 'feature 2743', 'feature 2744', 'feature 2745', 'feature 2746', 'feature 2747', 'feature 2748', 'feature 2749', 'feature 2750', 'feature 2751', 'feature 2752', 'feature 2753', 'feature 2754', 'feature 2755', 'feature 2756', 'feature 2757', 'feature 2758', 'feature 2759', 'feature 2760', 'feature 2761', 'feature 2762', 'feature 2763', 'feature 2764', 'feature 2765', 'feature 2766', 'feature 2767', 'feature 2768', 'feature 2769', 'feature 2770', 'feature 2771', 'feature 2772', 'feature 2773', 'feature 2774', 'feature 2775', 'feature 2776', 'feature 2777', 'feature 2778', 'feature 2779', 'feature 2780', 'feature 2781', 'feature 2782', 'feature 2783', 'feature 2784', 'feature 2785', 'feature 2786', 'feature 2787', 'feature 2788', 'feature 2789', 'feature 2790', 'feature 2791', 'feature 2792', 'feature 2793', 'feature 2794', 'feature 2795', 'feature 2796', 'feature 2797', 'feature 2798', 'feature 2799', 'feature 2800', 'feature 2801', 'feature 2802', 'feature 2803', 'feature 2804', 'feature 2805', 'feature 2806', 'feature 2807', 'feature 2808', 'feature 2809', 'feature 2810', 'feature 2811', 'feature 2812', 'feature 2813', 'feature 2814', 'feature 2815', 'feature 2816', 'feature 2817', 'feature 2818', 'feature 2819', 'feature 2820', 'feature 2821', 'feature 2822', 'feature 2823', 'feature 2824', 'feature 2825', 'feature 2826', 'feature 2827', 'feature 2828', 'feature 2829', 'feature 2830', 'feature 2831', 'feature 2832', 'feature 2833', 'feature 2834', 'feature 2835', 'feature 2836', 'feature 2837', 'feature 2838', 'feature 2839', 'feature 2840', 'feature 2841', 'feature 2842', 'feature 2843', 'feature 2844', 'feature 2845', 'feature 2846', 'feature 2847', 'feature 2848', 'feature 2849', 'feature 2850', 'feature 2851', 'feature 2852', 'feature 2853', 'feature 2854', 'feature 2855', 'feature 2856', 'feature 2857', 'feature 2858', 'feature 2859', 'feature 2860', 'feature 2861', 'feature 2862', 'feature 2863', 'feature 2864', 'feature 2865', 'feature 2866', 'feature 2867', 'feature 2868', 'feature 2869', 'feature 2870', 'feature 2871', 'feature 2872', 'feature 2873', 'feature 2874', 'feature 2875', 'feature 2876', 'feature 2877', 'feature 2878', 'feature 2879', 'feature 2880', 'feature 2881', 'feature 2882', 'feature 2883', 'feature 2884', 'feature 2885', 'feature 2886', 'feature 2887', 'feature 2888', 'feature 2889', 'feature 2890', 'feature 2891', 'feature 2892', 'feature 2893', 'feature 2894', 'feature 2895', 'feature 2896', 'feature 2897', 'feature 2898', 'feature 2899', 'feature 2900', 'feature 2901', 'feature 2902', 'feature 2903', 'feature 2904', 'feature 2905', 'feature 2906', 'feature 2907', 'feature 2908', 'feature 2909', 'feature 2910', 'feature 2911', 'feature 2912', 'feature 2913', 'feature 2914', 'feature 2915', 'feature 2916', 'feature 2917', 'feature 2918', 'feature 2919', 'feature 2920', 'feature 2921', 'feature 2922', 'feature 2923', 'feature 2924', 'feature 2925', 'feature 2926', 'feature 2927', 'feature 2928', 'feature 2929', 'feature 2930', 'feature 2931', 'feature 2932', 'feature 2933', 'feature 2934', 'feature 2935', 'feature 2936', 'feature 2937', 'feature 2938', 'feature 2939', 'feature 2940', 'feature 2941', 'feature 2942', 'feature 2943', 'feature 2944', 'feature 2945', 'feature 2946', 'feature 2947', 'feature 2948', 'feature 2949', 'feature 2950', 'feature 2951', 'feature 2952', 'feature 2953', 'feature 2954', 'feature 2955', 'feature 2956', 'feature 2957', 'feature 2958', 'feature 2959', 'feature 2960', 'feature 2961', 'feature 2962', 'feature 2963', 'feature 2964', 'feature 2965', 'feature 2966', 'feature 2967', 'feature 2968', 'feature 2969', 'feature 2970', 'feature 2971', 'feature 2972', 'feature 2973', 'feature 2974', 'feature 2975', 'feature 2976', 'feature 2977', 'feature 2978', 'feature 2979', 'feature 2980', 'feature 2981', 'feature 2982', 'feature 2983', 'feature 2984', 'feature 2985', 'feature 2986', 'feature 2987', 'feature 2988', 'feature 2989', 'feature 2990', 'feature 2991', 'feature 2992', 'feature 2993', 'feature 2994', 'feature 2995', 'feature 2996', 'feature 2997', 'feature 2998', 'feature 2999', 'feature 3000', 'feature 3001', 'feature 3002', 'feature 3003', 'feature 3004', 'feature 3005', 'feature 3006', 'feature 3007', 'feature 3008', 'feature 3009', 'feature 3010', 'feature 3011', 'feature 3012', 'feature 3013', 'feature 3014', 'feature 3015', 'feature 3016', 'feature 3017', 'feature 3018', 'feature 3019', 'feature 3020', 'feature 3021', 'feature 3022', 'feature 3023', 'feature 3024', 'feature 3025', 'feature 3026', 'feature 3027', 'feature 3028', 'feature 3029', 'feature 3030', 'feature 3031', 'feature 3032', 'feature 3033', 'feature 3034', 'feature 3035', 'feature 3036', 'feature 3037', 'feature 3038', 'feature 3039', 'feature 3040', 'feature 3041', 'feature 3042', 'feature 3043', 'feature 3044', 'feature 3045', 'feature 3046', 'feature 3047', 'feature 3048', 'feature 3049', 'feature 3050', 'feature 3051', 'feature 3052', 'feature 3053', 'feature 3054', 'feature 3055', 'feature 3056', 'feature 3057', 'feature 3058', 'feature 3059', 'feature 3060', 'feature 3061', 'feature 3062', 'feature 3063', 'feature 3064', 'feature 3065', 'feature 3066', 'feature 3067', 'feature 3068', 'feature 3069', 'feature 3070', 'feature 3071', 'feature 3072', 'feature 3073', 'feature 3074', 'feature 3075', 'feature 3076', 'feature 3077', 'feature 3078', 'feature 3079', 'feature 3080', 'feature 3081', 'feature 3082', 'feature 3083', 'feature 3084', 'feature 3085', 'feature 3086', 'feature 3087', 'feature 3088', 'feature 3089', 'feature 3090', 'feature 3091', 'feature 3092', 'feature 3093', 'feature 3094', 'feature 3095', 'feature 3096', 'feature 3097', 'feature 3098', 'feature 3099', 'feature 3100', 'feature 3101', 'feature 3102', 'feature 3103', 'feature 3104', 'feature 3105', 'feature 3106', 'feature 3107', 'feature 3108', 'feature 3109', 'feature 3110', 'feature 3111', 'feature 3112', 'feature 3113', 'feature 3114', 'feature 3115', 'feature 3116', 'feature 3117', 'feature 3118', 'feature 3119', 'feature 3120', 'feature 3121', 'feature 3122', 'feature 3123', 'feature 3124', 'feature 3125', 'feature 3126', 'feature 3127', 'feature 3128', 'feature 3129', 'feature 3130', 'feature 3131', 'feature 3132', 'feature 3133', 'feature 3134', 'feature 3135', 'feature 3136', 'feature 3137', 'feature 3138', 'feature 3139', 'feature 3140', 'feature 3141', 'feature 3142', 'feature 3143', 'feature 3144', 'feature 3145', 'feature 3146', 'feature 3147', 'feature 3148', 'feature 3149', 'feature 3150', 'feature 3151', 'feature 3152', 'feature 3153', 'feature 3154', 'feature 3155', 'feature 3156', 'feature 3157', 'feature 3158', 'feature 3159', 'feature 3160', 'feature 3161', 'feature 3162', 'feature 3163', 'feature 3164', 'feature 3165', 'feature 3166', 'feature 3167', 'feature 3168', 'feature 3169', 'feature 3170', 'feature 3171', 'feature 3172', 'feature 3173', 'feature 3174', 'feature 3175', 'feature 3176', 'feature 3177', 'feature 3178', 'feature 3179', 'feature 3180', 'feature 3181', 'feature 3182', 'feature 3183', 'feature 3184', 'feature 3185', 'feature 3186', 'feature 3187', 'feature 3188', 'feature 3189', 'feature 3190', 'feature 3191', 'feature 3192', 'feature 3193', 'feature 3194', 'feature 3195', 'feature 3196', 'feature 3197', 'feature 3198', 'feature 3199', 'feature 3200', 'feature 3201', 'feature 3202', 'feature 3203', 'feature 3204', 'feature 3205', 'feature 3206', 'feature 3207', 'feature 3208', 'feature 3209', 'feature 3210', 'feature 3211', 'feature 3212', 'feature 3213', 'feature 3214', 'feature 3215', 'feature 3216', 'feature 3217', 'feature 3218', 'feature 3219', 'feature 3220', 'feature 3221', 'feature 3222', 'feature 3223', 'feature 3224', 'feature 3225', 'feature 3226', 'feature 3227', 'feature 3228', 'feature 3229', 'feature 3230', 'feature 3231', 'feature 3232', 'feature 3233', 'feature 3234', 'feature 3235', 'feature 3236', 'feature 3237', 'feature 3238', 'feature 3239', 'feature 3240', 'feature 3241', 'feature 3242', 'feature 3243', 'feature 3244', 'feature 3245', 'feature 3246', 'feature 3247', 'feature 3248', 'feature 3249', 'feature 3250', 'feature 3251', 'feature 3252', 'feature 3253', 'feature 3254', 'feature 3255', 'feature 3256', 'feature 3257', 'feature 3258', 'feature 3259', 'feature 3260', 'feature 3261', 'feature 3262', 'feature 3263', 'feature 3264', 'feature 3265', 'feature 3266', 'feature 3267', 'feature 3268', 'feature 3269', 'feature 3270', 'feature 3271', 'feature 3272', 'feature 3273', 'feature 3274', 'feature 3275', 'feature 3276', 'feature 3277', 'feature 3278', 'feature 3279', 'feature 3280', 'feature 3281', 'feature 3282', 'feature 3283', 'feature 3284', 'feature 3285', 'feature 3286', 'feature 3287', 'feature 3288', 'feature 3289', 'feature 3290', 'feature 3291', 'feature 3292', 'feature 3293', 'feature 3294', 'feature 3295', 'feature 3296', 'feature 3297', 'feature 3298', 'feature 3299', 'feature 3300', 'feature 3301', 'feature 3302', 'feature 3303', 'feature 3304', 'feature 3305', 'feature 3306', 'feature 3307', 'feature 3308', 'feature 3309', 'feature 3310', 'feature 3311', 'feature 3312', 'feature 3313', 'feature 3314', 'feature 3315', 'feature 3316', 'feature 3317', 'feature 3318', 'feature 3319', 'feature 3320', 'feature 3321', 'feature 3322', 'feature 3323', 'feature 3324', 'feature 3325', 'feature 3326', 'feature 3327', 'feature 3328', 'feature 3329', 'feature 3330', 'feature 3331', 'feature 3332', 'feature 3333', 'feature 3334', 'feature 3335', 'feature 3336', 'feature 3337', 'feature 3338', 'feature 3339', 'feature 3340', 'feature 3341', 'feature 3342', 'feature 3343', 'feature 3344', 'feature 3345', 'feature 3346', 'feature 3347', 'feature 3348', 'feature 3349', 'feature 3350', 'feature 3351', 'feature 3352', 'feature 3353', 'feature 3354', 'feature 3355', 'feature 3356', 'feature 3357', 'feature 3358', 'feature 3359', 'feature 3360', 'feature 3361', 'feature 3362', 'feature 3363', 'feature 3364', 'feature 3365', 'feature 3366', 'feature 3367', 'feature 3368', 'feature 3369', 'feature 3370', 'feature 3371', 'feature 3372', 'feature 3373', 'feature 3374', 'feature 3375', 'feature 3376', 'feature 3377', 'feature 3378', 'feature 3379', 'feature 3380', 'feature 3381', 'feature 3382', 'feature 3383', 'feature 3384', 'feature 3385', 'feature 3386', 'feature 3387', 'feature 3388', 'feature 3389', 'feature 3390', 'feature 3391', 'feature 3392', 'feature 3393', 'feature 3394', 'feature 3395', 'feature 3396', 'feature 3397', 'feature 3398', 'feature 3399', 'feature 3400', 'feature 3401', 'feature 3402', 'feature 3403', 'feature 3404', 'feature 3405', 'feature 3406', 'feature 3407', 'feature 3408', 'feature 3409', 'feature 3410', 'feature 3411', 'feature 3412', 'feature 3413', 'feature 3414', 'feature 3415', 'feature 3416', 'feature 3417', 'feature 3418', 'feature 3419', 'feature 3420', 'feature 3421', 'feature 3422', 'feature 3423', 'feature 3424', 'feature 3425', 'feature 3426', 'feature 3427', 'feature 3428', 'feature 3429', 'feature 3430', 'feature 3431', 'feature 3432', 'feature 3433', 'feature 3434', 'feature 3435', 'feature 3436', 'feature 3437', 'feature 3438', 'feature 3439', 'feature 3440', 'feature 3441', 'feature 3442', 'feature 3443', 'feature 3444', 'feature 3445', 'feature 3446', 'feature 3447', 'feature 3448', 'feature 3449', 'feature 3450', 'feature 3451', 'feature 3452', 'feature 3453', 'feature 3454', 'feature 3455', 'feature 3456', 'feature 3457', 'feature 3458', 'feature 3459', 'feature 3460', 'feature 3461', 'feature 3462', 'feature 3463', 'feature 3464', 'feature 3465', 'feature 3466', 'feature 3467', 'feature 3468', 'feature 3469', 'feature 3470', 'feature 3471', 'feature 3472', 'feature 3473', 'feature 3474', 'feature 3475', 'feature 3476', 'feature 3477', 'feature 3478', 'feature 3479', 'feature 3480', 'feature 3481', 'feature 3482', 'feature 3483', 'feature 3484', 'feature 3485', 'feature 3486', 'feature 3487', 'feature 3488', 'feature 3489', 'feature 3490', 'feature 3491', 'feature 3492', 'feature 3493', 'feature 3494', 'feature 3495', 'feature 3496', 'feature 3497', 'feature 3498', 'feature 3499', 'feature 3500', 'feature 3501', 'feature 3502', 'feature 3503', 'feature 3504', 'feature 3505', 'feature 3506', 'feature 3507', 'feature 3508', 'feature 3509', 'feature 3510', 'feature 3511', 'feature 3512', 'feature 3513', 'feature 3514', 'feature 3515', 'feature 3516', 'feature 3517', 'feature 3518', 'feature 3519', 'feature 3520', 'feature 3521', 'feature 3522', 'feature 3523', 'feature 3524', 'feature 3525', 'feature 3526', 'feature 3527', 'feature 3528', 'feature 3529', 'feature 3530', 'feature 3531', 'feature 3532', 'feature 3533', 'feature 3534', 'feature 3535', 'feature 3536', 'feature 3537', 'feature 3538', 'feature 3539', 'feature 3540', 'feature 3541', 'feature 3542', 'feature 3543', 'feature 3544', 'feature 3545', 'feature 3546', 'feature 3547', 'feature 3548', 'feature 3549', 'feature 3550', 'feature 3551', 'feature 3552', 'feature 3553', 'feature 3554', 'feature 3555', 'feature 3556', 'feature 3557', 'feature 3558', 'feature 3559', 'feature 3560', 'feature 3561', 'feature 3562', 'feature 3563', 'feature 3564', 'feature 3565', 'feature 3566', 'feature 3567', 'feature 3568', 'feature 3569', 'feature 3570', 'feature 3571', 'feature 3572', 'feature 3573', 'feature 3574', 'feature 3575', 'feature 3576', 'feature 3577', 'feature 3578', 'feature 3579', 'feature 3580', 'feature 3581', 'feature 3582', 'feature 3583', 'feature 3584', 'feature 3585', 'feature 3586', 'feature 3587', 'feature 3588', 'feature 3589', 'feature 3590', 'feature 3591', 'feature 3592', 'feature 3593', 'feature 3594', 'feature 3595', 'feature 3596', 'feature 3597', 'feature 3598', 'feature 3599', 'feature 3600', 'feature 3601', 'feature 3602', 'feature 3603', 'feature 3604', 'feature 3605', 'feature 3606', 'feature 3607', 'feature 3608', 'feature 3609', 'feature 3610', 'feature 3611', 'feature 3612', 'feature 3613', 'feature 3614', 'feature 3615', 'feature 3616', 'feature 3617', 'feature 3618', 'feature 3619', 'feature 3620', 'feature 3621', 'feature 3622', 'feature 3623', 'feature 3624', 'feature 3625', 'feature 3626', 'feature 3627', 'feature 3628', 'feature 3629', 'feature 3630', 'feature 3631', 'feature 3632', 'feature 3633', 'feature 3634', 'feature 3635', 'feature 3636', 'feature 3637', 'feature 3638', 'feature 3639', 'feature 3640', 'feature 3641', 'feature 3642', 'feature 3643', 'feature 3644', 'feature 3645', 'feature 3646', 'feature 3647', 'feature 3648', 'feature 3649', 'feature 3650', 'feature 3651', 'feature 3652', 'feature 3653', 'feature 3654', 'feature 3655', 'feature 3656', 'feature 3657', 'feature 3658', 'feature 3659', 'feature 3660', 'feature 3661', 'feature 3662', 'feature 3663', 'feature 3664', 'feature 3665', 'feature 3666', 'feature 3667', 'feature 3668', 'feature 3669', 'feature 3670', 'feature 3671', 'feature 3672', 'feature 3673', 'feature 3674', 'feature 3675', 'feature 3676', 'feature 3677', 'feature 3678', 'feature 3679', 'feature 3680', 'feature 3681', 'feature 3682', 'feature 3683', 'feature 3684', 'feature 3685', 'feature 3686', 'feature 3687', 'feature 3688', 'feature 3689', 'feature 3690', 'feature 3691', 'feature 3692', 'feature 3693', 'feature 3694', 'feature 3695', 'feature 3696', 'feature 3697', 'feature 3698', 'feature 3699', 'feature 3700', 'feature 3701', 'feature 3702', 'feature 3703', 'feature 3704', 'feature 3705', 'feature 3706', 'feature 3707', 'feature 3708', 'feature 3709', 'feature 3710', 'feature 3711', 'feature 3712', 'feature 3713', 'feature 3714', 'feature 3715', 'feature 3716', 'feature 3717', 'feature 3718', 'feature 3719', 'feature 3720', 'feature 3721', 'feature 3722', 'feature 3723', 'feature 3724', 'feature 3725', 'feature 3726', 'feature 3727', 'feature 3728', 'feature 3729', 'feature 3730', 'feature 3731', 'feature 3732', 'feature 3733', 'feature 3734', 'feature 3735', 'feature 3736', 'feature 3737', 'feature 3738', 'feature 3739', 'feature 3740', 'feature 3741', 'feature 3742', 'feature 3743', 'feature 3744', 'feature 3745', 'feature 3746', 'feature 3747', 'feature 3748', 'feature 3749', 'feature 3750', 'feature 3751', 'feature 3752', 'feature 3753', 'feature 3754', 'feature 3755', 'feature 3756', 'feature 3757', 'feature 3758', 'feature 3759', 'feature 3760', 'feature 3761', 'feature 3762', 'feature 3763', 'feature 3764', 'feature 3765', 'feature 3766', 'feature 3767', 'feature 3768', 'feature 3769', 'feature 3770', 'feature 3771', 'feature 3772', 'feature 3773', 'feature 3774', 'feature 3775', 'feature 3776', 'feature 3777', 'feature 3778', 'feature 3779', 'feature 3780', 'feature 3781', 'feature 3782', 'feature 3783', 'feature 3784', 'feature 3785', 'feature 3786', 'feature 3787', 'feature 3788', 'feature 3789', 'feature 3790', 'feature 3791', 'feature 3792', 'feature 3793', 'feature 3794', 'feature 3795', 'feature 3796', 'feature 3797', 'feature 3798', 'feature 3799', 'feature 3800', 'feature 3801', 'feature 3802', 'feature 3803', 'feature 3804', 'feature 3805', 'feature 3806', 'feature 3807', 'feature 3808', 'feature 3809', 'feature 3810', 'feature 3811', 'feature 3812', 'feature 3813', 'feature 3814', 'feature 3815', 'feature 3816', 'feature 3817', 'feature 3818', 'feature 3819', 'feature 3820', 'feature 3821', 'feature 3822', 'feature 3823', 'feature 3824', 'feature 3825', 'feature 3826', 'feature 3827', 'feature 3828', 'feature 3829', 'feature 3830', 'feature 3831', 'feature 3832', 'feature 3833', 'feature 3834', 'feature 3835', 'feature 3836', 'feature 3837', 'feature 3838', 'feature 3839', 'feature 3840', 'feature 3841', 'feature 3842', 'feature 3843', 'feature 3844', 'feature 3845', 'feature 3846', 'feature 3847', 'feature 3848']\n"
          ]
        }
      ]
    },
    {
      "cell_type": "code",
      "source": [
        "X.shape[1]"
      ],
      "metadata": {
        "colab": {
          "base_uri": "https://localhost:8080/"
        },
        "id": "DKmQ_IpTCWth",
        "outputId": "2b5aaeaf-ab59-44d2-e06e-16842b755c58"
      },
      "execution_count": null,
      "outputs": [
        {
          "output_type": "execute_result",
          "data": {
            "text/plain": [
              "3849"
            ]
          },
          "metadata": {},
          "execution_count": 63
        }
      ]
    },
    {
      "cell_type": "code",
      "source": [
        "adata.var[1,:]"
      ],
      "metadata": {
        "colab": {
          "base_uri": "https://localhost:8080/",
          "height": 222
        },
        "id": "AdT1bfb4C8cI",
        "outputId": "2eaf4f02-1a16-4b90-94da-56ba9219e375"
      },
      "execution_count": null,
      "outputs": [
        {
          "output_type": "error",
          "ename": "TypeError",
          "evalue": "ignored",
          "traceback": [
            "\u001b[0;31m---------------------------------------------------------------------------\u001b[0m",
            "\u001b[0;31mTypeError\u001b[0m                                 Traceback (most recent call last)",
            "\u001b[0;32m<ipython-input-76-a345135926ab>\u001b[0m in \u001b[0;36m<module>\u001b[0;34m\u001b[0m\n\u001b[0;32m----> 1\u001b[0;31m \u001b[0madata\u001b[0m\u001b[0;34m.\u001b[0m\u001b[0mvar\u001b[0m\u001b[0;34m[\u001b[0m\u001b[0;36m1\u001b[0m\u001b[0;34m,\u001b[0m\u001b[0;34m:\u001b[0m\u001b[0;34m]\u001b[0m\u001b[0;34m\u001b[0m\u001b[0;34m\u001b[0m\u001b[0m\n\u001b[0m",
            "\u001b[0;32m/usr/local/lib/python3.7/dist-packages/pandas/core/frame.py\u001b[0m in \u001b[0;36m__getitem__\u001b[0;34m(self, key)\u001b[0m\n\u001b[1;32m   3456\u001b[0m             \u001b[0;32mif\u001b[0m \u001b[0mself\u001b[0m\u001b[0;34m.\u001b[0m\u001b[0mcolumns\u001b[0m\u001b[0;34m.\u001b[0m\u001b[0mnlevels\u001b[0m \u001b[0;34m>\u001b[0m \u001b[0;36m1\u001b[0m\u001b[0;34m:\u001b[0m\u001b[0;34m\u001b[0m\u001b[0;34m\u001b[0m\u001b[0m\n\u001b[1;32m   3457\u001b[0m                 \u001b[0;32mreturn\u001b[0m \u001b[0mself\u001b[0m\u001b[0;34m.\u001b[0m\u001b[0m_getitem_multilevel\u001b[0m\u001b[0;34m(\u001b[0m\u001b[0mkey\u001b[0m\u001b[0;34m)\u001b[0m\u001b[0;34m\u001b[0m\u001b[0;34m\u001b[0m\u001b[0m\n\u001b[0;32m-> 3458\u001b[0;31m             \u001b[0mindexer\u001b[0m \u001b[0;34m=\u001b[0m \u001b[0mself\u001b[0m\u001b[0;34m.\u001b[0m\u001b[0mcolumns\u001b[0m\u001b[0;34m.\u001b[0m\u001b[0mget_loc\u001b[0m\u001b[0;34m(\u001b[0m\u001b[0mkey\u001b[0m\u001b[0;34m)\u001b[0m\u001b[0;34m\u001b[0m\u001b[0;34m\u001b[0m\u001b[0m\n\u001b[0m\u001b[1;32m   3459\u001b[0m             \u001b[0;32mif\u001b[0m \u001b[0mis_integer\u001b[0m\u001b[0;34m(\u001b[0m\u001b[0mindexer\u001b[0m\u001b[0;34m)\u001b[0m\u001b[0;34m:\u001b[0m\u001b[0;34m\u001b[0m\u001b[0;34m\u001b[0m\u001b[0m\n\u001b[1;32m   3460\u001b[0m                 \u001b[0mindexer\u001b[0m \u001b[0;34m=\u001b[0m \u001b[0;34m[\u001b[0m\u001b[0mindexer\u001b[0m\u001b[0;34m]\u001b[0m\u001b[0;34m\u001b[0m\u001b[0;34m\u001b[0m\u001b[0m\n",
            "\u001b[0;32m/usr/local/lib/python3.7/dist-packages/pandas/core/indexes/base.py\u001b[0m in \u001b[0;36mget_loc\u001b[0;34m(self, key, method, tolerance)\u001b[0m\n\u001b[1;32m   3359\u001b[0m             \u001b[0mcasted_key\u001b[0m \u001b[0;34m=\u001b[0m \u001b[0mself\u001b[0m\u001b[0;34m.\u001b[0m\u001b[0m_maybe_cast_indexer\u001b[0m\u001b[0;34m(\u001b[0m\u001b[0mkey\u001b[0m\u001b[0;34m)\u001b[0m\u001b[0;34m\u001b[0m\u001b[0;34m\u001b[0m\u001b[0m\n\u001b[1;32m   3360\u001b[0m             \u001b[0;32mtry\u001b[0m\u001b[0;34m:\u001b[0m\u001b[0;34m\u001b[0m\u001b[0;34m\u001b[0m\u001b[0m\n\u001b[0;32m-> 3361\u001b[0;31m                 \u001b[0;32mreturn\u001b[0m \u001b[0mself\u001b[0m\u001b[0;34m.\u001b[0m\u001b[0m_engine\u001b[0m\u001b[0;34m.\u001b[0m\u001b[0mget_loc\u001b[0m\u001b[0;34m(\u001b[0m\u001b[0mcasted_key\u001b[0m\u001b[0;34m)\u001b[0m\u001b[0;34m\u001b[0m\u001b[0;34m\u001b[0m\u001b[0m\n\u001b[0m\u001b[1;32m   3362\u001b[0m             \u001b[0;32mexcept\u001b[0m \u001b[0mKeyError\u001b[0m \u001b[0;32mas\u001b[0m \u001b[0merr\u001b[0m\u001b[0;34m:\u001b[0m\u001b[0;34m\u001b[0m\u001b[0;34m\u001b[0m\u001b[0m\n\u001b[1;32m   3363\u001b[0m                 \u001b[0;32mraise\u001b[0m \u001b[0mKeyError\u001b[0m\u001b[0;34m(\u001b[0m\u001b[0mkey\u001b[0m\u001b[0;34m)\u001b[0m \u001b[0;32mfrom\u001b[0m \u001b[0merr\u001b[0m\u001b[0;34m\u001b[0m\u001b[0;34m\u001b[0m\u001b[0m\n",
            "\u001b[0;32m/usr/local/lib/python3.7/dist-packages/pandas/_libs/index.pyx\u001b[0m in \u001b[0;36mpandas._libs.index.IndexEngine.get_loc\u001b[0;34m()\u001b[0m\n",
            "\u001b[0;32m/usr/local/lib/python3.7/dist-packages/pandas/_libs/index.pyx\u001b[0m in \u001b[0;36mpandas._libs.index.IndexEngine.get_loc\u001b[0;34m()\u001b[0m\n",
            "\u001b[0;31mTypeError\u001b[0m: '(1, slice(None, None, None))' is an invalid key"
          ]
        }
      ]
    },
    {
      "cell_type": "code",
      "source": [
        "index = X.columns\n",
        "print(index) #feature name is a list of indexes "
      ],
      "metadata": {
        "colab": {
          "base_uri": "https://localhost:8080/"
        },
        "id": "GTryT4SoUR-X",
        "outputId": "17364e14-95c9-45dd-be18-1c9a4a6a0612"
      },
      "execution_count": null,
      "outputs": [
        {
          "output_type": "stream",
          "name": "stdout",
          "text": [
            "RangeIndex(start=0, stop=3849, step=1)\n"
          ]
        }
      ]
    },
    {
      "cell_type": "code",
      "source": [
        "import time\n",
        "import numpy as np\n",
        "\n",
        "start_time = time.time()\n",
        "importances = forest.feature_importances_[0:100] #taketake the first 100 importances from the numpy array\n",
        "print(len(importances))\n",
        "\n",
        "std = np.std([tree.feature_importances_ for tree in forest.estimators_], axis=0)\n",
        "elapsed_time = time.time() - start_time\n",
        "\n",
        "print(f\"Elapsed time to compute the importances: {elapsed_time:.3f} seconds\")"
      ],
      "metadata": {
        "id": "JYlSh3KwLsKR",
        "colab": {
          "base_uri": "https://localhost:8080/"
        },
        "outputId": "cd4a22fb-e844-4542-8a90-5c4f3a10ee6d"
      },
      "execution_count": null,
      "outputs": [
        {
          "output_type": "stream",
          "name": "stdout",
          "text": [
            "100\n",
            "Elapsed time to compute the importances: 0.051 seconds\n"
          ]
        }
      ]
    },
    {
      "cell_type": "code",
      "source": [
        "feats = {} # a dict to hold feature_name: feature_importance\n",
        "for feature, importance in zip(X.columns, importances):\n",
        "    feats[feature] = importance #add the name/value pair \n",
        "\n",
        "imp = pd.DataFrame.from_dict(feats, orient='index').rename(columns={0: 'feature-importance'})\n",
        "imp.sort_values(by='feature-importance').plot(kind='bar', figsize=(50, 10), rot=45)"
      ],
      "metadata": {
        "colab": {
          "base_uri": "https://localhost:8080/",
          "height": 304
        },
        "id": "w6RbYxvZTm84",
        "outputId": "ec0a5c4c-5b4c-47de-b09d-554497cad21b"
      },
      "execution_count": null,
      "outputs": [
        {
          "output_type": "execute_result",
          "data": {
            "text/plain": [
              "<matplotlib.axes._subplots.AxesSubplot at 0x7f63a7362a90>"
            ]
          },
          "metadata": {},
          "execution_count": 77
        },
        {
          "output_type": "display_data",
          "data": {
            "text/plain": [
              "<Figure size 3600x720 with 1 Axes>"
            ],
            "image/png": "[encoded data removed]"
          },
          "metadata": {}
        }
      ]
    },
    {
      "cell_type": "code",
      "source": [
        "print(adata.var_names[68])"
      ],
      "metadata": {
        "colab": {
          "base_uri": "https://localhost:8080/"
        },
        "id": "o-aq5jCck71G",
        "outputId": "bd928f15-5077-46dd-8dd8-461ae0c30ac7"
      },
      "execution_count": null,
      "outputs": [
        {
          "output_type": "stream",
          "name": "stdout",
          "text": [
            "SESN2\n"
          ]
        }
      ]
    },
    {
      "cell_type": "markdown",
      "source": [
        "**Feature importance based on mean decrease in impurity**: This approach directly measures feature importance by observing how random re-shuffling (thus preserving the distribution of the variable) of each predictor influences model performance. "
      ],
      "metadata": {
        "id": "OGXwboBml_G5"
      }
    },
    {
      "cell_type": "code",
      "source": [
        "import pandas as pd\n",
        "\n",
        "forest_importances = pd.Series(importances, index=None) #series containing importances of each feature\n",
        "print(forest_importances.shape)\n",
        "top_importances = forest_importances.take([0,1,2,3,4,5,6,7,8,9], axis = 0) #take the top ten importances from the pandas series\n",
        "print(top_importances.shape)\n",
        "\n",
        "fig, ax = plt.subplots()\n",
        "top_importances.plot.bar()\n",
        "ax.set_title(\"Feature importances using MDI\")\n",
        "ax.set_ylabel(\"Mean decrease in impurity\")\n",
        "fig.tight_layout()"
      ],
      "metadata": {
        "id": "gT5eXEfnLz2E",
        "colab": {
          "base_uri": "https://localhost:8080/",
          "height": 317
        },
        "outputId": "63ef9877-a3f5-43c6-e300-54bef57feff8"
      },
      "execution_count": null,
      "outputs": [
        {
          "output_type": "stream",
          "name": "stdout",
          "text": [
            "(100,)\n",
            "(10,)\n"
          ]
        },
        {
          "output_type": "display_data",
          "data": {
            "text/plain": [
              "<Figure size 432x288 with 1 Axes>"
            ],
            "image/png": "[encoded data removed]"
          },
          "metadata": {}
        }
      ]
    },
    {
      "cell_type": "markdown",
      "source": [
        "**Permutation feature importance**: The permutation feature importance is defined to compute how much each feature contributes to decreasing the weighted impurity. This procedure breaks the relationship between the feature and the target, thus the drop in the model score is indicative of how much the model depends on the feature. [Check out full explanation here](https://towardsdatascience.com/explaining-feature-importance-by-example-of-a-random-forest-d9166011959e)"
      ],
      "metadata": {
        "id": "G7EGIFEAiDsf"
      }
    },
    {
      "cell_type": "code",
      "source": [
        "print(forest_importances)"
      ],
      "metadata": {
        "id": "zbb1Emk5Bwwt",
        "colab": {
          "base_uri": "https://localhost:8080/"
        },
        "outputId": "59a27b31-980b-4b06-caa4-1ab8fb28615d"
      },
      "execution_count": null,
      "outputs": [
        {
          "output_type": "stream",
          "name": "stdout",
          "text": [
            "0     0.000190\n",
            "1     0.000007\n",
            "2     0.000176\n",
            "3     0.000086\n",
            "4     0.000173\n",
            "        ...   \n",
            "95    0.000218\n",
            "96    0.000493\n",
            "97    0.000451\n",
            "98    0.000088\n",
            "99    0.000183\n",
            "Length: 100, dtype: float64\n"
          ]
        }
      ]
    },
    {
      "cell_type": "markdown",
      "source": [
        "https://www.datacamp.com/tutorial/random-forests-classifier-python"
      ],
      "metadata": {
        "id": "tfwU7mn35_Oe"
      }
    },
    {
      "cell_type": "code",
      "source": [
        "from sklearn.inspection import permutation_importance\n",
        "\n",
        "start_time = time.time()\n",
        "result = permutation_importance(\n",
        "    forest, X_test, y_test, n_repeats=10, random_state=42, n_jobs=2\n",
        ")\n",
        "elapsed_time = time.time() - start_time\n",
        "print(f\"Elapsed time to compute the importances: {elapsed_time:.3f} seconds\")\n",
        "\n",
        "forest_importances = pd.Series(result.importances_mean, index=feature_names)"
      ],
      "metadata": {
        "id": "Hx7wCBXqBfsm"
      },
      "execution_count": null,
      "outputs": []
    },
    {
      "cell_type": "code",
      "source": [
        "fig, ax = plt.subplots()\n",
        "forest_importances.plot.bar(yerr=result.importances_std, ax=ax, figsize=(20, 10))\n",
        "ax.set_title(\"Feature importances using permutation on full model\")\n",
        "ax.set_ylabel(\"Mean accuracy decrease\")\n",
        "#fig.tight_layout()\n",
        "plt.show()"
      ],
      "metadata": {
        "id": "qHeop6yyBj0H"
      },
      "execution_count": null,
      "outputs": []
    },
    {
      "cell_type": "code",
      "source": [
        "#run this on a single cell\n",
        "from sklearn.ensemble import RandomForestRegressor\n",
        "rf = RandomForestRegressor(n_estimators=100)\n",
        "rf.fit(X_train, y_train)\n",
        "rf.feature_importances_"
      ],
      "metadata": {
        "id": "SVc3rtDYnNKM"
      },
      "execution_count": null,
      "outputs": []
    }
  ]
}