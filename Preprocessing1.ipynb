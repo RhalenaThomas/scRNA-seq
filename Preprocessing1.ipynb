{
  "cells": [
    {
      "cell_type": "markdown",
      "metadata": {
        "id": "view-in-github",
        "colab_type": "text"
      },
      "source": [
        "<a href=\"https://colab.research.google.com/github/jialun1221/scRNA-seq/blob/main/Preprocessing1.ipynb\" target=\"_parent\"><img src=\"https://colab.research.google.com/assets/colab-badge.svg\" alt=\"Open In Colab\"/></a>"
      ]
    },
    {
      "cell_type": "markdown",
      "metadata": {
        "id": "A_ORnM1dTLRw"
      },
      "source": [
        "# Preprocessing and clustering PD astrocytes\n",
        "### Part 1. Data selection"
      ]
    },
    {
      "cell_type": "markdown",
      "metadata": {
        "id": "x79TUSPbTLRx"
      },
      "source": [
        "In May 2017, this started out as a demonstration that Scanpy would allow to reproduce most of Seurat's [guided clustering tutorial](http://satijalab.org/seurat/pbmc3k_tutorial.html) ([Satija et al., 2015](https://doi.org/10.1038/nbt.3192)).\n",
        "\n",
        "We gratefully acknowledge Seurat's authors for the tutorial! In the meanwhile, we have added and removed a few pieces.\n",
        "\n",
        "The data consist of *3k PBMCs from a Healthy Donor* and are freely available from 10x Genomics ([here](http://cf.10xgenomics.com/samples/cell-exp/1.1.0/pbmc3k/pbmc3k_filtered_gene_bc_matrices.tar.gz) from this [webpage](https://support.10xgenomics.com/single-cell-gene-expression/datasets/1.1.0/pbmc3k)). On a unix system, you can uncomment and run the following to download and unpack the data. The last line creates a directory for writing processed data."
      ]
    },
    {
      "cell_type": "markdown",
      "source": [
        "In this notebook, we will compute ***Data Selection***. We will drop the cells that cotain Lewy Body Dementia, and create a new AnnData object that contains only PD and control cells. All other features of the original AnnData will reamin."
      ],
      "metadata": {
        "id": "pD0A5jAdoGdP"
      }
    },
    {
      "cell_type": "code",
      "execution_count": null,
      "metadata": {
        "id": "H2XzbNDhTLRz"
      },
      "outputs": [],
      "source": [
        "#import packages \n",
        "!pip install scanpy\n",
        "import numpy as np\n",
        "import pandas as pd\n",
        "import scanpy as sc"
      ]
    },
    {
      "cell_type": "code",
      "execution_count": null,
      "metadata": {
        "id": "iU69DOMLTjYJ",
        "colab": {
          "base_uri": "https://localhost:8080/"
        },
        "outputId": "37dd4b13-b136-473e-c997-adf84c7a480c"
      },
      "outputs": [
        {
          "output_type": "stream",
          "name": "stdout",
          "text": [
            "mkdir: cannot create directory ‘data’: File exists\n",
            "mkdir: cannot create directory ‘write’: File exists\n"
          ]
        }
      ],
      "source": [
        "#make directories for file storage\n",
        "!mkdir data\n",
        "!mkdir write"
      ]
    },
    {
      "cell_type": "code",
      "execution_count": null,
      "metadata": {
        "colab": {
          "base_uri": "https://localhost:8080/"
        },
        "id": "9AW_Ik4PTLRz",
        "outputId": "66dc41d3-ca7c-483e-c945-f17f9d46765d"
      },
      "outputs": [
        {
          "output_type": "stream",
          "name": "stdout",
          "text": [
            "scanpy==1.9.1 anndata==0.8.0 umap==0.5.3 numpy==1.21.6 scipy==1.7.3 pandas==1.3.5 scikit-learn==1.0.2 statsmodels==0.12.2 python-igraph==0.9.11 pynndescent==0.5.7\n"
          ]
        }
      ],
      "source": [
        "sc.settings.verbosity = 3             # verbosity: errors (0), warnings (1), info (2), hints (3)\n",
        "sc.logging.print_header()\n",
        "sc.settings.set_figure_params(dpi=80, facecolor='white')"
      ]
    },
    {
      "cell_type": "code",
      "execution_count": null,
      "metadata": {
        "id": "HtWevVTnTLR0"
      },
      "outputs": [],
      "source": [
        "# results_file = 'write/pd_astro.h5ad'  # the file that will store the analysis results"
      ]
    },
    {
      "cell_type": "code",
      "source": [
        "# pca_file = 'write/pca.h5ad'"
      ],
      "metadata": {
        "id": "e4L7PDjeom2Y"
      },
      "execution_count": null,
      "outputs": []
    },
    {
      "cell_type": "code",
      "source": [
        "# write anndata with PCA stored in adata.obsm\n",
        "# pca_in_obsm = 'write/pca_in_obsm.h5ad'"
      ],
      "metadata": {
        "id": "4KQNHBEOHot1"
      },
      "execution_count": null,
      "outputs": []
    },
    {
      "cell_type": "code",
      "source": [
        "#file to store new Anndata object \n",
        "new_anndata = 'write/new_anndata.h5ad'"
      ],
      "metadata": {
        "id": "d4p15BNDeKy-"
      },
      "execution_count": null,
      "outputs": []
    },
    {
      "cell_type": "markdown",
      "metadata": {
        "id": "PxunX4PZTLR0"
      },
      "source": [
        "Read in the count matrix into an [AnnData](https://anndata.readthedocs.io/en/latest/anndata.AnnData.html) object, which holds many slots for annotations and different representations of the data. It also comes with its own HDF5-based file format: `.h5ad`."
      ]
    },
    {
      "cell_type": "code",
      "source": [
        "!pip install --quiet scvi-tools[tutorials]\n",
        "import scvi"
      ],
      "metadata": {
        "colab": {
          "base_uri": "https://localhost:8080/"
        },
        "id": "2JAEYY8ApMgp",
        "outputId": "eb9250cb-aff4-45ba-ab5b-2c80b1e16031"
      },
      "execution_count": null,
      "outputs": [
        {
          "output_type": "stream",
          "name": "stderr",
          "text": [
            "INFO:pytorch_lightning.utilities.seed:Global seed set to 0\n"
          ]
        }
      ]
    },
    {
      "cell_type": "code",
      "source": [
        "from google.colab import drive\n",
        "drive.mount('/content/drive')"
      ],
      "metadata": {
        "colab": {
          "base_uri": "https://localhost:8080/"
        },
        "id": "n8EHAmHZl1-v",
        "outputId": "ad638bff-bd8b-4abf-f7a6-ad78e885ec99"
      },
      "execution_count": null,
      "outputs": [
        {
          "output_type": "stream",
          "name": "stdout",
          "text": [
            "Mounted at /content/drive\n"
          ]
        }
      ]
    },
    {
      "cell_type": "code",
      "source": [
        "adata = scvi.data.read_h5ad(\"drive/MyDrive/PD_astro.h5ad\") "
      ],
      "metadata": {
        "id": "sP-Eonwql35G"
      },
      "execution_count": null,
      "outputs": []
    },
    {
      "cell_type": "code",
      "source": [
        "adata"
      ],
      "metadata": {
        "colab": {
          "base_uri": "https://localhost:8080/"
        },
        "id": "LRJAmcgW-zUz",
        "outputId": "6f34e5a0-a1f4-440e-a2e2-4e6b3c6e173b"
      },
      "execution_count": null,
      "outputs": [
        {
          "output_type": "execute_result",
          "data": {
            "text/plain": [
              "AnnData object with n_obs × n_vars = 33506 × 41625\n",
              "    obs: 'orig.ident', 'nCount_RNA', 'nFeature_RNA', 'Cell_Subtype', 'Cell_Type', 'disease__ontology_label', 'organ__ontology_label'\n",
              "    var: 'features'"
            ]
          },
          "metadata": {},
          "execution_count": 8
        }
      ]
    },
    {
      "cell_type": "markdown",
      "metadata": {
        "id": "Fpcr6MU1TLR1"
      },
      "source": [
        "\n",
        "\n",
        "**Note**\n",
        "    \n",
        "Start with some basic checking."
      ]
    },
    {
      "cell_type": "code",
      "execution_count": null,
      "metadata": {
        "colab": {
          "base_uri": "https://localhost:8080/"
        },
        "id": "vSyjs6mTTLR1",
        "outputId": "77d74c53-2c3a-48b2-8f4c-38bbf60136f3"
      },
      "outputs": [
        {
          "output_type": "execute_result",
          "data": {
            "text/plain": [
              "Index(['RP11-34P13.3', 'FAM138A', 'OR4F5', 'RP11-34P13.7', 'RP11-34P13.8',\n",
              "       'RP11-34P13.14', 'RP11-34P13.9', 'FO538757.3', 'FO538757.2',\n",
              "       'AP006222.2',\n",
              "       ...\n",
              "       'RNU2-71P', 'RNA5SP252', 'AC116533.2', 'AC114494.1', 'RN7SL424P',\n",
              "       'RN7SL739P', 'MIR4502', 'RNU4-10P', 'RN7SL865P', 'RNU6-191P'],\n",
              "      dtype='object', length=41625)"
            ]
          },
          "metadata": {},
          "execution_count": 10
        }
      ],
      "source": [
        "adata.var_names #this gives genes!"
      ]
    },
    {
      "cell_type": "code",
      "source": [
        "adata.obs_names #this are labels"
      ],
      "metadata": {
        "colab": {
          "base_uri": "https://localhost:8080/"
        },
        "id": "xG4097QPGVVz",
        "outputId": "546ed844-395a-4b87-851b-a3f9535beaa7"
      },
      "execution_count": null,
      "outputs": [
        {
          "output_type": "execute_result",
          "data": {
            "text/plain": [
              "Index(['pPDsHSrSNxi3482d200429PosB_CTCTCGATCACACCCT-1',\n",
              "       'pPDsHSrSNxi3482d200429PosB_GATCCCTTCTGGACCG-1',\n",
              "       'pPDsHSrSNxi3482d200429PosB_ATCGTAGTCGGTCGAC-1',\n",
              "       'pPDsHSrSNxi3482d200429PosB_GGGACAAAGTGCAACG-1',\n",
              "       'pPDsHSrSNxi3482d200429PosB_TTGTTCATCGCAATTG-1',\n",
              "       'pPDsHSrSNxi3482d200429PosB_ATGGTTGCAGCGTACC-1',\n",
              "       'pPDsHSrSNxi3482d200429PosB_ACGGAAGGTGAGTAAT-1',\n",
              "       'pPDsHSrSNxi3482d200429PosB_TCCGAAAGTTGCTGAT-1',\n",
              "       'pPDsHSrSNxi3482d200429PosB_GCAGGCTAGGTCGAGT-1',\n",
              "       'pPDsHSrSNxi3482d200429PosB_CTGTGGGTCATCGACA-1',\n",
              "       ...\n",
              "       'pPDsHSrSNxi1963d200429PosE_TTTGACTCAATCGTCA-1',\n",
              "       'pPDsHSrSNxi1963d200429PosE_CATTGAGTCCTTCTAA-1',\n",
              "       'pPDsHSrSNxi1963d200429PosE_CAACAACCACCTGCGA-1',\n",
              "       'pPDsHSrSNxi1963d200429PosE_ATTCTTGGTTCCACGG-1',\n",
              "       'pPDsHSrSNxi1963d200429PosE_CATAAGCAGATACAGT-1',\n",
              "       'pPDsHSrSNxi1963d200429PosE_AACAAGAAGGGTCACA-1',\n",
              "       'pPDsHSrSNxi3298d200429PosB_TGGGCTGAGATACCAA-1',\n",
              "       'pPDsHSrSNxi3298d200429PosB_CAGCCAGCATCTAACG-1',\n",
              "       'pPDsHSrSNxi3298d200429PosB_GCCTGTTGTATTCTCT-1',\n",
              "       'pPDsHSrSNxi3298d200429PosB_GGTAATCGTTCTGACA-1'],\n",
              "      dtype='object', length=33506)"
            ]
          },
          "metadata": {},
          "execution_count": 11
        }
      ]
    },
    {
      "cell_type": "code",
      "source": [
        "#Check how many rows are unwanted data.\n",
        "adata.obs.loc[adata.obs['disease__ontology_label'].str.contains(\"Lewy body dementia\", case=False)]"
      ],
      "metadata": {
        "colab": {
          "base_uri": "https://localhost:8080/",
          "height": 653
        },
        "id": "V_POk3lPwbQB",
        "outputId": "b392b597-0edd-4576-f0e0-c59313c1d3ce"
      },
      "execution_count": null,
      "outputs": [
        {
          "output_type": "execute_result",
          "data": {
            "text/plain": [
              "                                                orig.ident  nCount_RNA  \\\n",
              "pPDsHSrSNxi4775d200429PosA_CTCAACCCAGCGAACA-1           86     18376.0   \n",
              "pPDsHSrSNxi4775d200429PosA_AGATCCACAGAGTGAC-1           86     10638.0   \n",
              "pPDsHSrSNxi4775d200429PosA_TGTAACGTCCTACCAC-1           86     10009.0   \n",
              "pPDsHSrSNxi4775d200429PosA_CTCATGCCAACGTAAA-1           86      9735.0   \n",
              "pPDsHSrSNxi4775d200429PosA_CTCAGAAAGGGAACAA-1           86      8617.0   \n",
              "...                                                    ...         ...   \n",
              "pPDsHSrSNxi2569d200429DAPIB_GACTCTCCACATAGCT-1          30      4764.0   \n",
              "pPDsHSrSNxi2569d200429DAPIB_CTGCAGGCATGACAAA-1          30      2836.0   \n",
              "pPDsHSrSNxi2569d200429DAPIB_AGACTCAGTCTCCTGT-1          30      2632.0   \n",
              "pPDsHSrSNxi2569d200429DAPIB_TCATATCTCCATAGGT-1          30      2380.0   \n",
              "pPDsHSrSNxi2569d200429DAPIB_GAGTTACTCCTCTGCA-1          30      1848.0   \n",
              "\n",
              "                                                nFeature_RNA  \\\n",
              "pPDsHSrSNxi4775d200429PosA_CTCAACCCAGCGAACA-1           6077   \n",
              "pPDsHSrSNxi4775d200429PosA_AGATCCACAGAGTGAC-1           4211   \n",
              "pPDsHSrSNxi4775d200429PosA_TGTAACGTCCTACCAC-1           4048   \n",
              "pPDsHSrSNxi4775d200429PosA_CTCATGCCAACGTAAA-1           3777   \n",
              "pPDsHSrSNxi4775d200429PosA_CTCAGAAAGGGAACAA-1           3824   \n",
              "...                                                      ...   \n",
              "pPDsHSrSNxi2569d200429DAPIB_GACTCTCCACATAGCT-1          2632   \n",
              "pPDsHSrSNxi2569d200429DAPIB_CTGCAGGCATGACAAA-1          1762   \n",
              "pPDsHSrSNxi2569d200429DAPIB_AGACTCAGTCTCCTGT-1          1515   \n",
              "pPDsHSrSNxi2569d200429DAPIB_TCATATCTCCATAGGT-1          1478   \n",
              "pPDsHSrSNxi2569d200429DAPIB_GAGTTACTCCTCTGCA-1          1300   \n",
              "\n",
              "                                                     Cell_Subtype Cell_Type  \\\n",
              "pPDsHSrSNxi4775d200429PosA_CTCAACCCAGCGAACA-1   Astro_GBP2_SPOCD1     astro   \n",
              "pPDsHSrSNxi4775d200429PosA_AGATCCACAGAGTGAC-1     Astro_GJB6_OXTR     astro   \n",
              "pPDsHSrSNxi4775d200429PosA_TGTAACGTCCTACCAC-1     Astro_GJB6_OXTR     astro   \n",
              "pPDsHSrSNxi4775d200429PosA_CTCATGCCAACGTAAA-1     Astro_GJB6_OXTR     astro   \n",
              "pPDsHSrSNxi4775d200429PosA_CTCAGAAAGGGAACAA-1     Astro_GJB6_OXTR     astro   \n",
              "...                                                           ...       ...   \n",
              "pPDsHSrSNxi2569d200429DAPIB_GACTCTCCACATAGCT-1      Ependyma_ZBBX     astro   \n",
              "pPDsHSrSNxi2569d200429DAPIB_CTGCAGGCATGACAAA-1      Ependyma_ZBBX     astro   \n",
              "pPDsHSrSNxi2569d200429DAPIB_AGACTCAGTCTCCTGT-1      Ependyma_ZBBX     astro   \n",
              "pPDsHSrSNxi2569d200429DAPIB_TCATATCTCCATAGGT-1      Ependyma_ZBBX     astro   \n",
              "pPDsHSrSNxi2569d200429DAPIB_GAGTTACTCCTCTGCA-1      Ependyma_ZBBX     astro   \n",
              "\n",
              "                                               disease__ontology_label  \\\n",
              "pPDsHSrSNxi4775d200429PosA_CTCAACCCAGCGAACA-1       Lewy body dementia   \n",
              "pPDsHSrSNxi4775d200429PosA_AGATCCACAGAGTGAC-1       Lewy body dementia   \n",
              "pPDsHSrSNxi4775d200429PosA_TGTAACGTCCTACCAC-1       Lewy body dementia   \n",
              "pPDsHSrSNxi4775d200429PosA_CTCATGCCAACGTAAA-1       Lewy body dementia   \n",
              "pPDsHSrSNxi4775d200429PosA_CTCAGAAAGGGAACAA-1       Lewy body dementia   \n",
              "...                                                                ...   \n",
              "pPDsHSrSNxi2569d200429DAPIB_GACTCTCCACATAGCT-1      Lewy body dementia   \n",
              "pPDsHSrSNxi2569d200429DAPIB_CTGCAGGCATGACAAA-1      Lewy body dementia   \n",
              "pPDsHSrSNxi2569d200429DAPIB_AGACTCAGTCTCCTGT-1      Lewy body dementia   \n",
              "pPDsHSrSNxi2569d200429DAPIB_TCATATCTCCATAGGT-1      Lewy body dementia   \n",
              "pPDsHSrSNxi2569d200429DAPIB_GAGTTACTCCTCTGCA-1      Lewy body dementia   \n",
              "\n",
              "                                                         organ__ontology_label  \n",
              "pPDsHSrSNxi4775d200429PosA_CTCAACCCAGCGAACA-1   substantia nigra pars compacta  \n",
              "pPDsHSrSNxi4775d200429PosA_AGATCCACAGAGTGAC-1   substantia nigra pars compacta  \n",
              "pPDsHSrSNxi4775d200429PosA_TGTAACGTCCTACCAC-1   substantia nigra pars compacta  \n",
              "pPDsHSrSNxi4775d200429PosA_CTCATGCCAACGTAAA-1   substantia nigra pars compacta  \n",
              "pPDsHSrSNxi4775d200429PosA_CTCAGAAAGGGAACAA-1   substantia nigra pars compacta  \n",
              "...                                                                        ...  \n",
              "pPDsHSrSNxi2569d200429DAPIB_GACTCTCCACATAGCT-1  substantia nigra pars compacta  \n",
              "pPDsHSrSNxi2569d200429DAPIB_CTGCAGGCATGACAAA-1  substantia nigra pars compacta  \n",
              "pPDsHSrSNxi2569d200429DAPIB_AGACTCAGTCTCCTGT-1  substantia nigra pars compacta  \n",
              "pPDsHSrSNxi2569d200429DAPIB_TCATATCTCCATAGGT-1  substantia nigra pars compacta  \n",
              "pPDsHSrSNxi2569d200429DAPIB_GAGTTACTCCTCTGCA-1  substantia nigra pars compacta  \n",
              "\n",
              "[6971 rows x 7 columns]"
            ],
            "text/html": [
              "\n",
              "  <div id=\"df-0ad90c89-b019-4c3f-90c9-67efecb55e7a\">\n",
              "    <div class=\"colab-df-container\">\n",
              "      <div>\n",
              "<style scoped>\n",
              "    .dataframe tbody tr th:only-of-type {\n",
              "        vertical-align: middle;\n",
              "    }\n",
              "\n",
              "    .dataframe tbody tr th {\n",
              "        vertical-align: top;\n",
              "    }\n",
              "\n",
              "    .dataframe thead th {\n",
              "        text-align: right;\n",
              "    }\n",
              "</style>\n",
              "<table border=\"1\" class=\"dataframe\">\n",
              "  <thead>\n",
              "    <tr style=\"text-align: right;\">\n",
              "      <th></th>\n",
              "      <th>orig.ident</th>\n",
              "      <th>nCount_RNA</th>\n",
              "      <th>nFeature_RNA</th>\n",
              "      <th>Cell_Subtype</th>\n",
              "      <th>Cell_Type</th>\n",
              "      <th>disease__ontology_label</th>\n",
              "      <th>organ__ontology_label</th>\n",
              "    </tr>\n",
              "  </thead>\n",
              "  <tbody>\n",
              "    <tr>\n",
              "      <th>pPDsHSrSNxi4775d200429PosA_CTCAACCCAGCGAACA-1</th>\n",
              "      <td>86</td>\n",
              "      <td>18376.0</td>\n",
              "      <td>6077</td>\n",
              "      <td>Astro_GBP2_SPOCD1</td>\n",
              "      <td>astro</td>\n",
              "      <td>Lewy body dementia</td>\n",
              "      <td>substantia nigra pars compacta</td>\n",
              "    </tr>\n",
              "    <tr>\n",
              "      <th>pPDsHSrSNxi4775d200429PosA_AGATCCACAGAGTGAC-1</th>\n",
              "      <td>86</td>\n",
              "      <td>10638.0</td>\n",
              "      <td>4211</td>\n",
              "      <td>Astro_GJB6_OXTR</td>\n",
              "      <td>astro</td>\n",
              "      <td>Lewy body dementia</td>\n",
              "      <td>substantia nigra pars compacta</td>\n",
              "    </tr>\n",
              "    <tr>\n",
              "      <th>pPDsHSrSNxi4775d200429PosA_TGTAACGTCCTACCAC-1</th>\n",
              "      <td>86</td>\n",
              "      <td>10009.0</td>\n",
              "      <td>4048</td>\n",
              "      <td>Astro_GJB6_OXTR</td>\n",
              "      <td>astro</td>\n",
              "      <td>Lewy body dementia</td>\n",
              "      <td>substantia nigra pars compacta</td>\n",
              "    </tr>\n",
              "    <tr>\n",
              "      <th>pPDsHSrSNxi4775d200429PosA_CTCATGCCAACGTAAA-1</th>\n",
              "      <td>86</td>\n",
              "      <td>9735.0</td>\n",
              "      <td>3777</td>\n",
              "      <td>Astro_GJB6_OXTR</td>\n",
              "      <td>astro</td>\n",
              "      <td>Lewy body dementia</td>\n",
              "      <td>substantia nigra pars compacta</td>\n",
              "    </tr>\n",
              "    <tr>\n",
              "      <th>pPDsHSrSNxi4775d200429PosA_CTCAGAAAGGGAACAA-1</th>\n",
              "      <td>86</td>\n",
              "      <td>8617.0</td>\n",
              "      <td>3824</td>\n",
              "      <td>Astro_GJB6_OXTR</td>\n",
              "      <td>astro</td>\n",
              "      <td>Lewy body dementia</td>\n",
              "      <td>substantia nigra pars compacta</td>\n",
              "    </tr>\n",
              "    <tr>\n",
              "      <th>...</th>\n",
              "      <td>...</td>\n",
              "      <td>...</td>\n",
              "      <td>...</td>\n",
              "      <td>...</td>\n",
              "      <td>...</td>\n",
              "      <td>...</td>\n",
              "      <td>...</td>\n",
              "    </tr>\n",
              "    <tr>\n",
              "      <th>pPDsHSrSNxi2569d200429DAPIB_GACTCTCCACATAGCT-1</th>\n",
              "      <td>30</td>\n",
              "      <td>4764.0</td>\n",
              "      <td>2632</td>\n",
              "      <td>Ependyma_ZBBX</td>\n",
              "      <td>astro</td>\n",
              "      <td>Lewy body dementia</td>\n",
              "      <td>substantia nigra pars compacta</td>\n",
              "    </tr>\n",
              "    <tr>\n",
              "      <th>pPDsHSrSNxi2569d200429DAPIB_CTGCAGGCATGACAAA-1</th>\n",
              "      <td>30</td>\n",
              "      <td>2836.0</td>\n",
              "      <td>1762</td>\n",
              "      <td>Ependyma_ZBBX</td>\n",
              "      <td>astro</td>\n",
              "      <td>Lewy body dementia</td>\n",
              "      <td>substantia nigra pars compacta</td>\n",
              "    </tr>\n",
              "    <tr>\n",
              "      <th>pPDsHSrSNxi2569d200429DAPIB_AGACTCAGTCTCCTGT-1</th>\n",
              "      <td>30</td>\n",
              "      <td>2632.0</td>\n",
              "      <td>1515</td>\n",
              "      <td>Ependyma_ZBBX</td>\n",
              "      <td>astro</td>\n",
              "      <td>Lewy body dementia</td>\n",
              "      <td>substantia nigra pars compacta</td>\n",
              "    </tr>\n",
              "    <tr>\n",
              "      <th>pPDsHSrSNxi2569d200429DAPIB_TCATATCTCCATAGGT-1</th>\n",
              "      <td>30</td>\n",
              "      <td>2380.0</td>\n",
              "      <td>1478</td>\n",
              "      <td>Ependyma_ZBBX</td>\n",
              "      <td>astro</td>\n",
              "      <td>Lewy body dementia</td>\n",
              "      <td>substantia nigra pars compacta</td>\n",
              "    </tr>\n",
              "    <tr>\n",
              "      <th>pPDsHSrSNxi2569d200429DAPIB_GAGTTACTCCTCTGCA-1</th>\n",
              "      <td>30</td>\n",
              "      <td>1848.0</td>\n",
              "      <td>1300</td>\n",
              "      <td>Ependyma_ZBBX</td>\n",
              "      <td>astro</td>\n",
              "      <td>Lewy body dementia</td>\n",
              "      <td>substantia nigra pars compacta</td>\n",
              "    </tr>\n",
              "  </tbody>\n",
              "</table>\n",
              "<p>6971 rows × 7 columns</p>\n",
              "</div>\n",
              "      <button class=\"colab-df-convert\" onclick=\"convertToInteractive('df-0ad90c89-b019-4c3f-90c9-67efecb55e7a')\"\n",
              "              title=\"Convert this dataframe to an interactive table.\"\n",
              "              style=\"display:none;\">\n",
              "        \n",
              "  <svg xmlns=\"http://www.w3.org/2000/svg\" height=\"24px\"viewBox=\"0 0 24 24\"\n",
              "       width=\"24px\">\n",
              "    <path d=\"M0 0h24v24H0V0z\" fill=\"none\"/>\n",
              "    <path d=\"M18.56 5.44l.94 2.06.94-2.06 2.06-.94-2.06-.94-.94-2.06-.94 2.06-2.06.94zm-11 1L8.5 8.5l.94-2.06 2.06-.94-2.06-.94L8.5 2.5l-.94 2.06-2.06.94zm10 10l.94 2.06.94-2.06 2.06-.94-2.06-.94-.94-2.06-.94 2.06-2.06.94z\"/><path d=\"M17.41 7.96l-1.37-1.37c-.4-.4-.92-.59-1.43-.59-.52 0-1.04.2-1.43.59L10.3 9.45l-7.72 7.72c-.78.78-.78 2.05 0 2.83L4 21.41c.39.39.9.59 1.41.59.51 0 1.02-.2 1.41-.59l7.78-7.78 2.81-2.81c.8-.78.8-2.07 0-2.86zM5.41 20L4 18.59l7.72-7.72 1.47 1.35L5.41 20z\"/>\n",
              "  </svg>\n",
              "      </button>\n",
              "      \n",
              "  <style>\n",
              "    .colab-df-container {\n",
              "      display:flex;\n",
              "      flex-wrap:wrap;\n",
              "      gap: 12px;\n",
              "    }\n",
              "\n",
              "    .colab-df-convert {\n",
              "      background-color: #E8F0FE;\n",
              "      border: none;\n",
              "      border-radius: 50%;\n",
              "      cursor: pointer;\n",
              "      display: none;\n",
              "      fill: #1967D2;\n",
              "      height: 32px;\n",
              "      padding: 0 0 0 0;\n",
              "      width: 32px;\n",
              "    }\n",
              "\n",
              "    .colab-df-convert:hover {\n",
              "      background-color: #E2EBFA;\n",
              "      box-shadow: 0px 1px 2px rgba(60, 64, 67, 0.3), 0px 1px 3px 1px rgba(60, 64, 67, 0.15);\n",
              "      fill: #174EA6;\n",
              "    }\n",
              "\n",
              "    [theme=dark] .colab-df-convert {\n",
              "      background-color: #3B4455;\n",
              "      fill: #D2E3FC;\n",
              "    }\n",
              "\n",
              "    [theme=dark] .colab-df-convert:hover {\n",
              "      background-color: #434B5C;\n",
              "      box-shadow: 0px 1px 3px 1px rgba(0, 0, 0, 0.15);\n",
              "      filter: drop-shadow(0px 1px 2px rgba(0, 0, 0, 0.3));\n",
              "      fill: #FFFFFF;\n",
              "    }\n",
              "  </style>\n",
              "\n",
              "      <script>\n",
              "        const buttonEl =\n",
              "          document.querySelector('#df-0ad90c89-b019-4c3f-90c9-67efecb55e7a button.colab-df-convert');\n",
              "        buttonEl.style.display =\n",
              "          google.colab.kernel.accessAllowed ? 'block' : 'none';\n",
              "\n",
              "        async function convertToInteractive(key) {\n",
              "          const element = document.querySelector('#df-0ad90c89-b019-4c3f-90c9-67efecb55e7a');\n",
              "          const dataTable =\n",
              "            await google.colab.kernel.invokeFunction('convertToInteractive',\n",
              "                                                     [key], {});\n",
              "          if (!dataTable) return;\n",
              "\n",
              "          const docLinkHtml = 'Like what you see? Visit the ' +\n",
              "            '<a target=\"_blank\" href=https://colab.research.google.com/notebooks/data_table.ipynb>data table notebook</a>'\n",
              "            + ' to learn more about interactive tables.';\n",
              "          element.innerHTML = '';\n",
              "          dataTable['output_type'] = 'display_data';\n",
              "          await google.colab.output.renderOutput(dataTable, element);\n",
              "          const docLink = document.createElement('div');\n",
              "          docLink.innerHTML = docLinkHtml;\n",
              "          element.appendChild(docLink);\n",
              "        }\n",
              "      </script>\n",
              "    </div>\n",
              "  </div>\n",
              "  "
            ]
          },
          "metadata": {},
          "execution_count": 10
        }
      ]
    },
    {
      "cell_type": "markdown",
      "metadata": {
        "id": "AIz4O4mLTLR1"
      },
      "source": [
        "###Data selection"
      ]
    },
    {
      "cell_type": "code",
      "execution_count": null,
      "metadata": {
        "id": "gMz2WxCIVCAW"
      },
      "outputs": [],
      "source": [
        "!pip install matplotlib==3.1.3\n",
        "from numpy import inf"
      ]
    },
    {
      "cell_type": "markdown",
      "source": [
        "Drop the Lewy body dementia:"
      ],
      "metadata": {
        "id": "-ZBMJbO90-2l"
      }
    },
    {
      "cell_type": "code",
      "source": [
        "adata.obs = adata.obs.reset_index() #Set index for the labels\n",
        "k = adata.obs #create a variable for further uses (a DataFrame)\n",
        "# print(k)"
      ],
      "metadata": {
        "id": "inia9_acKdh4"
      },
      "execution_count": null,
      "outputs": []
    },
    {
      "cell_type": "code",
      "source": [
        "y = k.index[k['disease__ontology_label'] == 'Lewy body dementia'].tolist() #get the index that contains the Lewy Body Dementia samples, stored in variable y (a list)\n",
        "# print(y)"
      ],
      "metadata": {
        "id": "TT9xaD0FMpWj"
      },
      "execution_count": null,
      "outputs": []
    },
    {
      "cell_type": "code",
      "source": [
        "m = adata.X.toarray() #convert sparse matrix X to array"
      ],
      "metadata": {
        "id": "0Uo-w1JfXgO9"
      },
      "execution_count": null,
      "outputs": []
    },
    {
      "cell_type": "markdown",
      "source": [
        "Conduct data selection separately in adata.X and adata.obs. "
      ],
      "metadata": {
        "id": "vuWmuNj0ek8A"
      }
    },
    {
      "cell_type": "code",
      "source": [
        "m = np.delete(m, obj = y, axis=0) #delete rows that contain Lewy Body Dementia according to the previously generated index stored in y"
      ],
      "metadata": {
        "id": "ytUXbJEaZP8R"
      },
      "execution_count": null,
      "outputs": []
    },
    {
      "cell_type": "code",
      "source": [
        "#drop command for adata.obs\n",
        "adata.obs.drop(adata.obs.index[adata.obs['disease__ontology_label'] == 'Lewy body dementia'], inplace=True)\n",
        "adata.obs"
      ],
      "metadata": {
        "colab": {
          "base_uri": "https://localhost:8080/",
          "height": 653
        },
        "id": "JYt1WDzi0899",
        "outputId": "01e68945-5cd2-4848-fac2-579e0dd8c164"
      },
      "execution_count": null,
      "outputs": [
        {
          "output_type": "execute_result",
          "data": {
            "text/plain": [
              "                                               index  orig.ident  nCount_RNA  \\\n",
              "0      pPDsHSrSNxi3482d200429PosB_CTCTCGATCACACCCT-1          59     29990.0   \n",
              "1      pPDsHSrSNxi3482d200429PosB_GATCCCTTCTGGACCG-1          59     28671.0   \n",
              "2      pPDsHSrSNxi3482d200429PosB_ATCGTAGTCGGTCGAC-1          59     26473.0   \n",
              "3      pPDsHSrSNxi3482d200429PosB_GGGACAAAGTGCAACG-1          59     22933.0   \n",
              "4      pPDsHSrSNxi3482d200429PosB_TTGTTCATCGCAATTG-1          59     22217.0   \n",
              "...                                              ...         ...         ...   \n",
              "33501  pPDsHSrSNxi1963d200429PosE_AACAAGAAGGGTCACA-1          15      6054.0   \n",
              "33502  pPDsHSrSNxi3298d200429PosB_TGGGCTGAGATACCAA-1          36      6898.0   \n",
              "33503  pPDsHSrSNxi3298d200429PosB_CAGCCAGCATCTAACG-1          36      2766.0   \n",
              "33504  pPDsHSrSNxi3298d200429PosB_GCCTGTTGTATTCTCT-1          36      1798.0   \n",
              "33505  pPDsHSrSNxi3298d200429PosB_GGTAATCGTTCTGACA-1          36      1482.0   \n",
              "\n",
              "       nFeature_RNA         Cell_Subtype Cell_Type disease__ontology_label  \\\n",
              "0              7831  Astro_VIM_TNFSRF12A     astro                  normal   \n",
              "1              7291  Astro_VIM_TNFSRF12A     astro                  normal   \n",
              "2              7010  Astro_VIM_TNFSRF12A     astro                  normal   \n",
              "3              6906  Astro_VIM_TNFSRF12A     astro                  normal   \n",
              "4              6975  Astro_VIM_TNFSRF12A     astro                  normal   \n",
              "...             ...                  ...       ...                     ...   \n",
              "33501          2974        Ependyma_ZBBX     astro       Parkinson disease   \n",
              "33502          2719        Astro_GLYATL2     astro                  normal   \n",
              "33503          1381        Astro_GUCY1A2     astro                  normal   \n",
              "33504           992      Astro_GJB6_OXTR     astro                  normal   \n",
              "33505           909      Astro_GJB6_OXTR     astro                  normal   \n",
              "\n",
              "                organ__ontology_label  \n",
              "0      substantia nigra pars compacta  \n",
              "1      substantia nigra pars compacta  \n",
              "2      substantia nigra pars compacta  \n",
              "3      substantia nigra pars compacta  \n",
              "4      substantia nigra pars compacta  \n",
              "...                               ...  \n",
              "33501  substantia nigra pars compacta  \n",
              "33502  substantia nigra pars compacta  \n",
              "33503  substantia nigra pars compacta  \n",
              "33504  substantia nigra pars compacta  \n",
              "33505  substantia nigra pars compacta  \n",
              "\n",
              "[26535 rows x 8 columns]"
            ],
            "text/html": [
              "\n",
              "  <div id=\"df-bf275daf-bde8-40a1-a1d4-8057a29a70d0\">\n",
              "    <div class=\"colab-df-container\">\n",
              "      <div>\n",
              "<style scoped>\n",
              "    .dataframe tbody tr th:only-of-type {\n",
              "        vertical-align: middle;\n",
              "    }\n",
              "\n",
              "    .dataframe tbody tr th {\n",
              "        vertical-align: top;\n",
              "    }\n",
              "\n",
              "    .dataframe thead th {\n",
              "        text-align: right;\n",
              "    }\n",
              "</style>\n",
              "<table border=\"1\" class=\"dataframe\">\n",
              "  <thead>\n",
              "    <tr style=\"text-align: right;\">\n",
              "      <th></th>\n",
              "      <th>index</th>\n",
              "      <th>orig.ident</th>\n",
              "      <th>nCount_RNA</th>\n",
              "      <th>nFeature_RNA</th>\n",
              "      <th>Cell_Subtype</th>\n",
              "      <th>Cell_Type</th>\n",
              "      <th>disease__ontology_label</th>\n",
              "      <th>organ__ontology_label</th>\n",
              "    </tr>\n",
              "  </thead>\n",
              "  <tbody>\n",
              "    <tr>\n",
              "      <th>0</th>\n",
              "      <td>pPDsHSrSNxi3482d200429PosB_CTCTCGATCACACCCT-1</td>\n",
              "      <td>59</td>\n",
              "      <td>29990.0</td>\n",
              "      <td>7831</td>\n",
              "      <td>Astro_VIM_TNFSRF12A</td>\n",
              "      <td>astro</td>\n",
              "      <td>normal</td>\n",
              "      <td>substantia nigra pars compacta</td>\n",
              "    </tr>\n",
              "    <tr>\n",
              "      <th>1</th>\n",
              "      <td>pPDsHSrSNxi3482d200429PosB_GATCCCTTCTGGACCG-1</td>\n",
              "      <td>59</td>\n",
              "      <td>28671.0</td>\n",
              "      <td>7291</td>\n",
              "      <td>Astro_VIM_TNFSRF12A</td>\n",
              "      <td>astro</td>\n",
              "      <td>normal</td>\n",
              "      <td>substantia nigra pars compacta</td>\n",
              "    </tr>\n",
              "    <tr>\n",
              "      <th>2</th>\n",
              "      <td>pPDsHSrSNxi3482d200429PosB_ATCGTAGTCGGTCGAC-1</td>\n",
              "      <td>59</td>\n",
              "      <td>26473.0</td>\n",
              "      <td>7010</td>\n",
              "      <td>Astro_VIM_TNFSRF12A</td>\n",
              "      <td>astro</td>\n",
              "      <td>normal</td>\n",
              "      <td>substantia nigra pars compacta</td>\n",
              "    </tr>\n",
              "    <tr>\n",
              "      <th>3</th>\n",
              "      <td>pPDsHSrSNxi3482d200429PosB_GGGACAAAGTGCAACG-1</td>\n",
              "      <td>59</td>\n",
              "      <td>22933.0</td>\n",
              "      <td>6906</td>\n",
              "      <td>Astro_VIM_TNFSRF12A</td>\n",
              "      <td>astro</td>\n",
              "      <td>normal</td>\n",
              "      <td>substantia nigra pars compacta</td>\n",
              "    </tr>\n",
              "    <tr>\n",
              "      <th>4</th>\n",
              "      <td>pPDsHSrSNxi3482d200429PosB_TTGTTCATCGCAATTG-1</td>\n",
              "      <td>59</td>\n",
              "      <td>22217.0</td>\n",
              "      <td>6975</td>\n",
              "      <td>Astro_VIM_TNFSRF12A</td>\n",
              "      <td>astro</td>\n",
              "      <td>normal</td>\n",
              "      <td>substantia nigra pars compacta</td>\n",
              "    </tr>\n",
              "    <tr>\n",
              "      <th>...</th>\n",
              "      <td>...</td>\n",
              "      <td>...</td>\n",
              "      <td>...</td>\n",
              "      <td>...</td>\n",
              "      <td>...</td>\n",
              "      <td>...</td>\n",
              "      <td>...</td>\n",
              "      <td>...</td>\n",
              "    </tr>\n",
              "    <tr>\n",
              "      <th>33501</th>\n",
              "      <td>pPDsHSrSNxi1963d200429PosE_AACAAGAAGGGTCACA-1</td>\n",
              "      <td>15</td>\n",
              "      <td>6054.0</td>\n",
              "      <td>2974</td>\n",
              "      <td>Ependyma_ZBBX</td>\n",
              "      <td>astro</td>\n",
              "      <td>Parkinson disease</td>\n",
              "      <td>substantia nigra pars compacta</td>\n",
              "    </tr>\n",
              "    <tr>\n",
              "      <th>33502</th>\n",
              "      <td>pPDsHSrSNxi3298d200429PosB_TGGGCTGAGATACCAA-1</td>\n",
              "      <td>36</td>\n",
              "      <td>6898.0</td>\n",
              "      <td>2719</td>\n",
              "      <td>Astro_GLYATL2</td>\n",
              "      <td>astro</td>\n",
              "      <td>normal</td>\n",
              "      <td>substantia nigra pars compacta</td>\n",
              "    </tr>\n",
              "    <tr>\n",
              "      <th>33503</th>\n",
              "      <td>pPDsHSrSNxi3298d200429PosB_CAGCCAGCATCTAACG-1</td>\n",
              "      <td>36</td>\n",
              "      <td>2766.0</td>\n",
              "      <td>1381</td>\n",
              "      <td>Astro_GUCY1A2</td>\n",
              "      <td>astro</td>\n",
              "      <td>normal</td>\n",
              "      <td>substantia nigra pars compacta</td>\n",
              "    </tr>\n",
              "    <tr>\n",
              "      <th>33504</th>\n",
              "      <td>pPDsHSrSNxi3298d200429PosB_GCCTGTTGTATTCTCT-1</td>\n",
              "      <td>36</td>\n",
              "      <td>1798.0</td>\n",
              "      <td>992</td>\n",
              "      <td>Astro_GJB6_OXTR</td>\n",
              "      <td>astro</td>\n",
              "      <td>normal</td>\n",
              "      <td>substantia nigra pars compacta</td>\n",
              "    </tr>\n",
              "    <tr>\n",
              "      <th>33505</th>\n",
              "      <td>pPDsHSrSNxi3298d200429PosB_GGTAATCGTTCTGACA-1</td>\n",
              "      <td>36</td>\n",
              "      <td>1482.0</td>\n",
              "      <td>909</td>\n",
              "      <td>Astro_GJB6_OXTR</td>\n",
              "      <td>astro</td>\n",
              "      <td>normal</td>\n",
              "      <td>substantia nigra pars compacta</td>\n",
              "    </tr>\n",
              "  </tbody>\n",
              "</table>\n",
              "<p>26535 rows × 8 columns</p>\n",
              "</div>\n",
              "      <button class=\"colab-df-convert\" onclick=\"convertToInteractive('df-bf275daf-bde8-40a1-a1d4-8057a29a70d0')\"\n",
              "              title=\"Convert this dataframe to an interactive table.\"\n",
              "              style=\"display:none;\">\n",
              "        \n",
              "  <svg xmlns=\"http://www.w3.org/2000/svg\" height=\"24px\"viewBox=\"0 0 24 24\"\n",
              "       width=\"24px\">\n",
              "    <path d=\"M0 0h24v24H0V0z\" fill=\"none\"/>\n",
              "    <path d=\"M18.56 5.44l.94 2.06.94-2.06 2.06-.94-2.06-.94-.94-2.06-.94 2.06-2.06.94zm-11 1L8.5 8.5l.94-2.06 2.06-.94-2.06-.94L8.5 2.5l-.94 2.06-2.06.94zm10 10l.94 2.06.94-2.06 2.06-.94-2.06-.94-.94-2.06-.94 2.06-2.06.94z\"/><path d=\"M17.41 7.96l-1.37-1.37c-.4-.4-.92-.59-1.43-.59-.52 0-1.04.2-1.43.59L10.3 9.45l-7.72 7.72c-.78.78-.78 2.05 0 2.83L4 21.41c.39.39.9.59 1.41.59.51 0 1.02-.2 1.41-.59l7.78-7.78 2.81-2.81c.8-.78.8-2.07 0-2.86zM5.41 20L4 18.59l7.72-7.72 1.47 1.35L5.41 20z\"/>\n",
              "  </svg>\n",
              "      </button>\n",
              "      \n",
              "  <style>\n",
              "    .colab-df-container {\n",
              "      display:flex;\n",
              "      flex-wrap:wrap;\n",
              "      gap: 12px;\n",
              "    }\n",
              "\n",
              "    .colab-df-convert {\n",
              "      background-color: #E8F0FE;\n",
              "      border: none;\n",
              "      border-radius: 50%;\n",
              "      cursor: pointer;\n",
              "      display: none;\n",
              "      fill: #1967D2;\n",
              "      height: 32px;\n",
              "      padding: 0 0 0 0;\n",
              "      width: 32px;\n",
              "    }\n",
              "\n",
              "    .colab-df-convert:hover {\n",
              "      background-color: #E2EBFA;\n",
              "      box-shadow: 0px 1px 2px rgba(60, 64, 67, 0.3), 0px 1px 3px 1px rgba(60, 64, 67, 0.15);\n",
              "      fill: #174EA6;\n",
              "    }\n",
              "\n",
              "    [theme=dark] .colab-df-convert {\n",
              "      background-color: #3B4455;\n",
              "      fill: #D2E3FC;\n",
              "    }\n",
              "\n",
              "    [theme=dark] .colab-df-convert:hover {\n",
              "      background-color: #434B5C;\n",
              "      box-shadow: 0px 1px 3px 1px rgba(0, 0, 0, 0.15);\n",
              "      filter: drop-shadow(0px 1px 2px rgba(0, 0, 0, 0.3));\n",
              "      fill: #FFFFFF;\n",
              "    }\n",
              "  </style>\n",
              "\n",
              "      <script>\n",
              "        const buttonEl =\n",
              "          document.querySelector('#df-bf275daf-bde8-40a1-a1d4-8057a29a70d0 button.colab-df-convert');\n",
              "        buttonEl.style.display =\n",
              "          google.colab.kernel.accessAllowed ? 'block' : 'none';\n",
              "\n",
              "        async function convertToInteractive(key) {\n",
              "          const element = document.querySelector('#df-bf275daf-bde8-40a1-a1d4-8057a29a70d0');\n",
              "          const dataTable =\n",
              "            await google.colab.kernel.invokeFunction('convertToInteractive',\n",
              "                                                     [key], {});\n",
              "          if (!dataTable) return;\n",
              "\n",
              "          const docLinkHtml = 'Like what you see? Visit the ' +\n",
              "            '<a target=\"_blank\" href=https://colab.research.google.com/notebooks/data_table.ipynb>data table notebook</a>'\n",
              "            + ' to learn more about interactive tables.';\n",
              "          element.innerHTML = '';\n",
              "          dataTable['output_type'] = 'display_data';\n",
              "          await google.colab.output.renderOutput(dataTable, element);\n",
              "          const docLink = document.createElement('div');\n",
              "          docLink.innerHTML = docLinkHtml;\n",
              "          element.appendChild(docLink);\n",
              "        }\n",
              "      </script>\n",
              "    </div>\n",
              "  </div>\n",
              "  "
            ]
          },
          "metadata": {},
          "execution_count": 17
        }
      ]
    },
    {
      "cell_type": "markdown",
      "source": [
        "##making new AnnData object ##"
      ],
      "metadata": {
        "id": "8K2VfprPFr9r"
      }
    },
    {
      "cell_type": "code",
      "source": [
        "pip install anndata"
      ],
      "metadata": {
        "colab": {
          "base_uri": "https://localhost:8080/"
        },
        "id": "zr4qWdBsSTe2",
        "outputId": "c4348edc-9ef2-4de5-be1c-a920dd4da098"
      },
      "execution_count": null,
      "outputs": [
        {
          "output_type": "stream",
          "name": "stdout",
          "text": [
            "Looking in indexes: https://pypi.org/simple, https://us-python.pkg.dev/colab-wheels/public/simple/\n",
            "Requirement already satisfied: anndata in /usr/local/lib/python3.7/dist-packages (0.8.0)\n",
            "Requirement already satisfied: typing_extensions in /usr/local/lib/python3.7/dist-packages (from anndata) (4.1.1)\n",
            "Requirement already satisfied: importlib_metadata>=0.7 in /usr/local/lib/python3.7/dist-packages (from anndata) (4.12.0)\n",
            "Requirement already satisfied: packaging>=20 in /usr/local/lib/python3.7/dist-packages (from anndata) (21.3)\n",
            "Requirement already satisfied: natsort in /usr/local/lib/python3.7/dist-packages (from anndata) (5.5.0)\n",
            "Requirement already satisfied: scipy>1.4 in /usr/local/lib/python3.7/dist-packages (from anndata) (1.7.3)\n",
            "Requirement already satisfied: h5py>=3 in /usr/local/lib/python3.7/dist-packages (from anndata) (3.1.0)\n",
            "Requirement already satisfied: numpy>=1.16.5 in /usr/local/lib/python3.7/dist-packages (from anndata) (1.21.6)\n",
            "Requirement already satisfied: pandas>=1.1.1 in /usr/local/lib/python3.7/dist-packages (from anndata) (1.3.5)\n",
            "Requirement already satisfied: cached-property in /usr/local/lib/python3.7/dist-packages (from h5py>=3->anndata) (1.5.2)\n",
            "Requirement already satisfied: zipp>=0.5 in /usr/local/lib/python3.7/dist-packages (from importlib_metadata>=0.7->anndata) (3.8.1)\n",
            "Requirement already satisfied: pyparsing!=3.0.5,>=2.0.2 in /usr/local/lib/python3.7/dist-packages (from packaging>=20->anndata) (3.0.9)\n",
            "Requirement already satisfied: pytz>=2017.3 in /usr/local/lib/python3.7/dist-packages (from pandas>=1.1.1->anndata) (2022.2.1)\n",
            "Requirement already satisfied: python-dateutil>=2.7.3 in /usr/local/lib/python3.7/dist-packages (from pandas>=1.1.1->anndata) (2.8.2)\n",
            "Requirement already satisfied: six>=1.5 in /usr/local/lib/python3.7/dist-packages (from python-dateutil>=2.7.3->pandas>=1.1.1->anndata) (1.15.0)\n"
          ]
        }
      ]
    },
    {
      "cell_type": "code",
      "source": [
        "#Command for making a new AnnData object. For each parameter, need to make a deep copy of the original object.\n",
        "new = sc.AnnData(X = m,\n",
        "  obs = adata.obs.copy(),\n",
        "  var = adata.var.copy(),\n",
        "  uns = adata.uns.copy(),\n",
        "  obsm = adata.obsm.copy(),\n",
        "  varm = adata.varm.copy(),\n",
        "  layers = adata.layers.copy(),\n",
        "  raw = adata.raw.copy(),\n",
        "  dtype = \"float32\",\n",
        "  shape = None,\n",
        "  #filename = NULL,\n",
        "  #filemode = NULL,\n",
        "  obsp = adata.obsp.copy(),\n",
        "  varp = adata.varp\n",
        "  )\n",
        "#varp = adata.varp.copy() would give me error but direct assignment would not"
      ],
      "metadata": {
        "colab": {
          "base_uri": "https://localhost:8080/"
        },
        "id": "rv7BADSnRtlI",
        "outputId": "e5596b4e-5dfc-4e23-cb23-75a225806560"
      },
      "execution_count": null,
      "outputs": [
        {
          "output_type": "stream",
          "name": "stderr",
          "text": [
            "/usr/local/lib/python3.7/dist-packages/anndata/_core/anndata.py:121: ImplicitModificationWarning: Transforming to str index.\n",
            "  warnings.warn(\"Transforming to str index.\", ImplicitModificationWarning)\n"
          ]
        }
      ]
    },
    {
      "cell_type": "code",
      "source": [
        "#A random line that I found necessary for the object to work. \n",
        "new.__dict__['_raw'].__dict__['_var'] = adata.__dict__['_raw'].__dict__['_var'].rename(columns={'_index': 'features'})"
      ],
      "metadata": {
        "id": "14kGcJNOfVRd"
      },
      "execution_count": null,
      "outputs": []
    },
    {
      "cell_type": "code",
      "source": [
        "new.write(new_anndata)"
      ],
      "metadata": {
        "id": "COWdueR5dx0S"
      },
      "execution_count": null,
      "outputs": []
    },
    {
      "cell_type": "code",
      "source": [
        "print(adata.X.shape, new.X.shape) #Now the new AnnData object is generated. Check the dimension!"
      ],
      "metadata": {
        "colab": {
          "base_uri": "https://localhost:8080/"
        },
        "id": "sZC69AV3bAKV",
        "outputId": "6dbd0b6d-4d5d-41b4-b5c3-a3a69fc6ee4a"
      },
      "execution_count": null,
      "outputs": [
        {
          "output_type": "stream",
          "name": "stdout",
          "text": [
            "(33506, 41625) (26535, 41625)\n"
          ]
        }
      ]
    },
    {
      "cell_type": "markdown",
      "source": [
        "A new AnnData object is created, and stored in the Colab disk. Navigate to the folder button on the left side panel, and click on \"write\", you will find the `new_anndata.h5ad file` here. Please either download it to your local disk, then upload to your google drive; or move to your drive folder by dragging it to the `drive` folder. \n",
        "\n",
        "---\n",
        "The purpose of creating a new AnnData is to keep the accessibility of other features, stored in `adata.obsm`, `adata.varm`, etc. \n"
      ],
      "metadata": {
        "id": "zikgBXqOiDiB"
      }
    },
    {
      "cell_type": "markdown",
      "metadata": {
        "id": "1XAz2U26TLR2"
      },
      "source": [
        "**Basic filtering:**"
      ]
    },
    {
      "cell_type": "code",
      "execution_count": null,
      "metadata": {
        "id": "t8ieIpqyTLR2"
      },
      "outputs": [],
      "source": [
        "sc.pp.filter_cells(new, min_genes=200) #Minimum number of genes expressed required for a cell to pass filtering.\n",
        "sc.pp.filter_genes(new, min_cells=3) #Minimum number of cells expressed required for a gene to pass filtering."
      ]
    },
    {
      "cell_type": "markdown",
      "metadata": {
        "id": "TZmMqAfrTLR2"
      },
      "source": [
        "Let's assemble some information about mitochondrial genes, which are important for quality control.\n",
        "\n",
        "Citing from \"Simple Single Cell\" workflows [(Lun, McCarthy & Marioni, 2017)](https://master.bioconductor.org/packages/release/workflows/html/simpleSingleCell.html#examining-gene-level-metrics):\n",
        "\n",
        "> High proportions are indicative of poor-quality cells (Islam et al. 2014; Ilicic et al. 2016), possibly because of loss of cytoplasmic RNA from perforated cells. The reasoning is that mitochondria are larger than individual transcript molecules and less likely to escape through tears in the cell membrane."
      ]
    },
    {
      "cell_type": "markdown",
      "metadata": {
        "id": "eN31z6zcTLR2"
      },
      "source": [
        "With `pp.calculate_qc_metrics`, we can compute many metrics very efficiently."
      ]
    },
    {
      "cell_type": "code",
      "execution_count": null,
      "metadata": {
        "id": "U3em64WETLR2"
      },
      "outputs": [],
      "source": [
        "adata.var['mt'] = adata.var_names.str.startswith('MT-')  # annotate the group of mitochondrial genes as 'mt'\n",
        "sc.pp.calculate_qc_metrics(adata, qc_vars=['mt'], percent_top=None, log1p=False, inplace=True)"
      ]
    },
    {
      "cell_type": "markdown",
      "metadata": {
        "id": "jVe43Z1KTLR2"
      },
      "source": [
        "A violin plot of some of the computed quality measures:\n",
        "\n",
        "* the number of genes expressed in the count matrix\n",
        "* the total counts per cell\n",
        "* the percentage of counts in mitochondrial genes"
      ]
    },
    {
      "cell_type": "code",
      "source": [
        "import scanpy as sc\n",
        "import seaborn as sns\n",
        "\n",
        "\n",
        "adata.var[\"mito\"] = adata.var_names.str.startswith(\"MT-\")\n",
        "sc.pp.calculate_qc_metrics(adata, qc_vars=[\"mito\"], inplace=True)\n",
        "sns.jointplot(\n",
        "    data=adata.obs,\n",
        "    x=\"log1p_total_counts\",\n",
        "    y=\"log1p_n_genes_by_counts\",\n",
        "    kind=\"hex\",\n",
        ")"
      ],
      "metadata": {
        "id": "7OsGAZXkMcTk"
      },
      "execution_count": null,
      "outputs": []
    },
    {
      "cell_type": "code",
      "source": [
        "sns.histplot(adata.obs[\"pct_counts_mito\"])"
      ],
      "metadata": {
        "id": "acLF1Y9NQKAs"
      },
      "execution_count": null,
      "outputs": []
    },
    {
      "cell_type": "code",
      "execution_count": null,
      "metadata": {
        "id": "EnVbUzPTTLR2"
      },
      "outputs": [],
      "source": [
        "sc.pl.violin(adata, ['n_genes_by_counts', 'total_counts', 'pct_counts_mt'],\n",
        "             jitter=0.4, multi_panel=True)"
      ]
    },
    {
      "cell_type": "code",
      "source": [
        "adata.obs.n_genes_by_counts"
      ],
      "metadata": {
        "id": "nqTFlpNta32e"
      },
      "execution_count": null,
      "outputs": []
    },
    {
      "cell_type": "code",
      "source": [
        "adata.obs.total_counts"
      ],
      "metadata": {
        "id": "1MaJVshPbdtE"
      },
      "execution_count": null,
      "outputs": []
    },
    {
      "cell_type": "markdown",
      "metadata": {
        "id": "Q0s-ZK0ZTLR3"
      },
      "source": [
        "Remove cells that have too many mitochondrial genes expressed or too many total counts:"
      ]
    },
    {
      "cell_type": "code",
      "execution_count": null,
      "metadata": {
        "id": "JgUwCmx8TLR3"
      },
      "outputs": [],
      "source": [
        "sc.pl.scatter(adata, x='total_counts', y='pct_counts_mt')\n",
        "sc.pl.scatter(adata, x='total_counts', y='n_genes_by_counts')"
      ]
    },
    {
      "cell_type": "markdown",
      "metadata": {
        "id": "jjo7Pch8TLR3"
      },
      "source": [
        "Actually do the filtering by slicing the `AnnData` object."
      ]
    },
    {
      "cell_type": "code",
      "execution_count": null,
      "metadata": {
        "id": "EcBBPIApTLR3"
      },
      "outputs": [],
      "source": [
        "adata = adata[adata.obs.n_genes_by_counts < 2500, :]\n",
        "adata = adata[adata.obs.pct_counts_mt < 5, :]"
      ]
    },
    {
      "cell_type": "markdown",
      "metadata": {
        "id": "gYG0hCXzTLR3"
      },
      "source": [
        "Total-count normalize (library-size correct) the data matrix $\\mathbf{X}$ to 10,000 reads per cell, so that counts become comparable among cells."
      ]
    },
    {
      "cell_type": "code",
      "source": [
        "adata"
      ],
      "metadata": {
        "id": "fnTinFoqc23M"
      },
      "execution_count": null,
      "outputs": []
    },
    {
      "cell_type": "code",
      "source": [
        "adata.obs['disease__ontology_label']"
      ],
      "metadata": {
        "id": "YEVtK1flxf_P"
      },
      "execution_count": null,
      "outputs": []
    },
    {
      "cell_type": "markdown",
      "source": [
        "**Drop the Lewy Body Dementia before normalization**"
      ],
      "metadata": {
        "id": "lhkE9GUIxksR"
      }
    },
    {
      "cell_type": "code",
      "execution_count": null,
      "metadata": {
        "id": "idR4eyp1TLR3"
      },
      "outputs": [],
      "source": [
        "sc.pp.normalize_total(adata, target_sum=1e4)"
      ]
    },
    {
      "cell_type": "code",
      "source": [
        "adata.obs.total_counts #this is the total_counts after normalized"
      ],
      "metadata": {
        "id": "1yV3TzF6cxvB"
      },
      "execution_count": null,
      "outputs": []
    },
    {
      "cell_type": "markdown",
      "metadata": {
        "id": "nXs0SYfgTLR3"
      },
      "source": [
        "Logarithmize the data:"
      ]
    },
    {
      "cell_type": "code",
      "execution_count": null,
      "metadata": {
        "id": "AcUTHAlUTLR3"
      },
      "outputs": [],
      "source": [
        "sc.pp.log1p(adata)"
      ]
    },
    {
      "cell_type": "markdown",
      "metadata": {
        "id": "gdQt530vTLR4"
      },
      "source": [
        "Identify highly-variable genes."
      ]
    },
    {
      "cell_type": "code",
      "execution_count": null,
      "metadata": {
        "id": "Nx3yXbG-TLR4"
      },
      "outputs": [],
      "source": [
        "sc.pp.highly_variable_genes(adata, min_mean=0.0125, max_mean=3, min_disp=0.5)"
      ]
    },
    {
      "cell_type": "code",
      "execution_count": null,
      "metadata": {
        "id": "dXRJJ46JTLR4"
      },
      "outputs": [],
      "source": [
        "sc.pl.highly_variable_genes(adata)"
      ]
    },
    {
      "cell_type": "markdown",
      "metadata": {
        "id": "Vyry8sL9TLR4"
      },
      "source": [
        "Set the `.raw` attribute of the AnnData object to the normalized and logarithmized raw gene expression for later use in differential testing and visualizations of gene expression. This simply freezes the state of the AnnData object."
      ]
    },
    {
      "cell_type": "markdown",
      "metadata": {
        "id": "4X9X94DrTLR4"
      },
      "source": [
        "<div class=\"alert alert-info\">\n",
        "\n",
        "**Note**\n",
        "\n",
        "You can get back an `AnnData` of the object in `.raw` by calling `.raw.to_adata()`.\n",
        "\n",
        "</div>    "
      ]
    },
    {
      "cell_type": "code",
      "execution_count": null,
      "metadata": {
        "id": "0XwbSCP2TLR4"
      },
      "outputs": [],
      "source": [
        "adata.raw = adata"
      ]
    },
    {
      "cell_type": "code",
      "source": [
        "adata.raw"
      ],
      "metadata": {
        "id": "uDTH733e_iDg"
      },
      "execution_count": null,
      "outputs": []
    },
    {
      "cell_type": "markdown",
      "metadata": {
        "id": "SywP49aSTLR4"
      },
      "source": [
        "<div class=\"alert alert-info\">\n",
        "\n",
        "**Note**\n",
        "    \n",
        "If you don't proceed below with correcting the data with `sc.pp.regress_out` and scaling it via `sc.pp.scale`, you can also get away without using `.raw` at all.\n",
        "\n",
        "The result of the previous highly-variable-genes detection is stored as an annotation in `.var.highly_variable` and auto-detected by PCA and hence, `sc.pp.neighbors` and subsequent manifold/graph tools. In that case, the step *actually do the filtering* below is unnecessary, too.\n",
        "\n",
        "</div>"
      ]
    },
    {
      "cell_type": "markdown",
      "metadata": {
        "id": "DTIfsILbTLR5"
      },
      "source": [
        "Actually do the filtering"
      ]
    },
    {
      "cell_type": "code",
      "execution_count": null,
      "metadata": {
        "id": "2kKBqX2xTLR5"
      },
      "outputs": [],
      "source": [
        "adata = adata[:, adata.var.highly_variable] #3799 highly variable genes"
      ]
    },
    {
      "cell_type": "code",
      "execution_count": null,
      "metadata": {
        "id": "l1QKMYFMWpt5"
      },
      "outputs": [],
      "source": [
        "print(adata)"
      ]
    },
    {
      "cell_type": "markdown",
      "metadata": {
        "id": "MIC5xpQHTLR5"
      },
      "source": [
        "Regress out effects of total counts per cell and the percentage of mitochondrial genes expressed. Scale the data to unit variance."
      ]
    },
    {
      "cell_type": "code",
      "execution_count": null,
      "metadata": {
        "id": "6Y_Sff4yTLR5"
      },
      "outputs": [],
      "source": [
        "sc.pp.regress_out(adata, ['total_counts', 'pct_counts_mt'])"
      ]
    },
    {
      "cell_type": "markdown",
      "metadata": {
        "id": "oI6AvsiWTLR6"
      },
      "source": [
        "Scale each gene to unit variance. Clip values exceeding standard deviation 10. "
      ]
    },
    {
      "cell_type": "code",
      "execution_count": null,
      "metadata": {
        "id": "YNae2RLhTLR6"
      },
      "outputs": [],
      "source": [
        "sc.pp.scale(adata, max_value=10)"
      ]
    },
    {
      "cell_type": "code",
      "source": [],
      "metadata": {
        "id": "fyVSHxqregM3"
      },
      "execution_count": null,
      "outputs": []
    },
    {
      "cell_type": "markdown",
      "metadata": {
        "id": "En6157wmTLR6"
      },
      "source": [
        "## Principal component analysis"
      ]
    },
    {
      "cell_type": "markdown",
      "metadata": {
        "id": "amMjC3DLTLR6"
      },
      "source": [
        "Reduce the dimensionality of the data by running principal component analysis (PCA), which reveals the main axes of variation and denoises the data."
      ]
    },
    {
      "cell_type": "code",
      "execution_count": null,
      "metadata": {
        "id": "H_hnvKgXTLR6"
      },
      "outputs": [],
      "source": [
        "pcadata = sc.tl.pca(adata, n_comps = 50, svd_solver='arpack')"
      ]
    },
    {
      "cell_type": "code",
      "source": [
        "type(pcadata)"
      ],
      "metadata": {
        "id": "WF4kC1fXY90i"
      },
      "execution_count": null,
      "outputs": []
    },
    {
      "cell_type": "code",
      "source": [
        "pd.DataFrame(adata.obsm['X_pca'].components)"
      ],
      "metadata": {
        "id": "FtJrdL9jYorc"
      },
      "execution_count": null,
      "outputs": []
    },
    {
      "cell_type": "code",
      "source": [
        "print(pcadata)\n",
        "print(type(pcadata))\n",
        "pcadata.shape"
      ],
      "metadata": {
        "id": "KmNufb31B30Z"
      },
      "execution_count": null,
      "outputs": []
    },
    {
      "cell_type": "markdown",
      "source": [
        "**Concatenate** the pcadata with labels"
      ],
      "metadata": {
        "id": "lbQCJgaxC9eL"
      }
    },
    {
      "cell_type": "code",
      "source": [
        "print(adata.X)\n",
        "print(type(adata))\n",
        "adata.shape"
      ],
      "metadata": {
        "id": "VQdOOBUOC72q"
      },
      "execution_count": null,
      "outputs": []
    },
    {
      "cell_type": "code",
      "source": [
        "#Replace the adata.X with pca data\n",
        "adata.X = anndata.obsm['raw'].copy()"
      ],
      "metadata": {
        "id": "vP9YDa1dDnyC"
      },
      "execution_count": null,
      "outputs": []
    },
    {
      "cell_type": "code",
      "source": [
        "print(adata)"
      ],
      "metadata": {
        "id": "Xz2W9Tr9FZhT"
      },
      "execution_count": null,
      "outputs": []
    },
    {
      "cell_type": "code",
      "source": [
        "adata.write(pca_in_obsm)\n",
        "#NoW i got the new anndata structure with data after PCA stored in adata.obsm"
      ],
      "metadata": {
        "id": "snZNL4axIGlM"
      },
      "execution_count": null,
      "outputs": []
    },
    {
      "cell_type": "code",
      "source": [
        "pcadata = adata.obsm['X_pca']\n",
        "pcadata = pd.DataFrame(adata.obsm['X_pca'])"
      ],
      "metadata": {
        "id": "MFz0k52yiZqF"
      },
      "execution_count": null,
      "outputs": []
    },
    {
      "cell_type": "code",
      "source": [
        "pcadata = adata.obsm['X_pca']\n",
        "pcadata #the PCA data is just an array of X"
      ],
      "metadata": {
        "id": "qT0W613UASKO"
      },
      "execution_count": null,
      "outputs": []
    },
    {
      "cell_type": "code",
      "source": [
        "adata.varm['PCs']"
      ],
      "metadata": {
        "id": "ExAa8fjbAlrg"
      },
      "execution_count": null,
      "outputs": []
    },
    {
      "cell_type": "code",
      "source": [
        "pcadata = sc.AnnData(pcadata)"
      ],
      "metadata": {
        "id": "2UkBndO9qGPX"
      },
      "execution_count": null,
      "outputs": []
    },
    {
      "cell_type": "code",
      "source": [
        "type(pcadata)"
      ],
      "metadata": {
        "id": "ucb41cNPqMx2"
      },
      "execution_count": null,
      "outputs": []
    },
    {
      "cell_type": "code",
      "source": [
        "pcadata.write(pca_file)"
      ],
      "metadata": {
        "id": "lu_vb6OsovdB"
      },
      "execution_count": null,
      "outputs": []
    },
    {
      "cell_type": "code",
      "source": [
        "type(pcadata)"
      ],
      "metadata": {
        "id": "3dvmwqnKqtIm"
      },
      "execution_count": null,
      "outputs": []
    },
    {
      "cell_type": "code",
      "source": [
        "type(adata)"
      ],
      "metadata": {
        "id": "i6k_IVj3hp_9"
      },
      "execution_count": null,
      "outputs": []
    },
    {
      "cell_type": "code",
      "source": [
        "adata.var.highly_variable"
      ],
      "metadata": {
        "id": "XXiU1ycuiG_k"
      },
      "execution_count": null,
      "outputs": []
    },
    {
      "cell_type": "code",
      "source": [
        "print(adata.raw)"
      ],
      "metadata": {
        "id": "d-2_88I1hzQD"
      },
      "execution_count": null,
      "outputs": []
    },
    {
      "cell_type": "code",
      "source": [
        "adata.obs"
      ],
      "metadata": {
        "id": "DsKqOjESfkBQ"
      },
      "execution_count": null,
      "outputs": []
    },
    {
      "cell_type": "code",
      "source": [
        "type(pcadata)"
      ],
      "metadata": {
        "id": "P5PEsZb1gVQH"
      },
      "execution_count": null,
      "outputs": []
    },
    {
      "cell_type": "markdown",
      "metadata": {
        "id": "343ZQgSbTLR7"
      },
      "source": [
        "We can make a scatter plot in the PCA coordinates, but we will not use that later on."
      ]
    },
    {
      "cell_type": "code",
      "execution_count": null,
      "metadata": {
        "id": "GJ5_SWEATLR7"
      },
      "outputs": [],
      "source": [
        "sc.pl.pca(adata, color='CST3')"
      ]
    },
    {
      "cell_type": "markdown",
      "metadata": {
        "id": "BVyZHUJzTLR7"
      },
      "source": [
        "Let us inspect the contribution of single PCs to the total variance in the data. This gives us information about how many PCs we should consider in order to compute the neighborhood relations of cells, e.g. used in the clustering function  `sc.tl.louvain()` or tSNE `sc.tl.tsne()`. In our experience, often a rough estimate of the number of PCs does fine."
      ]
    },
    {
      "cell_type": "code",
      "execution_count": null,
      "metadata": {
        "id": "pBPsRXBWTLR7"
      },
      "outputs": [],
      "source": [
        "sc.pl.pca_variance_ratio(adata, log=True)"
      ]
    },
    {
      "cell_type": "markdown",
      "metadata": {
        "id": "byFXYvc9TLR7"
      },
      "source": [
        "Save the result."
      ]
    },
    {
      "cell_type": "code",
      "execution_count": null,
      "metadata": {
        "id": "ZJOEsqLGTLR7"
      },
      "outputs": [],
      "source": [
        "adata.write(results_file)"
      ]
    },
    {
      "cell_type": "code",
      "execution_count": null,
      "metadata": {
        "id": "M8LZ-I2ZTLR8"
      },
      "outputs": [],
      "source": [
        "adata"
      ]
    },
    {
      "cell_type": "markdown",
      "metadata": {
        "id": "HH4xZnnTTLR8"
      },
      "source": [
        "## Computing the neighborhood graph"
      ]
    },
    {
      "cell_type": "markdown",
      "metadata": {
        "id": "m84xeCEMTLR8"
      },
      "source": [
        "Let us compute the neighborhood graph of cells using the PCA representation of the data matrix. You might simply use default values here. For the sake of reproducing Seurat's results, let's take the following values."
      ]
    },
    {
      "cell_type": "code",
      "execution_count": null,
      "metadata": {
        "id": "Dcc7HfVUTLR8"
      },
      "outputs": [],
      "source": [
        "sc.pp.neighbors(adata, n_neighbors=10, n_pcs=40)"
      ]
    },
    {
      "cell_type": "markdown",
      "metadata": {
        "id": "G0mp2DWyTLR8"
      },
      "source": [
        "## Embedding the neighborhood graph"
      ]
    },
    {
      "cell_type": "markdown",
      "metadata": {
        "id": "7eOf8gWtTLR8"
      },
      "source": [
        "We suggest embedding the graph in two dimensions using UMAP ([McInnes et al., 2018](https://arxiv.org/abs/1802.03426)), see below. It is potentially more faithful to the global connectivity of the manifold than tSNE, i.e., it better preserves trajectories. In some ocassions, you might still observe disconnected clusters and similar connectivity violations. They can usually be remedied by running:\n",
        "\n",
        "```\n",
        "tl.paga(adata)\n",
        "pl.paga(adata, plot=False)  # remove `plot=False` if you want to see the coarse-grained graph\n",
        "tl.umap(adata, init_pos='paga')\n",
        "```"
      ]
    },
    {
      "cell_type": "code",
      "execution_count": null,
      "metadata": {
        "id": "Aoai8PaITLR9"
      },
      "outputs": [],
      "source": [
        "sc.tl.umap(adata)"
      ]
    },
    {
      "cell_type": "code",
      "execution_count": null,
      "metadata": {
        "id": "Yzi7n2ZTTLR9"
      },
      "outputs": [],
      "source": [
        "sc.pl.umap(adata, color=['CST3', 'NKG7', 'PPBP'])"
      ]
    },
    {
      "cell_type": "markdown",
      "metadata": {
        "id": "4-TqXxSTTLR9"
      },
      "source": [
        "As we set the `.raw` attribute of `adata`, the previous plots showed the \"raw\" (normalized, logarithmized, but uncorrected) gene expression. You can also plot the scaled and corrected gene expression by explicitly stating that you don't want to use `.raw`."
      ]
    },
    {
      "cell_type": "code",
      "execution_count": null,
      "metadata": {
        "id": "B9C-qzS9TLR9"
      },
      "outputs": [],
      "source": [
        "sc.pl.umap(adata, color=['CST3', 'NKG7', 'PPBP'], use_raw=False)"
      ]
    },
    {
      "cell_type": "markdown",
      "metadata": {
        "id": "E3dguSfjTLR9"
      },
      "source": [
        "## Clustering the neighborhood graph"
      ]
    },
    {
      "cell_type": "markdown",
      "metadata": {
        "id": "PjZuzcRATLR9"
      },
      "source": [
        "As with Seurat and many other frameworks, we recommend the Leiden graph-clustering method (community detection based on optimizing modularity) by [Traag *et al.* (2018)](https://scanpy.readthedocs.io/en/latest/references.html#traag18). Note that Leiden clustering directly clusters the neighborhood graph of cells, which we already computed in the previous section."
      ]
    },
    {
      "cell_type": "code",
      "execution_count": null,
      "metadata": {
        "id": "k8t1ugY1TLR9"
      },
      "outputs": [],
      "source": [
        "sc.tl.leiden(adata)"
      ]
    },
    {
      "cell_type": "markdown",
      "metadata": {
        "id": "dnTXHExRTLR-"
      },
      "source": [
        "Plot the clusters, which agree quite well with the result of Seurat."
      ]
    },
    {
      "cell_type": "code",
      "execution_count": null,
      "metadata": {
        "id": "8dAzoZrTTLR-"
      },
      "outputs": [],
      "source": [
        "sc.pl.umap(adata, color=['leiden', 'CST3', 'NKG7'])"
      ]
    },
    {
      "cell_type": "markdown",
      "metadata": {
        "id": "iQIsva1PTLR-"
      },
      "source": [
        "Save the result."
      ]
    },
    {
      "cell_type": "code",
      "execution_count": null,
      "metadata": {
        "id": "To-1CIqcTLR-"
      },
      "outputs": [],
      "source": [
        "adata.write(results_file)"
      ]
    },
    {
      "cell_type": "markdown",
      "metadata": {
        "id": "sEpPJdevTLR-"
      },
      "source": [
        "## Finding marker genes"
      ]
    },
    {
      "cell_type": "markdown",
      "metadata": {
        "id": "iTWNicowTLR-"
      },
      "source": [
        "Let us compute a ranking for the highly differential genes in each cluster. For this, by default, the `.raw` attribute of AnnData is used in case it has been initialized before. The simplest and fastest method to do so is the t-test."
      ]
    },
    {
      "cell_type": "code",
      "execution_count": null,
      "metadata": {
        "id": "TqDILlhnTLR-"
      },
      "outputs": [],
      "source": [
        "sc.tl.rank_genes_groups(adata, 'leiden', method='t-test')\n",
        "sc.pl.rank_genes_groups(adata, n_genes=25, sharey=False)"
      ]
    },
    {
      "cell_type": "code",
      "execution_count": null,
      "metadata": {
        "id": "Q75TI55UTLR_"
      },
      "outputs": [],
      "source": [
        "sc.settings.verbosity = 2  # reduce the verbosity"
      ]
    },
    {
      "cell_type": "markdown",
      "metadata": {
        "id": "8gEgUo8ITLR_"
      },
      "source": [
        "The result of a [Wilcoxon rank-sum (Mann-Whitney-U)](https://en.wikipedia.org/wiki/Mann%E2%80%93Whitney_U_test) test is very similar. We recommend using the latter in publications, see e.g., [Sonison & Robinson (2018)](https://doi.org/10.1038/nmeth.4612). You might also consider much more powerful differential testing packages like MAST, limma, DESeq2 and, for python, the recent diffxpy."
      ]
    },
    {
      "cell_type": "code",
      "execution_count": null,
      "metadata": {
        "id": "cOBkr8rfTLR_"
      },
      "outputs": [],
      "source": [
        "sc.tl.rank_genes_groups(adata, 'leiden', method='wilcoxon')\n",
        "sc.pl.rank_genes_groups(adata, n_genes=25, sharey=False)"
      ]
    },
    {
      "cell_type": "markdown",
      "metadata": {
        "id": "Nk6F5H6MTLR_"
      },
      "source": [
        "Save the result."
      ]
    },
    {
      "cell_type": "code",
      "execution_count": null,
      "metadata": {
        "id": "hHC22VAlTLR_"
      },
      "outputs": [],
      "source": [
        "adata.write(results_file)"
      ]
    },
    {
      "cell_type": "markdown",
      "metadata": {
        "id": "XYROgYhHTLR_"
      },
      "source": [
        "As an alternative, let us rank genes using logistic regression. For instance, this has been suggested by [Natranos et al. (2018)](https://doi.org/10.1101/258566). The essential difference is that here, we use a multi-variate appraoch whereas conventional differential tests are uni-variate. [Clark et al. (2014)](https://doi.org/10.1186/1471-2105-15-79) has more details."
      ]
    },
    {
      "cell_type": "code",
      "execution_count": null,
      "metadata": {
        "id": "eQ160-JNTLR_"
      },
      "outputs": [],
      "source": [
        "sc.tl.rank_genes_groups(adata, 'leiden', method='logreg')\n",
        "sc.pl.rank_genes_groups(adata, n_genes=25, sharey=False)"
      ]
    },
    {
      "cell_type": "markdown",
      "metadata": {
        "id": "cV5oj6QPTLR_"
      },
      "source": [
        "With the exceptions of *IL7R*, which is only found by the t-test and *FCER1A*, which is only found by the other two appraoches, all marker genes are recovered in all approaches.\n",
        "\n",
        "Louvain Group | Markers | Cell Type\n",
        "---|---|---\n",
        "0 | IL7R | CD4 T cells\n",
        "1 | CD14, LYZ | CD14+ Monocytes\n",
        "2 | MS4A1 |\tB cells\n",
        "3 | CD8A |\tCD8 T cells\n",
        "4 | GNLY, NKG7 | \tNK cells\n",
        "5 | FCGR3A, MS4A7 |\tFCGR3A+ Monocytes\n",
        "6 | FCER1A, CST3 |\tDendritic Cells\n",
        "7 | PPBP |\tMegakaryocytes"
      ]
    },
    {
      "cell_type": "markdown",
      "metadata": {
        "id": "r8KY0YuCTLSA"
      },
      "source": [
        "Let us also define a list of marker genes for later reference."
      ]
    },
    {
      "cell_type": "code",
      "execution_count": null,
      "metadata": {
        "id": "eJho7zS0TLSA"
      },
      "outputs": [],
      "source": [
        "marker_genes = ['IL7R', 'CD79A', 'MS4A1', 'CD8A', 'CD8B', 'LYZ', 'CD14',\n",
        "                'LGALS3', 'S100A8', 'GNLY', 'NKG7', 'KLRB1',  \n",
        "                'FCGR3A', 'MS4A7', 'FCER1A', 'CST3', 'PPBP']"
      ]
    },
    {
      "cell_type": "markdown",
      "metadata": {
        "id": "ticddzstTLSA"
      },
      "source": [
        "Reload the object that has been save with the Wilcoxon Rank-Sum test result."
      ]
    },
    {
      "cell_type": "code",
      "execution_count": null,
      "metadata": {
        "id": "iqk4utxjTLSA"
      },
      "outputs": [],
      "source": [
        "adata = sc.read(results_file)"
      ]
    },
    {
      "cell_type": "markdown",
      "metadata": {
        "id": "_cEw0M55TLSA"
      },
      "source": [
        "Show the 10 top ranked genes per cluster 0, 1, ..., 7 in a dataframe."
      ]
    },
    {
      "cell_type": "code",
      "execution_count": null,
      "metadata": {
        "id": "zGYxqymbTLSB"
      },
      "outputs": [],
      "source": [
        "pd.DataFrame(adata.uns['rank_genes_groups']['names']).head(5)"
      ]
    },
    {
      "cell_type": "markdown",
      "metadata": {
        "id": "TEvh7aCtTLSB"
      },
      "source": [
        "Get a table with the scores and groups."
      ]
    },
    {
      "cell_type": "code",
      "execution_count": null,
      "metadata": {
        "id": "NBiTpEMQTLSB"
      },
      "outputs": [],
      "source": [
        "result = adata.uns['rank_genes_groups']\n",
        "groups = result['names'].dtype.names\n",
        "pd.DataFrame(\n",
        "    {group + '_' + key[:1]: result[key][group]\n",
        "    for group in groups for key in ['names', 'pvals']}).head(5)"
      ]
    },
    {
      "cell_type": "markdown",
      "metadata": {
        "id": "iZP1rzTKTLSB"
      },
      "source": [
        "Compare to a single cluster: "
      ]
    },
    {
      "cell_type": "code",
      "execution_count": null,
      "metadata": {
        "id": "1O_0uYQsTLSB"
      },
      "outputs": [],
      "source": [
        "sc.tl.rank_genes_groups(adata, 'leiden', groups=['0'], reference='1', method='wilcoxon')\n",
        "sc.pl.rank_genes_groups(adata, groups=['0'], n_genes=20)"
      ]
    },
    {
      "cell_type": "markdown",
      "metadata": {
        "id": "n1CVVS5KTLSC"
      },
      "source": [
        "If we want a more detailed view for a certain group, use `sc.pl.rank_genes_groups_violin`."
      ]
    },
    {
      "cell_type": "code",
      "execution_count": null,
      "metadata": {
        "id": "c7JHSKaKTLSC"
      },
      "outputs": [],
      "source": [
        "sc.pl.rank_genes_groups_violin(adata, groups='0', n_genes=8)"
      ]
    },
    {
      "cell_type": "markdown",
      "metadata": {
        "id": "rSqq2-3STLSC"
      },
      "source": [
        "Reload the object with the computed differential expression (i.e. DE via a comparison with the rest of the groups):"
      ]
    },
    {
      "cell_type": "code",
      "execution_count": null,
      "metadata": {
        "id": "YmkPq53jTLSC"
      },
      "outputs": [],
      "source": [
        "adata = sc.read(results_file)"
      ]
    },
    {
      "cell_type": "code",
      "execution_count": null,
      "metadata": {
        "id": "Lbxfav3eTLSC"
      },
      "outputs": [],
      "source": [
        "sc.pl.rank_genes_groups_violin(adata, groups='0', n_genes=8)"
      ]
    },
    {
      "cell_type": "markdown",
      "metadata": {
        "id": "wjF7WkhbTLSC"
      },
      "source": [
        "If you want to compare a certain gene across groups, use the following."
      ]
    },
    {
      "cell_type": "code",
      "execution_count": null,
      "metadata": {
        "id": "eJ1JDTS1TLSC"
      },
      "outputs": [],
      "source": [
        "sc.pl.violin(adata, ['CST3', 'NKG7', 'PPBP'], groupby='leiden')"
      ]
    },
    {
      "cell_type": "markdown",
      "metadata": {
        "id": "_LbhoaKkTLSC"
      },
      "source": [
        "Actually mark the cell types."
      ]
    },
    {
      "cell_type": "code",
      "execution_count": null,
      "metadata": {
        "id": "L8v_j1QVTLSC"
      },
      "outputs": [],
      "source": [
        "new_cluster_names = [\n",
        "    'CD4 T', 'CD14 Monocytes',\n",
        "    'B', 'CD8 T', \n",
        "    'NK', 'FCGR3A Monocytes',\n",
        "    'Dendritic', 'Megakaryocytes']\n",
        "adata.rename_categories('leiden', new_cluster_names)"
      ]
    },
    {
      "cell_type": "code",
      "execution_count": null,
      "metadata": {
        "id": "Nzeciu3YTLSC"
      },
      "outputs": [],
      "source": [
        "sc.pl.umap(adata, color='leiden', legend_loc='on data', title='', frameon=False, save='.pdf')"
      ]
    },
    {
      "cell_type": "markdown",
      "metadata": {
        "id": "Ai4GOW65TLSD"
      },
      "source": [
        "Now that we annotated the cell types, let us visualize the marker genes."
      ]
    },
    {
      "cell_type": "code",
      "execution_count": null,
      "metadata": {
        "id": "RFoo-ldUTLSD"
      },
      "outputs": [],
      "source": [
        "sc.pl.dotplot(adata, marker_genes, groupby='leiden');"
      ]
    },
    {
      "cell_type": "markdown",
      "metadata": {
        "id": "Nbq37_ZpTLSD"
      },
      "source": [
        "There is also a very compact violin plot."
      ]
    },
    {
      "cell_type": "code",
      "execution_count": null,
      "metadata": {
        "id": "2rXX1kHDTLSD"
      },
      "outputs": [],
      "source": [
        "sc.pl.stacked_violin(adata, marker_genes, groupby='leiden', rotation=90);"
      ]
    },
    {
      "cell_type": "markdown",
      "metadata": {
        "id": "tnRJxY_1TLSD"
      },
      "source": [
        "During the course of this analysis, the AnnData accumlated the following annotations."
      ]
    },
    {
      "cell_type": "code",
      "execution_count": null,
      "metadata": {
        "id": "YpEYp8cyTLSD"
      },
      "outputs": [],
      "source": [
        "adata"
      ]
    },
    {
      "cell_type": "code",
      "execution_count": null,
      "metadata": {
        "id": "AvgKjl-YTLSD"
      },
      "outputs": [],
      "source": [
        "adata.write(results_file, compression='gzip')  # `compression='gzip'` saves disk space, but slows down writing and subsequent reading"
      ]
    },
    {
      "cell_type": "markdown",
      "metadata": {
        "id": "H5cj82z-TLSD"
      },
      "source": [
        "Get a rough overview of the file using `h5ls`, which has many options - for more details see [here](https://github.com/theislab/scanpy_usage/blob/master/170505_seurat/info_h5ad.md). The file format might still be subject to further optimization in the future. All reading functions will remain backwards-compatible, though."
      ]
    },
    {
      "cell_type": "markdown",
      "metadata": {
        "id": "vmk9qeg-TLSD"
      },
      "source": [
        "If you want to share this file with people who merely want to use it for visualization, a simple way to reduce the file size is by removing the dense scaled and corrected data matrix. The file still contains the raw data used in the visualizations in `adata.raw`."
      ]
    },
    {
      "cell_type": "code",
      "execution_count": null,
      "metadata": {
        "id": "0-J2qSOYTLSD"
      },
      "outputs": [],
      "source": [
        "adata.raw.to_adata().write('./write/pbmc3k_withoutX.h5ad')"
      ]
    },
    {
      "cell_type": "markdown",
      "metadata": {
        "id": "SFgWkv4_TLSE"
      },
      "source": [
        "If you want to export to \"csv\", you have the following options:"
      ]
    },
    {
      "cell_type": "code",
      "execution_count": null,
      "metadata": {
        "id": "TidFpB-3TLSE"
      },
      "outputs": [],
      "source": [
        "# Export single fields of the annotation of observations\n",
        "# adata.obs[['n_counts', 'louvain_groups']].to_csv(\n",
        "#     './write/pbmc3k_corrected_louvain_groups.csv')\n",
        "\n",
        "# Export single columns of the multidimensional annotation\n",
        "# adata.obsm.to_df()[['X_pca1', 'X_pca2']].to_csv(\n",
        "#     './write/pbmc3k_corrected_X_pca.csv')\n",
        "\n",
        "# Or export everything except the data using `.write_csvs`.\n",
        "# Set `skip_data=False` if you also want to export the data.\n",
        "# adata.write_csvs(results_file[:-5], )"
      ]
    }
  ],
  "metadata": {
    "anaconda-cloud": {},
    "colab": {
      "name": "Preprocessing1.ipynb",
      "provenance": [],
      "collapsed_sections": [],
      "machine_shape": "hm",
      "include_colab_link": true
    },
    "kernelspec": {
      "display_name": "Python 3",
      "language": "python",
      "name": "python3"
    },
    "language_info": {
      "codemirror_mode": {
        "name": "ipython",
        "version": 3
      },
      "file_extension": ".py",
      "mimetype": "text/x-python",
      "name": "python",
      "nbconvert_exporter": "python",
      "pygments_lexer": "ipython3",
      "version": "3.7.6"
    },
    "accelerator": "GPU",
    "gpuClass": "standard"
  },
  "nbformat": 4,
  "nbformat_minor": 0
}