{
  "cells": [
    {
      "cell_type": "markdown",
      "metadata": {
        "id": "view-in-github",
        "colab_type": "text"
      },
      "source": [
        "<a href=\"https://colab.research.google.com/github/jialun1221/scRNA-seq/blob/main/Preprocessing1.ipynb\" target=\"_parent\"><img src=\"https://colab.research.google.com/assets/colab-badge.svg\" alt=\"Open In Colab\"/></a>"
      ]
    },
    {
      "cell_type": "markdown",
      "metadata": {
        "id": "A_ORnM1dTLRw"
      },
      "source": [
        "# Preprocessing and clustering PD astrocytes\n",
        "### Part 1. Data selection"
      ]
    },
    {
      "cell_type": "markdown",
      "metadata": {
        "id": "x79TUSPbTLRx"
      },
      "source": [
        "In May 2017, this started out as a demonstration that Scanpy would allow to reproduce most of Seurat's [guided clustering tutorial](http://satijalab.org/seurat/pbmc3k_tutorial.html) ([Satija et al., 2015](https://doi.org/10.1038/nbt.3192)).\n",
        "\n",
        "We gratefully acknowledge Seurat's authors for the tutorial! In the meanwhile, we have added and removed a few pieces.\n",
        "\n",
        "The data consist of *3k PBMCs from a Healthy Donor* and are freely available from 10x Genomics ([here](http://cf.10xgenomics.com/samples/cell-exp/1.1.0/pbmc3k/pbmc3k_filtered_gene_bc_matrices.tar.gz) from this [webpage](https://support.10xgenomics.com/single-cell-gene-expression/datasets/1.1.0/pbmc3k)). On a unix system, you can uncomment and run the following to download and unpack the data. The last line creates a directory for writing processed data."
      ]
    },
    {
      "cell_type": "markdown",
      "source": [
        "In this notebook, we will compute ***Data Selection***. We will drop the cells that cotain Lewy Body Dementia, and create a new AnnData object that contains only PD and control cells. All other features of the original AnnData will reamin."
      ],
      "metadata": {
        "id": "pD0A5jAdoGdP"
      }
    },
    {
      "cell_type": "code",
      "execution_count": null,
      "metadata": {
        "id": "H2XzbNDhTLRz"
      },
      "outputs": [],
      "source": [
        "#import packages \n",
        "!pip install scanpy\n",
        "import numpy as np\n",
        "import pandas as pd\n",
        "import scanpy as sc"
      ]
    },
    {
      "cell_type": "code",
      "execution_count": null,
      "metadata": {
        "id": "iU69DOMLTjYJ",
        "colab": {
          "base_uri": "https://localhost:8080/"
        },
        "outputId": "37dd4b13-b136-473e-c997-adf84c7a480c"
      },
      "outputs": [
        {
          "output_type": "stream",
          "name": "stdout",
          "text": [
            "mkdir: cannot create directory ‘data’: File exists\n",
            "mkdir: cannot create directory ‘write’: File exists\n"
          ]
        }
      ],
      "source": [
        "#make directories for file storage\n",
        "!mkdir data\n",
        "!mkdir write"
      ]
    },
    {
      "cell_type": "code",
      "execution_count": null,
      "metadata": {
        "colab": {
          "base_uri": "https://localhost:8080/"
        },
        "id": "9AW_Ik4PTLRz",
        "outputId": "66dc41d3-ca7c-483e-c945-f17f9d46765d"
      },
      "outputs": [
        {
          "output_type": "stream",
          "name": "stdout",
          "text": [
            "scanpy==1.9.1 anndata==0.8.0 umap==0.5.3 numpy==1.21.6 scipy==1.7.3 pandas==1.3.5 scikit-learn==1.0.2 statsmodels==0.12.2 python-igraph==0.9.11 pynndescent==0.5.7\n"
          ]
        }
      ],
      "source": [
        "sc.settings.verbosity = 3             # verbosity: errors (0), warnings (1), info (2), hints (3)\n",
        "sc.logging.print_header()\n",
        "sc.settings.set_figure_params(dpi=80, facecolor='white')"
      ]
    },
    {
      "cell_type": "code",
      "execution_count": null,
      "metadata": {
        "id": "HtWevVTnTLR0"
      },
      "outputs": [],
      "source": [
        "# results_file = 'write/pd_astro.h5ad'  # the file that will store the analysis results"
      ]
    },
    {
      "cell_type": "code",
      "source": [
        "# pca_file = 'write/pca.h5ad'"
      ],
      "metadata": {
        "id": "e4L7PDjeom2Y"
      },
      "execution_count": null,
      "outputs": []
    },
    {
      "cell_type": "code",
      "source": [
        "#file to store new Anndata object \n",
        "new_anndata = 'write/new_anndata.h5ad'"
      ],
      "metadata": {
        "id": "d4p15BNDeKy-"
      },
      "execution_count": null,
      "outputs": []
    },
    {
      "cell_type": "markdown",
      "metadata": {
        "id": "PxunX4PZTLR0"
      },
      "source": [
        "Read in the count matrix into an [AnnData](https://anndata.readthedocs.io/en/latest/anndata.AnnData.html) object, which holds many slots for annotations and different representations of the data. It also comes with its own HDF5-based file format: `.h5ad`."
      ]
    },
    {
      "cell_type": "code",
      "source": [
        "!pip install --quiet scvi-tools[tutorials]\n",
        "import scvi"
      ],
      "metadata": {
        "colab": {
          "base_uri": "https://localhost:8080/"
        },
        "id": "2JAEYY8ApMgp",
        "outputId": "eb9250cb-aff4-45ba-ab5b-2c80b1e16031"
      },
      "execution_count": null,
      "outputs": [
        {
          "output_type": "stream",
          "name": "stderr",
          "text": [
            "INFO:pytorch_lightning.utilities.seed:Global seed set to 0\n"
          ]
        }
      ]
    },
    {
      "cell_type": "code",
      "source": [
        "from google.colab import drive\n",
        "drive.mount('/content/drive')"
      ],
      "metadata": {
        "colab": {
          "base_uri": "https://localhost:8080/"
        },
        "id": "n8EHAmHZl1-v",
        "outputId": "ad638bff-bd8b-4abf-f7a6-ad78e885ec99"
      },
      "execution_count": null,
      "outputs": [
        {
          "output_type": "stream",
          "name": "stdout",
          "text": [
            "Mounted at /content/drive\n"
          ]
        }
      ]
    },
    {
      "cell_type": "code",
      "source": [
        "adata = scvi.data.read_h5ad(\"drive/MyDrive/PD_astro.h5ad\") "
      ],
      "metadata": {
        "id": "sP-Eonwql35G"
      },
      "execution_count": null,
      "outputs": []
    },
    {
      "cell_type": "code",
      "source": [
        "adata"
      ],
      "metadata": {
        "colab": {
          "base_uri": "https://localhost:8080/"
        },
        "id": "LRJAmcgW-zUz",
        "outputId": "6f34e5a0-a1f4-440e-a2e2-4e6b3c6e173b"
      },
      "execution_count": null,
      "outputs": [
        {
          "output_type": "execute_result",
          "data": {
            "text/plain": [
              "AnnData object with n_obs × n_vars = 33506 × 41625\n",
              "    obs: 'orig.ident', 'nCount_RNA', 'nFeature_RNA', 'Cell_Subtype', 'Cell_Type', 'disease__ontology_label', 'organ__ontology_label'\n",
              "    var: 'features'"
            ]
          },
          "metadata": {},
          "execution_count": 8
        }
      ]
    },
    {
      "cell_type": "markdown",
      "metadata": {
        "id": "Fpcr6MU1TLR1"
      },
      "source": [
        "\n",
        "\n",
        "**Note**\n",
        "    \n",
        "Start with some basic checking."
      ]
    },
    {
      "cell_type": "code",
      "execution_count": null,
      "metadata": {
        "id": "vSyjs6mTTLR1"
      },
      "outputs": [],
      "source": [
        "adata.var_names #this gives genes!"
      ]
    },
    {
      "cell_type": "code",
      "source": [
        "adata.obs_names #this are labels"
      ],
      "metadata": {
        "id": "xG4097QPGVVz"
      },
      "execution_count": null,
      "outputs": []
    },
    {
      "cell_type": "code",
      "source": [
        "#Check how many rows are unwanted data.\n",
        "adata.obs.loc[adata.obs['disease__ontology_label'].str.contains(\"Lewy body dementia\", case=False)]"
      ],
      "metadata": {
        "id": "V_POk3lPwbQB"
      },
      "execution_count": null,
      "outputs": []
    },
    {
      "cell_type": "markdown",
      "metadata": {
        "id": "AIz4O4mLTLR1"
      },
      "source": [
        "###Data selection"
      ]
    },
    {
      "cell_type": "code",
      "execution_count": null,
      "metadata": {
        "id": "gMz2WxCIVCAW"
      },
      "outputs": [],
      "source": [
        "!pip install matplotlib==3.1.3\n",
        "from numpy import inf"
      ]
    },
    {
      "cell_type": "markdown",
      "source": [
        "Drop the Lewy body dementia:"
      ],
      "metadata": {
        "id": "-ZBMJbO90-2l"
      }
    },
    {
      "cell_type": "code",
      "source": [
        "adata.obs = adata.obs.reset_index() #Set index for the labels\n",
        "k = adata.obs #create a variable for further uses (a DataFrame)\n",
        "# print(k)"
      ],
      "metadata": {
        "id": "inia9_acKdh4"
      },
      "execution_count": null,
      "outputs": []
    },
    {
      "cell_type": "code",
      "source": [
        "y = k.index[k['disease__ontology_label'] == 'Lewy body dementia'].tolist() #get the index that contains the Lewy Body Dementia samples, stored in variable y (a list)\n",
        "# print(y)"
      ],
      "metadata": {
        "id": "TT9xaD0FMpWj"
      },
      "execution_count": null,
      "outputs": []
    },
    {
      "cell_type": "code",
      "source": [
        "m = adata.X.toarray() #convert sparse matrix X to array"
      ],
      "metadata": {
        "id": "0Uo-w1JfXgO9"
      },
      "execution_count": null,
      "outputs": []
    },
    {
      "cell_type": "markdown",
      "source": [
        "Conduct data selection separately in adata.X and adata.obs. "
      ],
      "metadata": {
        "id": "vuWmuNj0ek8A"
      }
    },
    {
      "cell_type": "code",
      "source": [
        "m = np.delete(m, obj = y, axis=0) #delete rows that contain Lewy Body Dementia according to the previously generated index stored in y"
      ],
      "metadata": {
        "id": "ytUXbJEaZP8R"
      },
      "execution_count": null,
      "outputs": []
    },
    {
      "cell_type": "code",
      "source": [
        "#drop command for adata.obs\n",
        "adata.obs.drop(adata.obs.index[adata.obs['disease__ontology_label'] == 'Lewy body dementia'], inplace=True)\n",
        "adata.obs"
      ],
      "metadata": {
        "id": "JYt1WDzi0899"
      },
      "execution_count": null,
      "outputs": []
    },
    {
      "cell_type": "markdown",
      "source": [
        "##making new AnnData object ##"
      ],
      "metadata": {
        "id": "8K2VfprPFr9r"
      }
    },
    {
      "cell_type": "code",
      "source": [
        "pip install anndata"
      ],
      "metadata": {
        "id": "zr4qWdBsSTe2"
      },
      "execution_count": null,
      "outputs": []
    },
    {
      "cell_type": "code",
      "source": [
        "#Command for making a new AnnData object. For each parameter, need to make a deep copy of the original object.\n",
        "new = sc.AnnData(X = m,\n",
        "  obs = adata.obs.copy(),\n",
        "  var = adata.var.copy(),\n",
        "  uns = adata.uns.copy(),\n",
        "  obsm = adata.obsm.copy(),\n",
        "  varm = adata.varm.copy(),\n",
        "  layers = adata.layers.copy(),\n",
        "  raw = adata.raw.copy(),\n",
        "  dtype = \"float32\",\n",
        "  shape = None,\n",
        "  #filename = NULL,\n",
        "  #filemode = NULL,\n",
        "  obsp = adata.obsp.copy(),\n",
        "  varp = adata.varp\n",
        "  )\n",
        "#varp = adata.varp.copy() would give me error but direct assignment would not"
      ],
      "metadata": {
        "colab": {
          "base_uri": "https://localhost:8080/"
        },
        "id": "rv7BADSnRtlI",
        "outputId": "e5596b4e-5dfc-4e23-cb23-75a225806560"
      },
      "execution_count": null,
      "outputs": [
        {
          "output_type": "stream",
          "name": "stderr",
          "text": [
            "/usr/local/lib/python3.7/dist-packages/anndata/_core/anndata.py:121: ImplicitModificationWarning: Transforming to str index.\n",
            "  warnings.warn(\"Transforming to str index.\", ImplicitModificationWarning)\n"
          ]
        }
      ]
    },
    {
      "cell_type": "code",
      "source": [
        "#A random line that I found necessary for the object to work. \n",
        "new.__dict__['_raw'].__dict__['_var'] = adata.__dict__['_raw'].__dict__['_var'].rename(columns={'_index': 'features'})"
      ],
      "metadata": {
        "id": "14kGcJNOfVRd"
      },
      "execution_count": null,
      "outputs": []
    },
    {
      "cell_type": "code",
      "source": [
        "new.write(new_anndata)"
      ],
      "metadata": {
        "id": "COWdueR5dx0S"
      },
      "execution_count": null,
      "outputs": []
    },
    {
      "cell_type": "code",
      "source": [
        "print(adata.X.shape, new.X.shape) #Now the new AnnData object is generated. Check the dimension!"
      ],
      "metadata": {
        "colab": {
          "base_uri": "https://localhost:8080/"
        },
        "id": "sZC69AV3bAKV",
        "outputId": "6dbd0b6d-4d5d-41b4-b5c3-a3a69fc6ee4a"
      },
      "execution_count": null,
      "outputs": [
        {
          "output_type": "stream",
          "name": "stdout",
          "text": [
            "(33506, 41625) (26535, 41625)\n"
          ]
        }
      ]
    },
    {
      "cell_type": "markdown",
      "source": [
        "A new AnnData object is created, and stored in the Colab disk. Navigate to the folder button on the left side panel, and click on \"write\", you will find the `new_anndata.h5ad file` here. Please either download it to your local disk, then upload to your google drive; or move to your drive folder by dragging it to the `drive` folder. \n",
        "\n",
        "---\n",
        "The purpose of creating a new AnnData is to keep the accessibility of other features, stored in `adata.obsm`, `adata.varm`, etc. \n"
      ],
      "metadata": {
        "id": "zikgBXqOiDiB"
      }
    }
  ],
  "metadata": {
    "anaconda-cloud": {},
    "colab": {
      "name": "Preprocessing1.ipynb",
      "provenance": [],
      "collapsed_sections": [],
      "machine_shape": "hm",
      "include_colab_link": true
    },
    "kernelspec": {
      "display_name": "Python 3",
      "language": "python",
      "name": "python3"
    },
    "language_info": {
      "codemirror_mode": {
        "name": "ipython",
        "version": 3
      },
      "file_extension": ".py",
      "mimetype": "text/x-python",
      "name": "python",
      "nbconvert_exporter": "python",
      "pygments_lexer": "ipython3",
      "version": "3.7.6"
    },
    "accelerator": "GPU",
    "gpuClass": "standard"
  },
  "nbformat": 4,
  "nbformat_minor": 0
}