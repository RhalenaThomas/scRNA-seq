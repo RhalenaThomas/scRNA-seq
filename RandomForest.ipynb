{
  "nbformat": 4,
  "nbformat_minor": 0,
  "metadata": {
    "colab": {
      "name": "RandomForest.ipynb",
      "provenance": [],
      "collapsed_sections": [],
      "authorship_tag": "ABX9TyPOaxH16FTW6SIVihILctzk",
      "include_colab_link": true
    },
    "kernelspec": {
      "name": "python3",
      "display_name": "Python 3"
    },
    "language_info": {
      "name": "python"
    }
  },
  "cells": [
    {
      "cell_type": "markdown",
      "metadata": {
        "id": "view-in-github",
        "colab_type": "text"
      },
      "source": [
        "<a href=\"https://colab.research.google.com/github/jialun1221/scRNA-seq/blob/main/RandomForest.ipynb\" target=\"_parent\"><img src=\"https://colab.research.google.com/assets/colab-badge.svg\" alt=\"Open In Colab\"/></a>"
      ]
    },
    {
      "cell_type": "markdown",
      "source": [
        "####Install pakcages"
      ],
      "metadata": {
        "id": "C20-fkuEX8mR"
      }
    },
    {
      "cell_type": "code",
      "source": [
        "!pip3 install torch torchvision matplotlib\n",
        "!pip3 install --upgrade pillow==8.1.0\n",
        "#if branch is stable, will install via pypi, else will install from source\n",
        "import sys\n",
        "branch = \"stable\"\n",
        "IN_COLAB = \"google.colab\" in sys.modules\n",
        "\n",
        "if IN_COLAB and branch == \"stable\":\n",
        "    !pip install --quiet scvi-tools[tutorials]\n",
        "elif IN_COLAB and branch != \"stable\":\n",
        "    !pip install --quiet --upgrade jsonschema\n",
        "    !pip install --quiet git+https://github.com/yoseflab/scvi-tools@$branch#egg=scvi-tools[tutorials]"
      ],
      "metadata": {
        "id": "e_ithghu9k8p"
      },
      "execution_count": null,
      "outputs": []
    },
    {
      "cell_type": "code",
      "execution_count": null,
      "metadata": {
        "id": "CfZHtCYKvJdP"
      },
      "outputs": [],
      "source": [
        "import numpy as np\n",
        "import pandas as pd\n",
        "import scanpy as sc\n",
        "import scvi\n",
        "import seaborn as sns\n",
        "\n",
        "from sklearn import preprocessing \n",
        "from matplotlib import pyplot as plt\n",
        "from sklearn.ensemble import RandomForestClassifier\n",
        "from sklearn.metrics import accuracy_score, confusion_matrix, classification_report"
      ]
    },
    {
      "cell_type": "code",
      "source": [
        "import importlib\n",
        "required_libraries = ['torch', 'torchvision', 'PIL', 'matplotlib', \n",
        "                      'numpy', 'pandas']\n",
        "for lib in required_libraries:\n",
        "    if importlib.util.find_spec(lib) is None:\n",
        "        print(\"%s unavailable\" % lib)"
      ],
      "metadata": {
        "id": "VPwCFIk3-LmP"
      },
      "execution_count": null,
      "outputs": []
    },
    {
      "cell_type": "markdown",
      "source": [
        "#### **Mount your google drive to access file stored there.**\n",
        "######If accessing the file from local disk, place the file in the same directory as this script, and use the following line of code\n",
        "\n",
        "```\n",
        "# PD_astro = sc.read_h5ad(\"pd_astro.h5ad\")\n",
        "```\n",
        "Note, the file you load in should be the one generated from running the preprocessing script, which already eliminated some samples (rows). This data matrix should contain only 50 features, and 7491 training samples, stored in \n",
        "```\n",
        "# adata.obsm['X_pca']\n",
        "``` \n",
        "\n"
      ],
      "metadata": {
        "id": "KxdsTQMdYk9c"
      }
    },
    {
      "cell_type": "code",
      "source": [
        "from google.colab import drive\n",
        "drive.mount('/content/drive')"
      ],
      "metadata": {
        "colab": {
          "base_uri": "https://localhost:8080/"
        },
        "id": "auYL6dvJ_RXz",
        "outputId": "baf6d55f-864b-4cc6-d275-115643c5600f"
      },
      "execution_count": null,
      "outputs": [
        {
          "output_type": "stream",
          "name": "stdout",
          "text": [
            "Drive already mounted at /content/drive; to attempt to forcibly remount, call drive.mount(\"/content/drive\", force_remount=True).\n"
          ]
        }
      ]
    },
    {
      "cell_type": "code",
      "source": [
        "#read the preprocessed data with PCA = 50\n",
        "adata = scvi.data.read_h5ad(\"drive/MyDrive/pca_in_obsm.h5ad\")"
      ],
      "metadata": {
        "id": "WDIbL7t4_iN-"
      },
      "execution_count": null,
      "outputs": []
    },
    {
      "cell_type": "code",
      "source": [
        "bdata = scvi.data.read_h5ad(\"drive/MyDrive/pca_in_obsm_2500.h5ad\")"
      ],
      "metadata": {
        "id": "2ksnciRl7Har"
      },
      "execution_count": null,
      "outputs": []
    },
    {
      "cell_type": "code",
      "source": [
        "bdata"
      ],
      "metadata": {
        "colab": {
          "base_uri": "https://localhost:8080/"
        },
        "id": "ROlSIVWP7NYx",
        "outputId": "2cc39f21-5de3-4610-bbcc-7d02b1a2573c"
      },
      "execution_count": null,
      "outputs": [
        {
          "output_type": "execute_result",
          "data": {
            "text/plain": [
              "AnnData object with n_obs × n_vars = 7491 × 2500\n",
              "    obs: 'index', 'orig.ident', 'nCount_RNA', 'nFeature_RNA', 'Cell_Subtype', 'Cell_Type', 'disease__ontology_label', 'organ__ontology_label', 'n_genes', 'n_genes_by_counts', 'total_counts', 'total_counts_mt', 'pct_counts_mt', 'log1p_n_genes_by_counts', 'log1p_total_counts', 'pct_counts_in_top_50_genes', 'pct_counts_in_top_100_genes', 'pct_counts_in_top_200_genes', 'pct_counts_in_top_500_genes', 'total_counts_mito', 'log1p_total_counts_mito', 'pct_counts_mito'\n",
              "    var: 'features', 'n_cells', 'mt', 'n_cells_by_counts', 'mean_counts', 'pct_dropout_by_counts', 'total_counts', 'mito', 'log1p_mean_counts', 'log1p_total_counts', 'highly_variable', 'means', 'dispersions', 'dispersions_norm', 'mean', 'std'\n",
              "    uns: 'hvg', 'log1p', 'pca'\n",
              "    obsm: 'X_pca'\n",
              "    varm: 'PCs'"
            ]
          },
          "metadata": {},
          "execution_count": 50
        }
      ]
    },
    {
      "cell_type": "code",
      "source": [
        "adata"
      ],
      "metadata": {
        "colab": {
          "base_uri": "https://localhost:8080/"
        },
        "id": "Da__RHiY7QEX",
        "outputId": "7f9b8d76-3744-476e-f32e-56eda9ae2f00"
      },
      "execution_count": null,
      "outputs": [
        {
          "output_type": "execute_result",
          "data": {
            "text/plain": [
              "AnnData object with n_obs × n_vars = 7491 × 3849\n",
              "    obs: 'index', 'orig.ident', 'nCount_RNA', 'nFeature_RNA', 'Cell_Subtype', 'Cell_Type', 'disease__ontology_label', 'organ__ontology_label', 'n_genes', 'n_genes_by_counts', 'total_counts', 'total_counts_mt', 'pct_counts_mt', 'log1p_n_genes_by_counts', 'log1p_total_counts', 'pct_counts_in_top_50_genes', 'pct_counts_in_top_100_genes', 'pct_counts_in_top_200_genes', 'pct_counts_in_top_500_genes', 'total_counts_mito', 'log1p_total_counts_mito', 'pct_counts_mito'\n",
              "    var: 'features', 'n_cells', 'mt', 'n_cells_by_counts', 'mean_counts', 'pct_dropout_by_counts', 'total_counts', 'mito', 'log1p_mean_counts', 'log1p_total_counts', 'highly_variable', 'means', 'dispersions', 'dispersions_norm', 'mean', 'std'\n",
              "    uns: 'hvg', 'log1p', 'pca'\n",
              "    obsm: 'X_pca'\n",
              "    varm: 'PCs'"
            ]
          },
          "metadata": {},
          "execution_count": 51
        }
      ]
    },
    {
      "cell_type": "code",
      "source": [
        "print(adata) #check the anndata structure\n",
        "print(adata.obsm['X_pca'].shape) #check the shape, it should be (7491, 50)"
      ],
      "metadata": {
        "colab": {
          "base_uri": "https://localhost:8080/"
        },
        "id": "mN0tdv2xPGdC",
        "outputId": "ca35cf02-7ead-4178-ee77-35fec7d63a70"
      },
      "execution_count": null,
      "outputs": [
        {
          "output_type": "stream",
          "name": "stdout",
          "text": [
            "AnnData object with n_obs × n_vars = 7491 × 3849\n",
            "    obs: 'index', 'orig.ident', 'nCount_RNA', 'nFeature_RNA', 'Cell_Subtype', 'Cell_Type', 'disease__ontology_label', 'organ__ontology_label', 'n_genes', 'n_genes_by_counts', 'total_counts', 'total_counts_mt', 'pct_counts_mt', 'log1p_n_genes_by_counts', 'log1p_total_counts', 'pct_counts_in_top_50_genes', 'pct_counts_in_top_100_genes', 'pct_counts_in_top_200_genes', 'pct_counts_in_top_500_genes', 'total_counts_mito', 'log1p_total_counts_mito', 'pct_counts_mito'\n",
            "    var: 'features', 'n_cells', 'mt', 'n_cells_by_counts', 'mean_counts', 'pct_dropout_by_counts', 'total_counts', 'mito', 'log1p_mean_counts', 'log1p_total_counts', 'highly_variable', 'means', 'dispersions', 'dispersions_norm', 'mean', 'std'\n",
            "    uns: 'hvg', 'log1p', 'pca'\n",
            "    obsm: 'X_pca'\n",
            "    varm: 'PCs'\n",
            "(7491, 50)\n"
          ]
        }
      ]
    },
    {
      "cell_type": "markdown",
      "source": [
        "The file name is pca_in_obsm.h5ad. \n",
        "The previous file name (highly variable genes with n_features = 3799 is called pd_astro-2.h5ad"
      ],
      "metadata": {
        "id": "bZ2kS67lNTEN"
      }
    },
    {
      "cell_type": "markdown",
      "source": [
        "####**Select out your training data and labels, slightly modify it for training.**"
      ],
      "metadata": {
        "id": "3VrUuSl3c2sA"
      }
    },
    {
      "cell_type": "code",
      "source": [
        "adata.obs = adata.obs.reset_index() #reset the index for X, so the column number starts from 0"
      ],
      "metadata": {
        "id": "p1iEG28sl8OD"
      },
      "execution_count": null,
      "outputs": []
    },
    {
      "cell_type": "markdown",
      "source": [
        "Select your X and y directly from adata.obsm and adata.obs."
      ],
      "metadata": {
        "id": "SnJqEWmePzgD"
      }
    },
    {
      "cell_type": "code",
      "source": [
        "X = pd.DataFrame(adata.obsm['X_pca'])\n",
        "y = adata.obs['disease__ontology_label'].replace({\"normal\": \"0\", \"Parkinson disease\": \"1\"})"
      ],
      "metadata": {
        "id": "5ZATRR6uSzXy"
      },
      "execution_count": null,
      "outputs": []
    },
    {
      "cell_type": "code",
      "source": [
        "# adata.obs['disease__ontology_label'].str.findall(\"Lewy body dementia\")\n",
        "# adata.obs.loc[adata.obs['disease__ontology_label'].str.contains(\"Lewy body dementia\", case=True)]\n",
        "# scRNAdf_X = pd.DataFrame(adata.obsm['X_pca'])\n",
        "# scRNAdf_Y = adata.obs['disease__ontology_label'].reset_index()\n",
        "# scRNAdf = scRNAdf_X.join(scRNAdf_Y) \n",
        "# print(scRNAdf)\n",
        "# type(scRNAdf)\n",
        "# no_index = scRNAdf.drop('index', axis=1)\n",
        "# no_index\n",
        "# newdf = no_index.drop(index=no_index[no_index['disease__ontology_label'].str.contains('Lewy body dementia')].index)\n",
        "# newdf[\"disease__ontology_label\"] = newdf[\"disease__ontology_label\"].replace({\"normal\": \"0\", \"Parkinson disease\": \"1\"})\n",
        "# newdf\n",
        "# X = newdf[list(newdf.columns[0:3799])]\n",
        "# y = newdf['disease__ontology_label']"
      ],
      "metadata": {
        "id": "S_xjCEWLqnSE"
      },
      "execution_count": null,
      "outputs": []
    },
    {
      "cell_type": "markdown",
      "source": [
        "####**Run the Random Forest Classifier from Scikit Learn**"
      ],
      "metadata": {
        "id": "6RN-1ogPfqJv"
      }
    },
    {
      "cell_type": "markdown",
      "source": [
        "install packages, and set the seed to get the same result each time."
      ],
      "metadata": {
        "id": "Kk2ZMgbQFcQj"
      }
    },
    {
      "cell_type": "code",
      "source": [
        "import torch\n",
        "import numpy as np\n",
        "import torch.nn as nn\n",
        "import torch.nn.functional as F\n",
        "import torch.optim as optim\n",
        "import torchvision\n",
        "import scanpy as sc\n",
        "\n",
        "from torch.utils.data import TensorDataset\n",
        "\n",
        "use_gpu = torch.cuda.is_available()\n",
        "device = torch.device(\"cuda:0\" if use_gpu else \"cpu\")\n",
        "\n",
        "print(\"Torch version: \", torch.__version__)\n",
        "print(\"GPU Available: {}\".format(use_gpu))"
      ],
      "metadata": {
        "colab": {
          "base_uri": "https://localhost:8080/"
        },
        "id": "MQG4aqiPA7ih",
        "outputId": "04696e47-0724-4f6c-eea6-e249699903f2"
      },
      "execution_count": null,
      "outputs": [
        {
          "output_type": "stream",
          "name": "stdout",
          "text": [
            "Torch version:  1.12.1+cu113\n",
            "GPU Available: False\n"
          ]
        }
      ]
    },
    {
      "cell_type": "code",
      "source": [
        "seed = 4321\n",
        "np.random.seed(seed) # Set the random seed of numpy for the data split.\n",
        "torch.manual_seed(seed)\n",
        "torch.cuda.manual_seed(seed)"
      ],
      "metadata": {
        "id": "0tqb-d8-A89M"
      },
      "execution_count": null,
      "outputs": []
    },
    {
      "cell_type": "markdown",
      "source": [
        "Split the data into training and testing set."
      ],
      "metadata": {
        "id": "1G-ZlVH0NW6N"
      }
    },
    {
      "cell_type": "code",
      "source": [
        "#train test split\n",
        "from sklearn.model_selection import train_test_split\n",
        "X_train, X_test, y_train, y_test = train_test_split(X, y, test_size=0.3, random_state=0)"
      ],
      "metadata": {
        "id": "y2CZNE2pA-4r"
      },
      "execution_count": null,
      "outputs": []
    },
    {
      "cell_type": "code",
      "source": [
        "from sklearn.linear_model import LogisticRegression\n",
        "from sklearn.feature_selection import SelectFromModel\n",
        "from sklearn.ensemble import RandomForestClassifier"
      ],
      "metadata": {
        "id": "s1wx_AnIBTyl"
      },
      "execution_count": null,
      "outputs": []
    },
    {
      "cell_type": "markdown",
      "source": [
        "Fit the model with the training set, with 100 trees."
      ],
      "metadata": {
        "id": "moiZu0ctNf3-"
      }
    },
    {
      "cell_type": "code",
      "source": [
        "forest = RandomForestClassifier(random_state=0,n_estimators = 100)\n",
        "forest.fit(X_train, y_train)"
      ],
      "metadata": {
        "colab": {
          "base_uri": "https://localhost:8080/"
        },
        "id": "aCudnuh-Mumq",
        "outputId": "028880e9-1348-48c8-f138-7c592737af20"
      },
      "execution_count": null,
      "outputs": [
        {
          "output_type": "execute_result",
          "data": {
            "text/plain": [
              "RandomForestClassifier(random_state=0)"
            ]
          },
          "metadata": {},
          "execution_count": 60
        }
      ]
    },
    {
      "cell_type": "markdown",
      "source": [
        "Test the model with the testing set. "
      ],
      "metadata": {
        "id": "kt1vYYa6OO_L"
      }
    },
    {
      "cell_type": "code",
      "source": [
        "y_pred_test = forest.predict(X_test)"
      ],
      "metadata": {
        "id": "zwcwPMbWnt5F"
      },
      "execution_count": null,
      "outputs": []
    },
    {
      "cell_type": "code",
      "source": [
        "accuracy_score(y_test, y_pred_test)"
      ],
      "metadata": {
        "colab": {
          "base_uri": "https://localhost:8080/"
        },
        "id": "dWdPdv-Dn_-h",
        "outputId": "f224e8d9-cee7-4538-9ab9-13384280be86"
      },
      "execution_count": null,
      "outputs": [
        {
          "output_type": "execute_result",
          "data": {
            "text/plain": [
              "0.9733096085409253"
            ]
          },
          "metadata": {},
          "execution_count": 62
        }
      ]
    },
    {
      "cell_type": "code",
      "source": [
        "# View confusion matrix for test data and predictions\n",
        "confusion_matrix(y_test, y_pred_test)"
      ],
      "metadata": {
        "colab": {
          "base_uri": "https://localhost:8080/"
        },
        "id": "vPJ-DHVnngLc",
        "outputId": "2931f881-1853-4a16-daab-6a2512b2c19b"
      },
      "execution_count": null,
      "outputs": [
        {
          "output_type": "execute_result",
          "data": {
            "text/plain": [
              "array([[ 953,   46],\n",
              "       [  14, 1235]])"
            ]
          },
          "metadata": {},
          "execution_count": 63
        }
      ]
    },
    {
      "cell_type": "code",
      "source": [
        "# Get and reshape confusion matrix data\n",
        "matrix = confusion_matrix(y_test, y_pred_test)\n",
        "matrix = matrix.astype('float') / matrix.sum(axis=1)[:, np.newaxis]\n",
        "matrix"
      ],
      "metadata": {
        "id": "eveYkbgLpb65",
        "colab": {
          "base_uri": "https://localhost:8080/"
        },
        "outputId": "10bbd4d5-a09f-40a5-d7c1-ddff937d770b"
      },
      "execution_count": null,
      "outputs": [
        {
          "output_type": "execute_result",
          "data": {
            "text/plain": [
              "array([[0.95395395, 0.04604605],\n",
              "       [0.01120897, 0.98879103]])"
            ]
          },
          "metadata": {},
          "execution_count": 64
        }
      ]
    },
    {
      "cell_type": "code",
      "source": [
        "!pip install matplotlib==3.1.3 #install matplotlib"
      ],
      "metadata": {
        "colab": {
          "base_uri": "https://localhost:8080/",
          "height": 429
        },
        "id": "-iFPuzN6Ouy5",
        "outputId": "c92dcfec-f708-435b-e47b-940bcdbdd946"
      },
      "execution_count": null,
      "outputs": [
        {
          "output_type": "stream",
          "name": "stdout",
          "text": [
            "Looking in indexes: https://pypi.org/simple, https://us-python.pkg.dev/colab-wheels/public/simple/\n",
            "Collecting matplotlib==3.1.3\n",
            "  Using cached matplotlib-3.1.3-cp37-cp37m-manylinux1_x86_64.whl (13.1 MB)\n",
            "Requirement already satisfied: cycler>=0.10 in /usr/local/lib/python3.7/dist-packages (from matplotlib==3.1.3) (0.11.0)\n",
            "Requirement already satisfied: kiwisolver>=1.0.1 in /usr/local/lib/python3.7/dist-packages (from matplotlib==3.1.3) (1.4.4)\n",
            "Requirement already satisfied: numpy>=1.11 in /usr/local/lib/python3.7/dist-packages (from matplotlib==3.1.3) (1.21.6)\n",
            "Requirement already satisfied: pyparsing!=2.0.4,!=2.1.2,!=2.1.6,>=2.0.1 in /usr/local/lib/python3.7/dist-packages (from matplotlib==3.1.3) (3.0.9)\n",
            "Requirement already satisfied: python-dateutil>=2.1 in /usr/local/lib/python3.7/dist-packages (from matplotlib==3.1.3) (2.8.2)\n",
            "Requirement already satisfied: typing-extensions in /usr/local/lib/python3.7/dist-packages (from kiwisolver>=1.0.1->matplotlib==3.1.3) (4.1.1)\n",
            "Requirement already satisfied: six>=1.5 in /usr/local/lib/python3.7/dist-packages (from python-dateutil>=2.1->matplotlib==3.1.3) (1.15.0)\n",
            "Installing collected packages: matplotlib\n",
            "  Attempting uninstall: matplotlib\n",
            "    Found existing installation: matplotlib 3.5.3\n",
            "    Uninstalling matplotlib-3.5.3:\n",
            "      Successfully uninstalled matplotlib-3.5.3\n",
            "\u001b[31mERROR: pip's dependency resolver does not currently take into account all the packages that are installed. This behaviour is the source of the following dependency conflicts.\n",
            "scanpy 1.9.1 requires matplotlib>=3.4, but you have matplotlib 3.1.3 which is incompatible.\u001b[0m\n",
            "Successfully installed matplotlib-3.1.3\n"
          ]
        },
        {
          "output_type": "display_data",
          "data": {
            "application/vnd.colab-display-data+json": {
              "pip_warning": {
                "packages": [
                  "matplotlib",
                  "mpl_toolkits"
                ]
              }
            }
          },
          "metadata": {}
        }
      ]
    },
    {
      "cell_type": "code",
      "source": [
        "# Build the confusion matrix plot\n",
        "plt.figure(figsize=(16,7))\n",
        "sns.set(font_scale=1.4)\n",
        "sns.heatmap(matrix, annot=True, annot_kws={'size':10},\n",
        "            cmap=plt.cm.Greens, linewidths=0.2)"
      ],
      "metadata": {
        "colab": {
          "base_uri": "https://localhost:8080/",
          "height": 453
        },
        "id": "X3xsu9GZpga-",
        "outputId": "ef506ccc-b193-416f-ffc9-6e78fe0efa64"
      },
      "execution_count": null,
      "outputs": [
        {
          "output_type": "execute_result",
          "data": {
            "text/plain": [
              "<matplotlib.axes._subplots.AxesSubplot at 0x7fda8be25190>"
            ]
          },
          "metadata": {},
          "execution_count": 66
        },
        {
          "output_type": "display_data",
          "data": {
            "text/plain": [
              "<Figure size 1152x504 with 2 Axes>"
            ],
            "image/png": "[encoded data removed]"
          },
          "metadata": {}
        }
      ]
    },
    {
      "cell_type": "code",
      "source": [
        "# View the classification report for test data and predictions\n",
        "print(classification_report(y_test, y_pred_test))"
      ],
      "metadata": {
        "colab": {
          "base_uri": "https://localhost:8080/"
        },
        "id": "3_Z8WBJ1rfVQ",
        "outputId": "036b07a4-5040-4d08-ba96-af3c4e8e14cd"
      },
      "execution_count": null,
      "outputs": [
        {
          "output_type": "stream",
          "name": "stdout",
          "text": [
            "              precision    recall  f1-score   support\n",
            "\n",
            "           0       0.99      0.95      0.97       999\n",
            "           1       0.96      0.99      0.98      1249\n",
            "\n",
            "    accuracy                           0.97      2248\n",
            "   macro avg       0.97      0.97      0.97      2248\n",
            "weighted avg       0.97      0.97      0.97      2248\n",
            "\n"
          ]
        }
      ]
    },
    {
      "cell_type": "markdown",
      "source": [
        "####**Find the most used PCs of the model Part 1.**\n",
        "This part of code looks at the selected features from the top 10 principle components that are used for Random Forest Classification\n",
        "\n",
        "---\n",
        "\n"
      ],
      "metadata": {
        "id": "OQ6NRmfeTJYH"
      }
    },
    {
      "cell_type": "markdown",
      "source": [
        "*SelectFromModel will select those features which importance is greater than the mean importance of all the features by default, but we can alter this threshold if we want.*"
      ],
      "metadata": {
        "id": "mJKcMZD8WN-q"
      }
    },
    {
      "cell_type": "code",
      "source": [
        "sel = SelectFromModel(RandomForestClassifier(n_estimators = 100))"
      ],
      "metadata": {
        "id": "37KQexpZxVsF"
      },
      "execution_count": null,
      "outputs": []
    },
    {
      "cell_type": "code",
      "source": [
        "sel.fit(X_train, y_train)"
      ],
      "metadata": {
        "colab": {
          "base_uri": "https://localhost:8080/"
        },
        "id": "me0pDcRGxalm",
        "outputId": "f28ad848-53ef-448a-b0d7-2d6e3a673c77"
      },
      "execution_count": null,
      "outputs": [
        {
          "output_type": "execute_result",
          "data": {
            "text/plain": [
              "SelectFromModel(estimator=RandomForestClassifier())"
            ]
          },
          "metadata": {},
          "execution_count": 69
        }
      ]
    },
    {
      "cell_type": "markdown",
      "source": [
        " Get the integer index of the features selected. If indices is False, this is a boolean array of shape `[# input features]`, in which an element is True iff its corresponding feature is selected for retention. If indices is True, this is an integer array of shape `[# output features] `whose values are indices into the input feature vector."
      ],
      "metadata": {
        "id": "Fpdb4gnyZtg9"
      }
    },
    {
      "cell_type": "code",
      "source": [
        "sel.get_support()"
      ],
      "metadata": {
        "colab": {
          "base_uri": "https://localhost:8080/"
        },
        "id": "gYvg6bK5xq4R",
        "outputId": "b5359437-911d-4ec7-fe95-1efbfa5bee09"
      },
      "execution_count": null,
      "outputs": [
        {
          "output_type": "execute_result",
          "data": {
            "text/plain": [
              "array([ True, False,  True,  True,  True, False,  True,  True,  True,\n",
              "       False,  True,  True, False,  True, False, False, False, False,\n",
              "       False, False, False, False, False, False, False, False, False,\n",
              "       False, False, False, False, False, False, False, False, False,\n",
              "       False, False, False, False, False, False, False, False, False,\n",
              "       False, False, False, False, False])"
            ]
          },
          "metadata": {},
          "execution_count": 70
        }
      ]
    },
    {
      "cell_type": "code",
      "source": [
        "selected_feat= X_train.columns[(sel.get_support())] #look for indexes selected features in the X_train columns.\n",
        "print(len(selected_feat)) #gives number of selected features\n",
        "print(selected_feat) #gives indexes of selected features"
      ],
      "metadata": {
        "colab": {
          "base_uri": "https://localhost:8080/"
        },
        "id": "IH1Hn7eYxgP0",
        "outputId": "81b26736-225b-47f7-971e-3c799d17406d"
      },
      "execution_count": null,
      "outputs": [
        {
          "output_type": "stream",
          "name": "stdout",
          "text": [
            "10\n",
            "Int64Index([0, 2, 3, 4, 6, 7, 8, 10, 11, 13], dtype='int64')\n"
          ]
        }
      ]
    },
    {
      "cell_type": "code",
      "source": [
        "selfea = selected_feat.to_numpy() #convert the list into a numpy array\n",
        "print(selfea) #this array starts from i = 0, but in scanpy the index starts from i = 1"
      ],
      "metadata": {
        "id": "tQuDnbz1HuEs",
        "colab": {
          "base_uri": "https://localhost:8080/"
        },
        "outputId": "68914b9b-ad8c-4bcc-b1ae-8f665fd260e4"
      },
      "execution_count": null,
      "outputs": [
        {
          "output_type": "stream",
          "name": "stdout",
          "text": [
            "[ 0  2  3  4  6  7  8 10 11 13]\n"
          ]
        }
      ]
    },
    {
      "cell_type": "code",
      "source": [
        "selfea = selfea+1 #add 1 to all the list index so that we can access pca plot as the (i+1)th \"PCs\" in the pca_loading function "
      ],
      "metadata": {
        "id": "ss8Nw7UaJOn-"
      },
      "execution_count": null,
      "outputs": []
    },
    {
      "cell_type": "markdown",
      "source": [
        "Plot the most used genes from each of the selected features(PCs). Parameters are adjustable (ex. can change n_points to show all or selected number of genes)"
      ],
      "metadata": {
        "id": "trORc5F8cW4F"
      }
    },
    {
      "cell_type": "code",
      "source": [
        "fig = sc.pl.pca_loadings(adata, components = selfea, include_lowest = True, n_points = 5, save ='most_used_genes.png' )"
      ],
      "metadata": {
        "colab": {
          "base_uri": "https://localhost:8080/",
          "height": 422
        },
        "id": "2pPOvetWF6_S",
        "outputId": "68a9baf5-856e-4166-b996-93936550ef55"
      },
      "execution_count": null,
      "outputs": [
        {
          "output_type": "stream",
          "name": "stdout",
          "text": [
            "WARNING: saving figure to file figures/pca_loadingsmost_used_genes.png\n"
          ]
        },
        {
          "output_type": "display_data",
          "data": {
            "text/plain": [
              "<Figure size 2160x576 with 10 Axes>"
            ],
            "image/png": "[encoded data removed]"
          },
          "metadata": {}
        }
      ]
    },
    {
      "cell_type": "markdown",
      "source": [
        "**Write the top 10 gene components of the PCs into a dataframe**"
      ],
      "metadata": {
        "id": "2-mBYO0WhVJO"
      }
    },
    {
      "cell_type": "code",
      "source": [
        "#To-Do"
      ],
      "metadata": {
        "id": "NK27EuCxheCp"
      },
      "execution_count": null,
      "outputs": []
    },
    {
      "cell_type": "code",
      "source": [
        "print(adata.var_names)\n",
        "type(adata.var_names)"
      ],
      "metadata": {
        "colab": {
          "base_uri": "https://localhost:8080/"
        },
        "id": "Bdcf12O6yrD1",
        "outputId": "42b6e51a-5dad-4f1a-8472-d38fd91b6fd2"
      },
      "execution_count": null,
      "outputs": [
        {
          "output_type": "stream",
          "name": "stdout",
          "text": [
            "Index(['RP11-206L10.9', 'RP11-54O7.16', 'ISG15', 'SDF4', 'B3GALT6', 'SCNN1D',\n",
            "       'RP4-758J18.13', 'VWA1', 'ATAD3C', 'RP11-181G12.4',\n",
            "       ...\n",
            "       'TOB1-AS1', 'U47924.30', 'VTRNA1-3', 'VTRNA2-1', 'WDR16', 'WDR52',\n",
            "       'WDR96', 'WWTR1-IT1', 'ZRANB2-AS2', 'hsa-mir-490'],\n",
            "      dtype='object', length=3849)\n"
          ]
        },
        {
          "output_type": "execute_result",
          "data": {
            "text/plain": [
              "pandas.core.indexes.base.Index"
            ]
          },
          "metadata": {},
          "execution_count": 76
        }
      ]
    },
    {
      "cell_type": "markdown",
      "source": [
        "Rank genes according to contributions to PCs."
      ],
      "metadata": {
        "id": "ulnVJLWrF7xO"
      }
    },
    {
      "cell_type": "markdown",
      "source": [
        "####**Find the feature importance of the model Part 2.**\n",
        "This part of code looks at feature importances using the scikit learn method.\n",
        "\n",
        "---"
      ],
      "metadata": {
        "id": "cshg-RQnLpBK"
      }
    },
    {
      "cell_type": "code",
      "source": [
        "feature_names = [f\"feature {i}\" for i in range(X.shape[1])]\n",
        "print(feature_names)"
      ],
      "metadata": {
        "id": "PR5jDdKOEkME",
        "colab": {
          "base_uri": "https://localhost:8080/"
        },
        "outputId": "35f9f5ce-99d0-4b54-b613-0b3a52391805"
      },
      "execution_count": null,
      "outputs": [
        {
          "output_type": "stream",
          "name": "stdout",
          "text": [
            "['feature 0', 'feature 1', 'feature 2', 'feature 3', 'feature 4', 'feature 5', 'feature 6', 'feature 7', 'feature 8', 'feature 9', 'feature 10', 'feature 11', 'feature 12', 'feature 13', 'feature 14', 'feature 15', 'feature 16', 'feature 17', 'feature 18', 'feature 19', 'feature 20', 'feature 21', 'feature 22', 'feature 23', 'feature 24', 'feature 25', 'feature 26', 'feature 27', 'feature 28', 'feature 29', 'feature 30', 'feature 31', 'feature 32', 'feature 33', 'feature 34', 'feature 35', 'feature 36', 'feature 37', 'feature 38', 'feature 39', 'feature 40', 'feature 41', 'feature 42', 'feature 43', 'feature 44', 'feature 45', 'feature 46', 'feature 47', 'feature 48', 'feature 49']\n"
          ]
        }
      ]
    },
    {
      "cell_type": "code",
      "source": [
        "index = X.columns\n",
        "print(index) #feature name is a list of indexes "
      ],
      "metadata": {
        "colab": {
          "base_uri": "https://localhost:8080/"
        },
        "id": "GTryT4SoUR-X",
        "outputId": "a1a99d7b-17d9-4880-e5fb-b0bf7979d15d"
      },
      "execution_count": null,
      "outputs": [
        {
          "output_type": "stream",
          "name": "stdout",
          "text": [
            "RangeIndex(start=0, stop=50, step=1)\n"
          ]
        }
      ]
    },
    {
      "cell_type": "code",
      "source": [
        "import time\n",
        "import numpy as np\n",
        "\n",
        "start_time = time.time()\n",
        "importances = forest.feature_importances_\n",
        "std = np.std([tree.feature_importances_ for tree in forest.estimators_], axis=0)\n",
        "elapsed_time = time.time() - start_time\n",
        "\n",
        "print(f\"Elapsed time to compute the importances: {elapsed_time:.3f} seconds\")"
      ],
      "metadata": {
        "id": "JYlSh3KwLsKR",
        "colab": {
          "base_uri": "https://localhost:8080/"
        },
        "outputId": "88a9f6c6-8f38-4cf9-ca29-262e0fd71334"
      },
      "execution_count": null,
      "outputs": [
        {
          "output_type": "stream",
          "name": "stdout",
          "text": [
            "Elapsed time to compute the importances: 0.041 seconds\n"
          ]
        }
      ]
    },
    {
      "cell_type": "markdown",
      "source": [
        "This part of code ranks the 50 PCs from least important to most important. You can compare this with the plot of PCs from above."
      ],
      "metadata": {
        "id": "aw-n-uv8hrbb"
      }
    },
    {
      "cell_type": "code",
      "source": [
        "feats = {} # a dict to hold feature_name: feature_importance\n",
        "for feature, importance in zip(X.columns, forest.feature_importances_):\n",
        "    feats[feature] = importance #add the name/value pair \n",
        "\n",
        "imp = pd.DataFrame.from_dict(feats, orient='index').rename(columns={0: 'PCA-importance'})\n",
        "imp.sort_values(by='PCA-importance').plot(kind='bar', figsize=(20, 10), rot=45)"
      ],
      "metadata": {
        "colab": {
          "base_uri": "https://localhost:8080/",
          "height": 625
        },
        "id": "w6RbYxvZTm84",
        "outputId": "ddc5c07b-83ab-434f-ee64-8ea9a6015628"
      },
      "execution_count": null,
      "outputs": [
        {
          "output_type": "execute_result",
          "data": {
            "text/plain": [
              "<matplotlib.axes._subplots.AxesSubplot at 0x7fda8b2ea090>"
            ]
          },
          "metadata": {},
          "execution_count": 80
        },
        {
          "output_type": "display_data",
          "data": {
            "text/plain": [
              "<Figure size 1440x720 with 1 Axes>"
            ],
            "image/png": "[encoded data removed]"
          },
          "metadata": {}
        }
      ]
    },
    {
      "cell_type": "code",
      "source": [
        "print(importances)"
      ],
      "metadata": {
        "id": "Cwo_vD4vR5dh",
        "colab": {
          "base_uri": "https://localhost:8080/"
        },
        "outputId": "7863739b-3259-4e6d-8f01-4ec11d794410"
      },
      "execution_count": null,
      "outputs": [
        {
          "output_type": "stream",
          "name": "stdout",
          "text": [
            "[0.17247194 0.01893631 0.08194618 0.18160612 0.03681276 0.01287742\n",
            " 0.0429576  0.03086324 0.0612237  0.00991492 0.0281888  0.0614396\n",
            " 0.00916763 0.02432774 0.00983959 0.01230175 0.00996472 0.01107885\n",
            " 0.00875731 0.0081214  0.00710023 0.00835574 0.00865684 0.00715007\n",
            " 0.00658024 0.00739777 0.00814935 0.00593935 0.00478851 0.00570098\n",
            " 0.00525381 0.00481384 0.00515757 0.0050186  0.00500398 0.00486287\n",
            " 0.00519141 0.00467565 0.00488739 0.00564459 0.00473587 0.00437246\n",
            " 0.00477144 0.00482466 0.00486114 0.00430098 0.00405308 0.00491737\n",
            " 0.00512476 0.00491185]\n"
          ]
        }
      ]
    },
    {
      "cell_type": "markdown",
      "source": [
        "**Feature importance based on mean decrease in impurity**: This approach directly measures feature importance by observing how random re-shuffling (thus preserving the distribution of the variable) of each predictor influences model performance. "
      ],
      "metadata": {
        "id": "OGXwboBml_G5"
      }
    },
    {
      "cell_type": "code",
      "source": [
        "import pandas as pd\n",
        "\n",
        "forest_importances = pd.Series(importances, index=None) #series containing importances of each feature\n",
        "print(forest_importances.shape)\n",
        "top_importances = forest_importances.take([0,1,2,3,4,5,6,7,8,9], axis = 0) #take the top ten importances from the pandas series\n",
        "print(top_importances.shape)\n",
        "\n",
        "fig, ax = plt.subplots()\n",
        "top_importances.plot.bar()\n",
        "ax.set_title(\"Feature importances using MDI\")\n",
        "ax.set_ylabel(\"Mean decrease in impurity\")\n",
        "fig.tight_layout()"
      ],
      "metadata": {
        "id": "gT5eXEfnLz2E",
        "colab": {
          "base_uri": "https://localhost:8080/",
          "height": 317
        },
        "outputId": "94fb0c56-a852-449c-9f4c-16fdd7dad9da"
      },
      "execution_count": null,
      "outputs": [
        {
          "output_type": "stream",
          "name": "stdout",
          "text": [
            "(50,)\n",
            "(10,)\n"
          ]
        },
        {
          "output_type": "display_data",
          "data": {
            "text/plain": [
              "<Figure size 432x288 with 1 Axes>"
            ],
            "image/png": "[encoded data removed]"
          },
          "metadata": {}
        }
      ]
    },
    {
      "cell_type": "markdown",
      "source": [
        "**Permutation feature importance**: The permutation feature importance is defined to compute how much each feature contributes to decreasing the weighted impurity. This procedure breaks the relationship between the feature and the target, thus the drop in the model score is indicative of how much the model depends on the feature. [Check out full explanation here](https://towardsdatascience.com/explaining-feature-importance-by-example-of-a-random-forest-d9166011959e)"
      ],
      "metadata": {
        "id": "G7EGIFEAiDsf"
      }
    },
    {
      "cell_type": "code",
      "source": [
        "print(forest_importances)"
      ],
      "metadata": {
        "id": "zbb1Emk5Bwwt",
        "colab": {
          "base_uri": "https://localhost:8080/"
        },
        "outputId": "e3402760-d206-4ca0-dbbd-664c515da557"
      },
      "execution_count": null,
      "outputs": [
        {
          "output_type": "stream",
          "name": "stdout",
          "text": [
            "0     0.172472\n",
            "1     0.018936\n",
            "2     0.081946\n",
            "3     0.181606\n",
            "4     0.036813\n",
            "5     0.012877\n",
            "6     0.042958\n",
            "7     0.030863\n",
            "8     0.061224\n",
            "9     0.009915\n",
            "10    0.028189\n",
            "11    0.061440\n",
            "12    0.009168\n",
            "13    0.024328\n",
            "14    0.009840\n",
            "15    0.012302\n",
            "16    0.009965\n",
            "17    0.011079\n",
            "18    0.008757\n",
            "19    0.008121\n",
            "20    0.007100\n",
            "21    0.008356\n",
            "22    0.008657\n",
            "23    0.007150\n",
            "24    0.006580\n",
            "25    0.007398\n",
            "26    0.008149\n",
            "27    0.005939\n",
            "28    0.004789\n",
            "29    0.005701\n",
            "30    0.005254\n",
            "31    0.004814\n",
            "32    0.005158\n",
            "33    0.005019\n",
            "34    0.005004\n",
            "35    0.004863\n",
            "36    0.005191\n",
            "37    0.004676\n",
            "38    0.004887\n",
            "39    0.005645\n",
            "40    0.004736\n",
            "41    0.004372\n",
            "42    0.004771\n",
            "43    0.004825\n",
            "44    0.004861\n",
            "45    0.004301\n",
            "46    0.004053\n",
            "47    0.004917\n",
            "48    0.005125\n",
            "49    0.004912\n",
            "dtype: float64\n"
          ]
        }
      ]
    },
    {
      "cell_type": "markdown",
      "source": [
        "https://www.datacamp.com/tutorial/random-forests-classifier-python"
      ],
      "metadata": {
        "id": "tfwU7mn35_Oe"
      }
    },
    {
      "cell_type": "code",
      "source": [
        "from sklearn.inspection import permutation_importance\n",
        "\n",
        "start_time = time.time()\n",
        "result = permutation_importance(\n",
        "    forest, X_test, y_test, n_repeats=10, random_state=42, n_jobs=2\n",
        ")\n",
        "elapsed_time = time.time() - start_time\n",
        "print(f\"Elapsed time to compute the importances: {elapsed_time:.3f} seconds\")\n",
        "\n",
        "forest_importances = pd.Series(result.importances_mean, index=feature_names)"
      ],
      "metadata": {
        "colab": {
          "base_uri": "https://localhost:8080/"
        },
        "id": "Hx7wCBXqBfsm",
        "outputId": "7bd8061d-db90-47db-862f-4f0508b3443a"
      },
      "execution_count": null,
      "outputs": [
        {
          "output_type": "stream",
          "name": "stdout",
          "text": [
            "Elapsed time to compute the importances: 37.199 seconds\n"
          ]
        }
      ]
    },
    {
      "cell_type": "code",
      "source": [
        "fig, ax = plt.subplots()\n",
        "forest_importances.plot.bar(yerr=result.importances_std, ax=ax, figsize=(20, 10))\n",
        "ax.set_title(\"Feature importances using permutation on full model\")\n",
        "ax.set_ylabel(\"Mean accuracy decrease\")\n",
        "#fig.tight_layout()\n",
        "plt.show()"
      ],
      "metadata": {
        "colab": {
          "base_uri": "https://localhost:8080/",
          "height": 684
        },
        "id": "qHeop6yyBj0H",
        "outputId": "f160b4f0-b6e7-4157-ce55-e1e186050a2b"
      },
      "execution_count": null,
      "outputs": [
        {
          "output_type": "display_data",
          "data": {
            "text/plain": [
              "<Figure size 1440x720 with 1 Axes>"
            ],
            "image/png": "[encoded data removed]"
          },
          "metadata": {}
        }
      ]
    },
    {
      "cell_type": "code",
      "source": [
        "#run this on a single cell\n",
        "from sklearn.ensemble import RandomForestRegressor\n",
        "rf = RandomForestRegressor(n_estimators=100)\n",
        "rf.fit(X_train, y_train)\n",
        "rf.feature_importances_"
      ],
      "metadata": {
        "id": "SVc3rtDYnNKM",
        "colab": {
          "base_uri": "https://localhost:8080/"
        },
        "outputId": "0cf02552-e465-4c58-edfa-5729074162b6"
      },
      "execution_count": null,
      "outputs": [
        {
          "output_type": "execute_result",
          "data": {
            "text/plain": [
              "array([0.25197544, 0.0058487 , 0.06120122, 0.25364269, 0.03943038,\n",
              "       0.00335045, 0.03887968, 0.01035321, 0.0822854 , 0.00405002,\n",
              "       0.02716149, 0.11020968, 0.00427758, 0.01353089, 0.00367134,\n",
              "       0.00777768, 0.00503674, 0.00301562, 0.00229514, 0.00477558,\n",
              "       0.00233037, 0.00328155, 0.0042783 , 0.00339281, 0.00260394,\n",
              "       0.00203544, 0.00301116, 0.00247346, 0.00183981, 0.00235021,\n",
              "       0.0020668 , 0.00207058, 0.00160292, 0.00252829, 0.00205773,\n",
              "       0.00155472, 0.00208691, 0.00135729, 0.00266334, 0.00293604,\n",
              "       0.00192167, 0.00176008, 0.00182104, 0.00233135, 0.00144071,\n",
              "       0.00207991, 0.00164184, 0.00178806, 0.00191358, 0.00201117])"
            ]
          },
          "metadata": {},
          "execution_count": 86
        }
      ]
    }
  ]
}